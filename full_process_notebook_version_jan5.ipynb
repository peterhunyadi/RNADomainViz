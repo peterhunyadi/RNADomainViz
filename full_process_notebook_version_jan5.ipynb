{
 "cells": [
  {
   "cell_type": "markdown",
   "metadata": {},
   "source": [
    "# From kernel string to structure drawing\n",
    "\n",
    "### Task & Goal\n",
    "\n",
    "\n",
    "### Steps\n",
    "EXTRACT INFORMATION FROM STRING  \n",
    "DETERMINE STRUCTURE  \n",
    "DRAW SHAPES  "
   ]
  },
  {
   "cell_type": "code",
   "execution_count": 1,
   "metadata": {},
   "outputs": [],
   "source": [
    "import numpy as np\n",
    "import re\n",
    "import networkx as nx\n",
    "from matplotlib import pyplot as plt"
   ]
  },
  {
   "cell_type": "markdown",
   "metadata": {},
   "source": [
    "#### What is an invalid string?\n",
    "\n",
    "Invalid characters  \n",
    "Angle: [-179, 180]  \n",
    "etc."
   ]
  },
  {
   "cell_type": "code",
   "execution_count": 2,
   "metadata": {},
   "outputs": [],
   "source": [
    "#error handling step 1\n",
    "def check_string_valid(string):\n",
    "    if re.search(\"[$ß€]\", string): #all special characters?\n",
    "        raise Exception(\"bad string\")\n",
    "        \n",
    "#check_string_valid(\"@90 a ß90 b\")"
   ]
  },
  {
   "cell_type": "markdown",
   "metadata": {},
   "source": [
    "## EXTRACT INFORMATION FROM STRING\n",
    "\n",
    "First, count domains and create a table that has nrow corresponding to dom. count. As the string is very systematic, with a regional expression I can separate the domains with all their information given.  \n",
    "The good thing here is that the sequence of domains is clear from the string.  \n",
    "Most important is to know which domain is paired with which. As a human, when I find a bracket in the string, I look for its counterpart. This will have to be done in the second step and put the pairing info into a dictionary(?)."
   ]
  },
  {
   "cell_type": "code",
   "execution_count": 7,
   "metadata": {},
   "outputs": [],
   "source": [
    "#table(int) - cols: angle before dom, length, dom type?, if there is a strand break after  \n",
    "#dictionary - pairedness  \n",
    "#list of list - name of domains, their preliminary type \n",
    "\n",
    "def comprehend_string(string):\n",
    "    #separate domains/count\n",
    "    pattern = re.compile('@?-?[0-9]* ?[a-z|A-Z|0-9|\\*]+[ \\(]? ?\\+?|\\) ?\\+?')\n",
    "    dom_raw_list = pattern.findall(string)\n",
    "    dom_count = len(dom_raw_list)\n",
    "        \n",
    "    #create empty data structures     \n",
    "    struct_info_array = np.zeros((dom_count, 4), dtype = 'int') #3 cols rn, sb not needed here\n",
    "    name_list1 = []\n",
    "    \n",
    "    #loop through the raw domains, extract  \n",
    "    for dom_i in range(len(dom_raw_list)):\n",
    "        dom = dom_raw_list[dom_i]\n",
    "        dom = dom.strip()\n",
    "        \n",
    "        #fill table\n",
    "        if re.search(\"\\s\", dom):\n",
    "            dom_parts = re.split(\"\\s\", dom)\n",
    "            \n",
    "            for segm in dom_parts:\n",
    "                if segm[0] is \"@\": #col0 angle\n",
    "                    segm = segm.lstrip(\"@\")\n",
    "                    struct_info_array[dom_i, 0] = int(segm) #col0 to write to\n",
    "                    struct_info_array[dom_i, 1] = np.sign(int(segm)) #col1 to write to\n",
    "                    \n",
    "                elif segm is \"+\": #col2 strand break\n",
    "                    struct_info_array[dom_i, 2] = 1         #col2 to write to\n",
    "                else:\n",
    "                    name_list1.append(segm) #only keep the name part further\n",
    "        else:\n",
    "            name_list1.append(dom)\n",
    "        \n",
    "    #pairedness dictionary\n",
    "    paired_dict = {}\n",
    "    \n",
    "    for dom_i2 in range(len(dom_raw_list)):\n",
    "        if re.search(\"\\(\", dom_raw_list[dom_i2]):\n",
    "            bracket_count = 1\n",
    "            for next_dom in range(dom_i2+1, len(dom_raw_list)):\n",
    "                if re.search(\"\\(\", dom_raw_list[next_dom]):\n",
    "                    bracket_count += 1\n",
    "                elif re.search(\"\\)\", dom_raw_list[next_dom]):\n",
    "                    bracket_count -= 1\n",
    "                if bracket_count == 0:\n",
    "                    paired_dict[dom_i2] = next_dom\n",
    "                    break\n",
    "    \n",
    "    #name list of list / finding hairpin loops\n",
    "    #paireds in dict, hairpin loop known, other are unpaired -> substructure from these?\n",
    "    name_final_lol = []\n",
    "    \n",
    "    for dom_i3 in range(len(name_list1)):\n",
    "        \n",
    "        #paireds\n",
    "        if re.search(\"\\(\", name_list1[dom_i3]):\n",
    "            typ = \"paired\"\n",
    "            name = name_list1[dom_i3].strip(\"(+ \")\n",
    "        \n",
    "        #correcting closing bracket name\n",
    "        elif re.search(\"\\)\", name_list1[dom_i3]):\n",
    "            typ = \"paired\"\n",
    "            index_of_pair = list(paired_dict.keys())[list(paired_dict.values()).index(dom_i3)]\n",
    "            if re.search(\"\\*\", name_list1[index_of_pair]):\n",
    "                name = name_list1[index_of_pair].strip(\"\\(\").strip(\"\\*\")\n",
    "            else:\n",
    "                name = name_list1[index_of_pair].strip(\"\\(\") + \"*\"\n",
    "        \n",
    "        #all other are unpaireds\n",
    "        else:\n",
    "            typ = \"unpaired\"\n",
    "            name = name_list1[dom_i3].strip(\"+ \")\n",
    "        \n",
    "        name_final_lol.append([name, typ])\n",
    "        \n",
    "    return dom_raw_list, struct_info_array, paired_dict, name_final_lol"
   ]
  },
  {
   "cell_type": "code",
   "execution_count": 8,
   "metadata": {},
   "outputs": [
    {
     "data": {
      "text/plain": [
       "(array([[ -45,   -1,    0,    0],\n",
       "        [   0,    0,    0,    0],\n",
       "        [-135,   -1,    0,    0],\n",
       "        [   0,    0,    0,    0],\n",
       "        [   0,    0,    1,    0],\n",
       "        [   0,    0,    0,    0],\n",
       "        [   0,    0,    0,    0],\n",
       "        [   0,    0,    0,    0],\n",
       "        [   0,    0,    1,    0],\n",
       "        [   0,    0,    0,    0],\n",
       "        [   0,    0,    0,    0]]),\n",
       " {2: 10, 3: 6, 4: 5, 7: 9},\n",
       " [['d1S', 'unpaired'],\n",
       "  ['T2', 'unpaired'],\n",
       "  ['b', 'paired'],\n",
       "  ['a', 'paired'],\n",
       "  ['t2', 'paired'],\n",
       "  ['t2*', 'paired'],\n",
       "  ['a*', 'paired'],\n",
       "  ['c*', 'paired'],\n",
       "  ['t1*', 'unpaired'],\n",
       "  ['c', 'paired'],\n",
       "  ['b*', 'paired']])"
      ]
     },
     "execution_count": 8,
     "metadata": {},
     "output_type": "execute_result"
    }
   ],
   "source": [
    "string = \"@-45 d1S T2 @-135 b( a( t2( + ) ) c*( t1* + ) )\"\n",
    "comprehend_string(string)[1:4]"
   ]
  },
  {
   "cell_type": "code",
   "execution_count": 118,
   "metadata": {},
   "outputs": [
    {
     "data": {
      "text/plain": [
       "(array([[0, 0, 0, 0],\n",
       "        [0, 0, 0, 0],\n",
       "        [0, 0, 1, 0],\n",
       "        [0, 0, 0, 0],\n",
       "        [0, 0, 0, 0],\n",
       "        [0, 0, 0, 0],\n",
       "        [0, 0, 0, 0],\n",
       "        [0, 0, 1, 0],\n",
       "        [0, 0, 0, 0],\n",
       "        [0, 0, 0, 0],\n",
       "        [0, 0, 0, 0]]),\n",
       " {0: 10, 1: 9, 2: 4, 5: 8},\n",
       " [['t1', 'paired'],\n",
       "  ['c', 'paired'],\n",
       "  ['a', 'paired'],\n",
       "  ['t2*', 'unpaired'],\n",
       "  ['a*', 'paired'],\n",
       "  ['b*', 'paired'],\n",
       "  ['d2', 'unpaired'],\n",
       "  ['t3', 'unpaired'],\n",
       "  ['b', 'paired'],\n",
       "  ['c*', 'paired'],\n",
       "  ['t1*', 'paired']])"
      ]
     },
     "execution_count": 118,
     "metadata": {},
     "output_type": "execute_result"
    }
   ],
   "source": [
    "string2 = \"t1( c( a( + t2* ) b*( d2 t3 + ) ) )\"\n",
    "comprehend_string(string2)[1:4]"
   ]
  },
  {
   "cell_type": "code",
   "execution_count": 17,
   "metadata": {},
   "outputs": [
    {
     "data": {
      "text/plain": [
       "(array([[ -90,   -1,    0,    0],\n",
       "        [-135,   -1,    0,    0],\n",
       "        [ -90,   -1,    0,    0],\n",
       "        [   0,    0,    0,    0],\n",
       "        [   0,    0,    0,    0],\n",
       "        [-135,   -1,    0,    0],\n",
       "        [ -90,   -1,    0,    0],\n",
       "        [   0,    0,    0,    0],\n",
       "        [   0,    0,    0,    0],\n",
       "        [-135,   -1,    0,    0],\n",
       "        [-135,   -1,    0,    0],\n",
       "        [   0,    0,    0,    0],\n",
       "        [   0,    0,    0,    0],\n",
       "        [-135,   -1,    0,    0],\n",
       "        [   0,    0,    0,    0],\n",
       "        [   0,    0,    0,    0]]),\n",
       " {0: 14, 2: 4, 6: 8, 10: 12},\n",
       " [['aa', 'paired'],\n",
       "  ['i1', 'unpaired'],\n",
       "  ['da', 'paired'],\n",
       "  ['dl', 'unpaired'],\n",
       "  ['da*', 'paired'],\n",
       "  ['i2', 'unpaired'],\n",
       "  ['aca', 'paired'],\n",
       "  ['acl', 'unpaired'],\n",
       "  ['aca*', 'paired'],\n",
       "  ['vr', 'unpaired'],\n",
       "  ['pa', 'paired'],\n",
       "  ['pl', 'unpaired'],\n",
       "  ['pa*', 'paired'],\n",
       "  ['i3', 'unpaired'],\n",
       "  ['aa*', 'paired'],\n",
       "  ['c', 'unpaired']])"
      ]
     },
     "execution_count": 17,
     "metadata": {},
     "output_type": "execute_result"
    }
   ],
   "source": [
    "string3 = \"@-90 aa( @-135 i1 @-90 da( dl ) @-135 i2 @-90 aca( acl ) @-135 vr @-135 pa( pl ) @-135 i3 ) @0 c\"\n",
    "comprehend_string(string3)[1:4]"
   ]
  },
  {
   "cell_type": "markdown",
   "metadata": {},
   "source": [
    "## DETERMINE STRUCTURE \n",
    "\n",
    "### 1a. Create domain node graph\n",
    "Figure out if an unpaired region is from a special type - by making a network graph of the connected domains (either connected by sequence (red edge) or by pairedness (green edge)) we can find subgraphs that correspond to special domain structures that need to be handled differently.  "
   ]
  },
  {
   "cell_type": "code",
   "execution_count": 9,
   "metadata": {},
   "outputs": [],
   "source": [
    "def create_skeleton(dom_raw_list, paired_dict, name_final_lol):\n",
    "    #append edges to graph\n",
    "    G = nx.Graph()\n",
    "    \n",
    "    for dom_to_dom in range(len(name_final_lol)-1):\n",
    "        if re.search(\"\\+\", dom_raw_list[dom_to_dom]) is None:\n",
    "            G.add_edge(dom_to_dom, dom_to_dom+1, color='r') #domains that have a connection point are conn. with red edge\n",
    "    for pair in paired_dict:\n",
    "        G.add_edge(pair, paired_dict[pair], color='g') #paired domains are connected with green edge\n",
    "    \n",
    "    return G"
   ]
  },
  {
   "cell_type": "code",
   "execution_count": 10,
   "metadata": {},
   "outputs": [],
   "source": [
    "def draw_skeleton(G):\n",
    "    pos = nx.kamada_kawai_layout(G)\n",
    "    colors = [G[u][v]['color'] for u,v in G.edges()]\n",
    "    plt.figure(figsize=(16,9))\n",
    "\n",
    "    nx.draw_networkx(G, pos = pos, with_label = True, node_size=600,font_size=15, edge_color=colors, \n",
    "                     node_color='y', width=2)"
   ]
  },
  {
   "cell_type": "code",
   "execution_count": 11,
   "metadata": {},
   "outputs": [
    {
     "data": {
      "image/png": "[encoded data removed]",
      "text/plain": [
       "<Figure size 1152x648 with 1 Axes>"
      ]
     },
     "metadata": {},
     "output_type": "display_data"
    }
   ],
   "source": [
    "string = \"@-45 d1S T2 @-135 b( a( t2( + ) ) c*( t1* + ) )\"\n",
    "\n",
    "dom_raw_list, struct_info_array, paired_dict, name_final_lol = comprehend_string(string)\n",
    "skeleton_graph = create_skeleton(dom_raw_list, paired_dict, name_final_lol)\n",
    "draw_skeleton(skeleton_graph)"
   ]
  },
  {
   "cell_type": "code",
   "execution_count": 9,
   "metadata": {},
   "outputs": [
    {
     "data": {
      "image/png": "[encoded data removed]",
      "text/plain": [
       "<Figure size 1152x648 with 1 Axes>"
      ]
     },
     "metadata": {},
     "output_type": "display_data"
    }
   ],
   "source": [
    "string = \"a b( c ) d( e f( g h( + ) ) i j( k l( + ) m ) n o( p + q( + ) ) r )\"\n",
    "dom_raw_list, struct_info_array, paired_dict, name_final_lol = comprehend_string(string)\n",
    "skeleton_graph = create_skeleton(dom_raw_list, paired_dict, name_final_lol)\n",
    "draw_skeleton(skeleton_graph)"
   ]
  },
  {
   "cell_type": "code",
   "execution_count": 5,
   "metadata": {},
   "outputs": [
    {
     "data": {
      "image/png": "[encoded data removed]",
      "text/plain": [
       "<Figure size 1152x648 with 1 Axes>"
      ]
     },
     "metadata": {},
     "output_type": "display_data"
    }
   ],
   "source": [
    "string = \"@-90 aa( @-135 i1 @-90 da( dl ) @-135 i2 @-90 aca( acl ) @-135 vr @-135 pa( pl ) @-135 i3 ) @0 c\"\n",
    "\n",
    "dom_raw_list, struct_info_array, paired_dict, name_final_lol = comprehend_string(string)\n",
    "skeleton_graph = create_skeleton(dom_raw_list, paired_dict, name_final_lol)\n",
    "draw_skeleton(skeleton_graph)"
   ]
  },
  {
   "cell_type": "markdown",
   "metadata": {},
   "source": [
    "### 1b. Determining unpaired domain types\n",
    "Currently we check:   \n",
    "hairpin loop: easy, its neighbors are paired  \n",
    "unhinged: has only one neighbor domain - these will need extra care, especially ones resulting from strand break  \n",
    "bulgeloop: cycles with odd nodes and only 1! unpaired dom always has the strictly taken 'bulge'  \n",
    "multiloop: hard, as any number of unpaired doms can be connected with each other, only check r-g-r connection  \n",
    "crossroad: if a cycle is larger or equal to 6 nodes and has no unpaired domains, it is a crossroad\n",
    "\n",
    "nick - not tracked, but strand breaks will need much work in general"
   ]
  },
  {
   "cell_type": "code",
   "execution_count": 12,
   "metadata": {},
   "outputs": [],
   "source": [
    "def ds1_find_type_of_unpaired_v2(G, paired_dict, name_final_lol):\n",
    "    #index of ununpaireds - these don't need to be checked\n",
    "    paired_node_list = []\n",
    "    for node in paired_dict:\n",
    "        paired_node_list.append(node)\n",
    "        paired_node_list.append(paired_dict[node])\n",
    "    \n",
    "    #get unpaired too\n",
    "    unpaired_node_list = []\n",
    "    for node_index in range(len(name_final_lol)):\n",
    "        if node_index not in paired_node_list:\n",
    "            unpaired_node_list.append(node_index)\n",
    "    \n",
    "    #cycles of the skeleton graph\n",
    "    cycle_list_G = nx.cycle_basis(G) #neat!\n",
    "    multiloop_list = []\n",
    "    crossroad_list = []\n",
    "    \n",
    "    #look through cycles, where 3cycles are hairpin, 5c. are bulge and longer ones nest multiloops\n",
    "    for cycle in cycle_list_G:\n",
    "        if len(cycle) == 3: #always hairpin\n",
    "            for item in cycle:\n",
    "                if item in unpaired_node_list:\n",
    "                    name_final_lol[item][1] = \"hairpin loop\" #name altering\n",
    "                    unpaired_node_list.remove(item) #trim unpaired list from known items\n",
    "        elif len(cycle) > 3 & len(cycle) % 2 == 1: #current bulge def\n",
    "            unpaired_here = []\n",
    "            for item in cycle:\n",
    "                if item in unpaired_node_list:\n",
    "                    unpaired_here.append(item)\n",
    "            if len(unpaired_here) == 1:\n",
    "                name_final_lol[unpaired_here[0]][1] = \"bulgeloop\" #name altering\n",
    "                unpaired_node_list.remove(unpaired_here[0]) #trim unpaired list from known items\n",
    "         \n",
    "        #find multiloops, the corresponding domains are their own list item in multiloop_list\n",
    "        crossroad_tracker = True\n",
    "        \n",
    "        if len(cycle) >= 6:\n",
    "            curr_multiloop = []\n",
    "            for index in range(len(cycle)):\n",
    "                if cycle[index] in unpaired_node_list:\n",
    "                    crossroad_tracker = False\n",
    "                    \n",
    "                    if cycle[index-3] in unpaired_node_list :\n",
    "                        connections = [n for n in G.edges.data(nbunch=cycle[index-1])]\n",
    "                        for edge in connections:\n",
    "                            #only need to check paired edge between these2\n",
    "                            if edge[1] == cycle[index-2] and edge[2]['color'] is 'g': \n",
    "                                name_final_lol[cycle[index-3]][1] = \"multiloop\"\n",
    "                                name_final_lol[cycle[index]][1] = \"multiloop\" #altering names\n",
    "                                if cycle[index] not in curr_multiloop:\n",
    "                                    curr_multiloop.append(cycle[index])\n",
    "                                if cycle[index-3] not in curr_multiloop:\n",
    "                                    curr_multiloop.append(cycle[index-3])\n",
    "            if len(curr_multiloop) > 0:\n",
    "                multiloop_list.append(curr_multiloop)\n",
    "                for dom in curr_multiloop:\n",
    "                    unpaired_node_list.remove(dom) #trim unpaired list from known items\n",
    "            if crossroad_tracker is True: #if no unpaired region in cycle, it is a crossroad\n",
    "                crossroad_list.append(cycle)\n",
    "    \n",
    "    #unhinged sequence\n",
    "    for node_index in unpaired_node_list:\n",
    "        #first neighbors\n",
    "        direct_neigh = [n for n in G.neighbors(node_index)] #neighbors of current node\n",
    "        \n",
    "        #start from unhinged and go until all neighbors are unpaired\n",
    "        if len(direct_neigh) == 1:\n",
    "            name_final_lol[node_index][1] = \"unhinged\"\n",
    "            \n",
    "            next_neigh = direct_neigh\n",
    "            before = [node_index]\n",
    "            while len(next_neigh) == 1 and next_neigh[0] in unpaired_node_list:\n",
    "                name_final_lol[next_neigh[0]][1] = \"unhinged sequence\"\n",
    "                before.append(next_neigh[0])\n",
    "                next_neigh = [n for n in G.neighbors(next_neigh[0])]\n",
    "                next_neigh.remove(before[-2])\n",
    "            for step in before:\n",
    "                unpaired_node_list.remove(step) #bug with this line, cuts out 20 below, could implement it a bit diff\n",
    "    \n",
    "    #remaining is unknown but probably linear\n",
    "    for remain in unpaired_node_list:\n",
    "        name_final_lol[remain][1] = \"ambiguous\"\n",
    "    \n",
    "    return name_final_lol, multiloop_list, crossroad_list, cycle_list_G"
   ]
  },
  {
   "cell_type": "code",
   "execution_count": 13,
   "metadata": {},
   "outputs": [
    {
     "data": {
      "text/plain": [
       "([['a', 'unhinged'],\n",
       "  ['b', 'paired'],\n",
       "  ['c', 'multiloop'],\n",
       "  ['d', 'ambiguous'],\n",
       "  ['e', 'ambiguous'],\n",
       "  ['f', 'multiloop'],\n",
       "  ['b*', 'paired'],\n",
       "  ['g', 'unhinged sequence'],\n",
       "  ['h', 'unhinged sequence'],\n",
       "  ['i', 'unhinged sequence'],\n",
       "  ['j', 'unhinged']],\n",
       " [[2, 5]],\n",
       " [],\n",
       " [[2, 3, 4, 5, 6, 1]])"
      ]
     },
     "execution_count": 13,
     "metadata": {},
     "output_type": "execute_result"
    }
   ],
   "source": [
    "string = \"a b( c d e f ) g h i j\"\n",
    "dom_raw_list, struct_info_array, paired_dict, name_final_lol = comprehend_string(string)\n",
    "skeleton_graph = create_skeleton(dom_raw_list, paired_dict, name_final_lol)\n",
    "#draw_skeleton(skeleton_graph)\n",
    "ds1_find_type_of_unpaired_v2(skeleton_graph, paired_dict, name_final_lol)"
   ]
  },
  {
   "cell_type": "code",
   "execution_count": 8,
   "metadata": {},
   "outputs": [
    {
     "data": {
      "text/plain": [
       "([['a', 'unhinged'],\n",
       "  ['b', 'paired'],\n",
       "  ['c', 'hairpin loop'],\n",
       "  ['b*', 'paired'],\n",
       "  ['d', 'paired'],\n",
       "  ['e', 'multiloop'],\n",
       "  ['f', 'paired'],\n",
       "  ['g', 'bulgeloop'],\n",
       "  ['h', 'paired'],\n",
       "  ['h*', 'paired'],\n",
       "  ['f*', 'paired'],\n",
       "  ['i', 'multiloop'],\n",
       "  ['j', 'paired'],\n",
       "  ['k', 'multiloop'],\n",
       "  ['l', 'paired'],\n",
       "  ['l*', 'paired'],\n",
       "  ['m', 'multiloop'],\n",
       "  ['j*', 'paired'],\n",
       "  ['n', 'multiloop'],\n",
       "  ['o', 'paired'],\n",
       "  ['p', 'ambiguous'],\n",
       "  ['q', 'paired'],\n",
       "  ['q*', 'paired'],\n",
       "  ['o*', 'paired'],\n",
       "  ['r', 'multiloop'],\n",
       "  ['d*', 'paired']],\n",
       " [[16, 13], [5, 24, 11, 18]],\n",
       " [[2, 3, 1],\n",
       "  [16, 15, 14, 13, 12, 17],\n",
       "  [5, 6, 10, 11, 12, 17, 18, 19, 23, 24, 25, 4],\n",
       "  [9, 8, 7, 6, 10]])"
      ]
     },
     "execution_count": 8,
     "metadata": {},
     "output_type": "execute_result"
    }
   ],
   "source": [
    "string = \"a b( c ) d( e f( g h( + ) ) i j( k l( + ) m ) n o( p + q( + ) ) r )\"\n",
    "dom_raw_list, struct_info_array, paired_dict, name_final_lol = comprehend_string(string)\n",
    "skeleton_graph = create_skeleton(dom_raw_list, paired_dict, name_final_lol)\n",
    "ds1_find_type_of_unpaired_v2(skeleton_graph, paired_dict, name_final_lol)"
   ]
  },
  {
   "cell_type": "code",
   "execution_count": 12,
   "metadata": {},
   "outputs": [
    {
     "data": {
      "text/plain": [
       "([['a', 'paired'],\n",
       "  ['b', 'multiloop'],\n",
       "  ['c', 'paired'],\n",
       "  ['d', 'paired'],\n",
       "  ['e', 'hairpin loop'],\n",
       "  ['d*', 'paired'],\n",
       "  ['f', 'paired'],\n",
       "  ['f*', 'paired'],\n",
       "  ['c*', 'paired'],\n",
       "  ['g', 'multiloop'],\n",
       "  ['a*', 'paired'],\n",
       "  ['h', 'unhinged sequence'],\n",
       "  ['i', 'unhinged']],\n",
       " [[1, 9]],\n",
       " [[7, 6, 5, 3, 2, 8]],\n",
       " [[1, 2, 8, 9, 10, 0], [4, 5, 3], [7, 6, 5, 3, 2, 8]])"
      ]
     },
     "execution_count": 12,
     "metadata": {},
     "output_type": "execute_result"
    }
   ],
   "source": [
    "string = \"a( b c( d( e ) f( + )) g ) h i\"\n",
    "dom_raw_list, struct_info_array, paired_dict, name_final_lol = comprehend_string(string)\n",
    "skeleton_graph = create_skeleton(dom_raw_list, paired_dict, name_final_lol)\n",
    "ds1_find_type_of_unpaired_v2(skeleton_graph, paired_dict, name_final_lol)"
   ]
  },
  {
   "cell_type": "code",
   "execution_count": 13,
   "metadata": {},
   "outputs": [
    {
     "data": {
      "image/png": "[encoded data removed]",
      "text/plain": [
       "<Figure size 1152x648 with 1 Axes>"
      ]
     },
     "metadata": {},
     "output_type": "display_data"
    }
   ],
   "source": [
    "draw_skeleton(skeleton_graph)"
   ]
  },
  {
   "cell_type": "markdown",
   "metadata": {},
   "source": [
    "### 2. Angle completion\n",
    "Given angles determine the side for the substructure they are in. Using this, the whole column can be filled around the given info, if not provided, default is negative (-1) side."
   ]
  },
  {
   "cell_type": "code",
   "execution_count": 14,
   "metadata": {},
   "outputs": [],
   "source": [
    "def ds2_fill_side_col(struct_info_array, cycle_list_G):\n",
    "    dom_count = len(struct_info_array[:,1])\n",
    "    \n",
    "    #first loop through cycles\n",
    "    for cycle in cycle_list_G:\n",
    "        sides_there = []\n",
    "        for dom_cyc in cycle:\n",
    "            sides_there.append(struct_info_array[dom_cyc, 1])\n",
    "            \n",
    "        if 1 in sides_there and -1 in sides_there:\n",
    "            raise ValueError(f'conflicting angles with domains of index: {cycle}')   #not how should be handled\n",
    "        #pos substruc\n",
    "        if 1 in sides_there:\n",
    "            for dom_cyc in cycle:\n",
    "                struct_info_array[dom_cyc, 1] = 1\n",
    "        #neg substruc or all 0\n",
    "        else:\n",
    "            for dom_cyc in cycle:\n",
    "                struct_info_array[dom_cyc, 1] = -1\n",
    "    \n",
    "    #then remaining ones are just based on previous neighbor to look more homogenous\n",
    "    for dom_index in range(dom_count):\n",
    "        if struct_info_array[dom_index, 1] == 0: #don't change if already given side\n",
    "                if dom_index == 0:\n",
    "                    struct_info_array[0, 1] = -1\n",
    "                else:\n",
    "                    struct_info_array[dom_index, 1] = struct_info_array[dom_index-1, 1]\n",
    "        \n",
    "    return struct_info_array"
   ]
  },
  {
   "cell_type": "code",
   "execution_count": 18,
   "metadata": {},
   "outputs": [
    {
     "data": {
      "text/plain": [
       "array([[ 0, -1,  0,  0],\n",
       "       [ 0, -1,  0,  0],\n",
       "       [ 0, -1,  0,  0],\n",
       "       [ 0, -1,  0,  0],\n",
       "       [ 0, -1,  0,  0],\n",
       "       [ 0, -1,  0,  0],\n",
       "       [ 0, -1,  0,  0],\n",
       "       [ 0, -1,  0,  0],\n",
       "       [ 0, -1,  1,  0],\n",
       "       [ 0, -1,  0,  0],\n",
       "       [ 0, -1,  0,  0],\n",
       "       [ 0, -1,  0,  0],\n",
       "       [ 0, -1,  0,  0],\n",
       "       [ 0, -1,  0,  0],\n",
       "       [ 0, -1,  1,  0],\n",
       "       [ 0, -1,  0,  0],\n",
       "       [ 0, -1,  0,  0],\n",
       "       [ 0, -1,  0,  0],\n",
       "       [ 0, -1,  0,  0],\n",
       "       [ 0, -1,  0,  0],\n",
       "       [ 0, -1,  1,  0],\n",
       "       [ 0, -1,  1,  0],\n",
       "       [ 0, -1,  0,  0],\n",
       "       [ 0, -1,  0,  0],\n",
       "       [ 0, -1,  0,  0],\n",
       "       [ 0, -1,  0,  0]])"
      ]
     },
     "execution_count": 18,
     "metadata": {},
     "output_type": "execute_result"
    }
   ],
   "source": [
    "string = \"a b( c ) d( e f( g h( + ) ) i j( k l( + ) m ) n o( p + q( + ) ) r )\"\n",
    "dom_raw_list, struct_info_array, paired_dict, name_final_lol = comprehend_string(string)\n",
    "skeleton_graph = create_skeleton(dom_raw_list, paired_dict, name_final_lol)\n",
    "name_final_lol, multiloop_list, crossroad_list, cycle_list_G = ds1_find_type_of_unpaired_v2(skeleton_graph, paired_dict, name_final_lol)\n",
    "ds2_fill_side_col(struct_info_array, cycle_list_G)"
   ]
  },
  {
   "cell_type": "code",
   "execution_count": 17,
   "metadata": {},
   "outputs": [
    {
     "data": {
      "text/plain": [
       "array([[-90,  -1,   0,   0],\n",
       "       [  0,  -1,   0,   0],\n",
       "       [  0,  -1,   0,   0],\n",
       "       [-90,  -1,   0,   0],\n",
       "       [ 90,   1,   0,   0],\n",
       "       [  0,   1,   0,   0],\n",
       "       [  0,   1,   0,   0],\n",
       "       [ 90,   1,   0,   0]])"
      ]
     },
     "execution_count": 17,
     "metadata": {},
     "output_type": "execute_result"
    }
   ],
   "source": [
    "string = \"@-90 a( b ) @-90 c @90 d( e ) @90 f\"\n",
    "dom_raw_list, struct_info_array, paired_dict, name_final_lol = comprehend_string(string)\n",
    "skeleton_graph = create_skeleton(dom_raw_list, paired_dict, name_final_lol)\n",
    "name_final_lol, multiloop_list, crossroad_list, cycle_list_G = ds1_find_type_of_unpaired_v2(skeleton_graph, paired_dict, name_final_lol)\n",
    "ds2_fill_side_col(struct_info_array, cycle_list_G)"
   ]
  },
  {
   "cell_type": "code",
   "execution_count": 19,
   "metadata": {},
   "outputs": [
    {
     "ename": "ValueError",
     "evalue": "conflicting angles with domains of index: [2, 3, 4, 5, 6, 1]",
     "output_type": "error",
     "traceback": [
      "\u001b[1;31m---------------------------------------------------------------------------\u001b[0m",
      "\u001b[1;31mValueError\u001b[0m                                Traceback (most recent call last)",
      "\u001b[1;32m<ipython-input-19-f3416f33d2e0>\u001b[0m in \u001b[0;36m<module>\u001b[1;34m\u001b[0m\n\u001b[0;32m      3\u001b[0m \u001b[0mskeleton_graph\u001b[0m \u001b[1;33m=\u001b[0m \u001b[0mcreate_skeleton\u001b[0m\u001b[1;33m(\u001b[0m\u001b[0mdom_raw_list\u001b[0m\u001b[1;33m,\u001b[0m \u001b[0mpaired_dict\u001b[0m\u001b[1;33m,\u001b[0m \u001b[0mname_final_lol\u001b[0m\u001b[1;33m)\u001b[0m\u001b[1;33m\u001b[0m\u001b[1;33m\u001b[0m\u001b[0m\n\u001b[0;32m      4\u001b[0m \u001b[0mname_final_lol\u001b[0m\u001b[1;33m,\u001b[0m \u001b[0mmultiloop_list\u001b[0m\u001b[1;33m,\u001b[0m \u001b[0mcrossroad_list\u001b[0m\u001b[1;33m,\u001b[0m \u001b[0mcycle_list_G\u001b[0m \u001b[1;33m=\u001b[0m \u001b[0mds1_find_type_of_unpaired_v2\u001b[0m\u001b[1;33m(\u001b[0m\u001b[0mskeleton_graph\u001b[0m\u001b[1;33m,\u001b[0m \u001b[0mpaired_dict\u001b[0m\u001b[1;33m,\u001b[0m \u001b[0mname_final_lol\u001b[0m\u001b[1;33m)\u001b[0m\u001b[1;33m\u001b[0m\u001b[1;33m\u001b[0m\u001b[0m\n\u001b[1;32m----> 5\u001b[1;33m \u001b[0mds2_fill_side_col\u001b[0m\u001b[1;33m(\u001b[0m\u001b[0mstruct_info_array\u001b[0m\u001b[1;33m,\u001b[0m \u001b[0mcycle_list_G\u001b[0m\u001b[1;33m)\u001b[0m\u001b[1;33m\u001b[0m\u001b[1;33m\u001b[0m\u001b[0m\n\u001b[0m",
      "\u001b[1;32m<ipython-input-14-3d151f70a671>\u001b[0m in \u001b[0;36mds2_fill_side_col\u001b[1;34m(struct_info_array, cycle_list_G)\u001b[0m\n\u001b[0;32m      9\u001b[0m \u001b[1;33m\u001b[0m\u001b[0m\n\u001b[0;32m     10\u001b[0m         \u001b[1;32mif\u001b[0m \u001b[1;36m1\u001b[0m \u001b[1;32min\u001b[0m \u001b[0msides_there\u001b[0m \u001b[1;32mand\u001b[0m \u001b[1;33m-\u001b[0m\u001b[1;36m1\u001b[0m \u001b[1;32min\u001b[0m \u001b[0msides_there\u001b[0m\u001b[1;33m:\u001b[0m\u001b[1;33m\u001b[0m\u001b[1;33m\u001b[0m\u001b[0m\n\u001b[1;32m---> 11\u001b[1;33m             \u001b[1;32mraise\u001b[0m \u001b[0mValueError\u001b[0m\u001b[1;33m(\u001b[0m\u001b[1;34mf'conflicting angles with domains of index: {cycle}'\u001b[0m\u001b[1;33m)\u001b[0m   \u001b[1;31m#not how should be handled\u001b[0m\u001b[1;33m\u001b[0m\u001b[1;33m\u001b[0m\u001b[0m\n\u001b[0m\u001b[0;32m     12\u001b[0m         \u001b[1;31m#pos substruc\u001b[0m\u001b[1;33m\u001b[0m\u001b[1;33m\u001b[0m\u001b[1;33m\u001b[0m\u001b[0m\n\u001b[0;32m     13\u001b[0m         \u001b[1;32mif\u001b[0m \u001b[1;36m1\u001b[0m \u001b[1;32min\u001b[0m \u001b[0msides_there\u001b[0m\u001b[1;33m:\u001b[0m\u001b[1;33m\u001b[0m\u001b[1;33m\u001b[0m\u001b[0m\n",
      "\u001b[1;31mValueError\u001b[0m: conflicting angles with domains of index: [2, 3, 4, 5, 6, 1]"
     ]
    }
   ],
   "source": [
    "string = \"a b( @-45 c d e @45 f ) g h i j\"\n",
    "dom_raw_list, struct_info_array, paired_dict, name_final_lol = comprehend_string(string)\n",
    "skeleton_graph = create_skeleton(dom_raw_list, paired_dict, name_final_lol)\n",
    "name_final_lol, multiloop_list, crossroad_list, cycle_list_G = ds1_find_type_of_unpaired_v2(skeleton_graph, paired_dict, name_final_lol)\n",
    "ds2_fill_side_col(struct_info_array, cycle_list_G)"
   ]
  },
  {
   "cell_type": "markdown",
   "metadata": {},
   "source": [
    "### 3. Determine traversing order based on graph \n",
    "\n",
    "Start at the beginning, walk along the network with the following preferences:  \n",
    "-If it is a paired domain, we draw its pair too (since its obvious and it gives another constraint for the structure)  \n",
    "-Check if domain is in cycle(substructure), if yes, we prioritize the cycle elements and get from in-point to out-point  \n",
    "-While walking along the cycle, put the neighbors not in the current cycle to the back"
   ]
  },
  {
   "cell_type": "code",
   "execution_count": 20,
   "metadata": {},
   "outputs": [],
   "source": [
    "#determine order of traversal (order of domains to build up)\n",
    "\n",
    "def ds3a_determine_contstruct_order(skeleton_graph, paired_dict):\n",
    "    cycle_list_G = nx.cycle_basis(skeleton_graph)\n",
    "    \n",
    "    paired_node_list = []\n",
    "    for node in paired_dict:\n",
    "        paired_node_list.append(node)\n",
    "        paired_node_list.append(paired_dict[node])\n",
    "    \n",
    "    def find_cycle_where_index_belongs(dom_index, cycle_list_G): #now finds largest cycle\n",
    "        found = []\n",
    "        for cycle in cycle_list_G:\n",
    "            if dom_index in cycle and len(cycle) > len(found):\n",
    "                found = cycle\n",
    "        return found\n",
    "    \n",
    "    def resort_list_to_start_by_spec_value(dom_index, list_with_value):\n",
    "        index = list_with_value.index(dom_index)\n",
    "        sorted_list = []\n",
    "        for i in range(len(list_with_value)):\n",
    "            sorted_list.append(list_with_value[index-len(list_with_value)+i])\n",
    "        return sorted_list\n",
    "    \n",
    "    def give_pair_of_domain(dom_index, paired_dict):\n",
    "        if dom_index in paired_dict:\n",
    "            return paired_dict[dom_index]\n",
    "        elif dom_index in list(paired_dict.values()):\n",
    "            index_of_pair = list(paired_dict.keys())[list(paired_dict.values()).index(dom_index)]\n",
    "            return index_of_pair\n",
    "        else:\n",
    "            raise ValueError('not actually paired')\n",
    "    \n",
    "    #\n",
    "    traverse_order = [0]\n",
    "    \n",
    "    for node in traverse_order:\n",
    "        current_in_travord = traverse_order.index(node)\n",
    "        counter = 0 #helps with insert index\n",
    "        \n",
    "        #pair primary\n",
    "        if node in paired_node_list:\n",
    "            pair_first = give_pair_of_domain(node, paired_dict) #pair first!\n",
    "            if pair_first not in traverse_order:\n",
    "                traverse_order.insert(current_in_travord+1, pair_first)\n",
    "                counter += 1\n",
    "        \n",
    "        #cycle secondary\n",
    "        its_cycle = find_cycle_where_index_belongs(node, cycle_list_G)\n",
    "        if len(its_cycle) != 0: #if in cycle\n",
    "            resorted_cycle = resort_list_to_start_by_spec_value(node, its_cycle)\n",
    "            \n",
    "            for item in resorted_cycle:\n",
    "                if item not in traverse_order:\n",
    "                    traverse_order.insert(current_in_travord+counter+1, item)\n",
    "                    counter += 1\n",
    "                        \n",
    "        #other neighbor tertiary\n",
    "        neighbors = skeleton_graph.neighbors(node)\n",
    "        for neighbor in neighbors:  #other neighbor third!\n",
    "            if neighbor not in traverse_order:\n",
    "                traverse_order.append(neighbor)\n",
    "\n",
    "    return traverse_order"
   ]
  },
  {
   "cell_type": "code",
   "execution_count": 27,
   "metadata": {},
   "outputs": [
    {
     "name": "stdout",
     "output_type": "stream",
     "text": [
      "0\n",
      "[0, 10, 1, 2, 8, 9]\n",
      "10\n",
      "[0, 10, 1, 2, 8, 9, 11]\n",
      "1\n",
      "[0, 10, 1, 2, 8, 9, 11]\n",
      "2\n",
      "[0, 10, 1, 2, 8, 9, 11, 3]\n",
      "8\n",
      "[0, 10, 1, 2, 8, 9, 11, 3, 7]\n",
      "9\n",
      "[0, 10, 1, 2, 8, 9, 11, 3, 7]\n",
      "11\n",
      "[0, 10, 1, 2, 8, 9, 11, 3, 7, 12]\n",
      "3\n",
      "[0, 10, 1, 2, 8, 9, 11, 3, 5, 6, 7, 12, 4]\n",
      "5\n",
      "[0, 10, 1, 2, 8, 9, 11, 3, 5, 6, 7, 12, 4]\n",
      "6\n",
      "[0, 10, 1, 2, 8, 9, 11, 3, 5, 6, 7, 12, 4]\n",
      "7\n",
      "[0, 10, 1, 2, 8, 9, 11, 3, 5, 6, 7, 12, 4]\n",
      "12\n",
      "[0, 10, 1, 2, 8, 9, 11, 3, 5, 6, 7, 12, 4]\n",
      "4\n",
      "[0, 10, 1, 2, 8, 9, 11, 3, 5, 6, 7, 12, 4]\n"
     ]
    },
    {
     "data": {
      "text/plain": [
       "[0, 10, 1, 2, 8, 9, 11, 3, 5, 6, 7, 12, 4]"
      ]
     },
     "execution_count": 27,
     "metadata": {},
     "output_type": "execute_result"
    }
   ],
   "source": [
    "string = \"a( b c( d( e ) f( + )) g ) h i\"\n",
    "dom_raw_list, struct_info_array, paired_dict, name_final_lol = comprehend_string(string)\n",
    "skeleton_graph = create_skeleton(dom_raw_list, paired_dict, name_final_lol)\n",
    "#name_final_lol, multiloop_list, crossroad_list, cycle_list_G = ds1_find_type_of_unpaired_v2(skeleton_graph, paired_dict, name_final_lol)\n",
    "#struct_info_array = ds2_fill_side_col(struct_info_array, cycle_list_G)\n",
    "ds3a_determine_contstruct_order(skeleton_graph, paired_dict)"
   ]
  },
  {
   "cell_type": "code",
   "execution_count": 21,
   "metadata": {},
   "outputs": [
    {
     "name": "stdout",
     "output_type": "stream",
     "text": [
      "[0, 1, 3, 2, 4, 25, 5, 6, 10, 11, 12, 17, 18, 19, 23, 24, 7, 8, 9, 13, 15, 14, 16, 20, 22, 21]\n"
     ]
    }
   ],
   "source": [
    "string = \"a b( c ) d( e f( g h( + ) ) i j( k l( + ) m ) n o( p + q( + ) ) r )\"\n",
    "dom_raw_list, struct_info_array, paired_dict, name_final_lol = comprehend_string(string)\n",
    "skeleton_graph = create_skeleton(dom_raw_list, paired_dict, name_final_lol)\n",
    "print(ds3a_determine_contstruct_order(skeleton_graph, paired_dict))"
   ]
  },
  {
   "cell_type": "markdown",
   "metadata": {},
   "source": [
    "## Building the structure step-by-step\n",
    "\n",
    "Go according to traverse list:  \n",
    "1 . Write over known coinciding point coords - for unpaired and first of a paired pair (not for domain 0)  \n",
    "2 . Each domain is drawn with known or preferred angles/length, the preferred angles  \n",
    "3 . For each domain, check if assumed parameters seem correct in the context of structure thus far, if not, try other preferred angles or any other - go back to prev domain if fails?  \n",
    "4 . After finishing a cycle, check if the whole substructure is correct (steps unclear yet) if not really, can reiterate angles/length  \n",
    "\n",
    "#### Defaults currently\n",
    "Linear domain: 30  \n",
    "Between pairs: 10  \n",
    "Default angle lists, for different domain pairs:  \n",
    "..."
   ]
  },
  {
   "cell_type": "code",
   "execution_count": null,
   "metadata": {},
   "outputs": [],
   "source": [
    "#PSEUDOCODE for DS3\n",
    "\n",
    "def check_intersection_with_structure():\n",
    "    pass\n",
    "\n",
    "def check_cycle_as_whole(): #maybe outside and this only \n",
    "    pass\n",
    "\n",
    "def get_preferred_angle_list():\n",
    "    based on domain and prev_domain\n",
    "\n",
    "def ds3b_stepwise_buildup():\n",
    "    started_cycles = []\n",
    "    cycle_endings = []\n",
    "\n",
    "    for domain in traverse_order:\n",
    "        if domain == 0:\n",
    "            calculate_x1_y1(angle, length)\n",
    "        if domain != 0:\n",
    "            if domain is paired and prev item is domain''s pair:  #paired second half\n",
    "                calculate coords from pair\n",
    "                if check_intersection_with_structure() is True:\n",
    "                    PAIR needs to be changed\n",
    "\n",
    "            else: #unpaired or paired 1st half\n",
    "                get neighbors with red edge\n",
    "                if prev_index already written, copy its x1, y1 coords to domain''s x0, y0 slots\n",
    "                if next_index already written, copy its x0, y0 coords to domain''s x1, y1 slots\n",
    "                if both True:\n",
    "                    skip next part\n",
    "                \n",
    "                if domain is bulge:\n",
    "                    pass #we have an arc where the x1,y1 point can be!\n",
    "                \n",
    "                #iteration here - based on angle\n",
    "                good_coords = False\n",
    "                pref_angles = get_preferred_angle_list()\n",
    "                \n",
    "                while good_coords is False:\n",
    "                    \n",
    "                    calculate_coords(pref_angles[i])\n",
    "                    good_coords = check_intersection_with_structure()\n",
    "                    i+=1\n",
    "\n",
    "            if domain part of cycle but not part of started cycle:\n",
    "                started cycle.append(current_cycle)\n",
    "                cycle_endings.append(endpoint of curr. cycle)\n",
    "\n",
    "                #crossroad special!\n",
    "                if current_cycle is crossroads:\n",
    "                    calculate coords based on crossroad (3way, 4way etc.)\n",
    "\n",
    "            if domain in cycle_endings: #if it is reached, we check cycle\n",
    "                check_cycle_as_whole() #like multiloops need to be on \n",
    "    \n",
    "    return calculated_coords"
   ]
  },
  {
   "cell_type": "code",
   "execution_count": null,
   "metadata": {},
   "outputs": [],
   "source": [
    "traverse_order[traverse_order.index(domain)-1]"
   ]
  },
  {
   "cell_type": "code",
   "execution_count": 1,
   "metadata": {},
   "outputs": [],
   "source": [
    "#WIP\n",
    "\n",
    "def ds3b_stepwise_buildup(struct_info_array, paired_dict, name_final_lol, crossroad_list, cycle_list_G, traverse_order):\n",
    "    dom_count = len(name_final_lol)\n",
    "    coordinate_array = np.zeros((dom_count, 4))\n",
    "    #add a new col for absolute angle values\n",
    "    struct_info_array = np.append(struct_info_array, [[0] for range(len(dom_count))], axis=1)\n",
    "    \n",
    "    #paired list as before\n",
    "    paired_node_list = []\n",
    "    for node in paired_dict:\n",
    "        paired_node_list.append(node)\n",
    "        paired_node_list.append(paired_dict[node])\n",
    "    \n",
    "    def get_preferred_angle_list(dom_index, name_final_lol, ):\n",
    "        pass\n",
    "    \n",
    "    def check_domain_intersection_to_prev_data():\n",
    "        pass\n",
    "    \n",
    "    #main loop    \n",
    "    for domain_index in traverse_order:\n",
    "        if domain_index not in written_rows: #previously written row will not be accessed from here\n",
    "            \n",
    "            #for doms > 0 and previous dom didn't have strand break, x0, y0 is the same as x1, y1 of prev dom\n",
    "            if domain_index != 0 & struct_info_array[domain_index-1, 2] != 1:\n",
    "                coordinate_array[domain_index, 0] = coordinate_array[domain_index-1, 2]\n",
    "                coordinate_array[domain_index, 1] = coordinate_array[domain_index-1, 3]\n",
    "                \n",
    "       \n",
    "    return coordinate_array"
   ]
  },
  {
   "cell_type": "code",
   "execution_count": null,
   "metadata": {},
   "outputs": [],
   "source": [
    "string = \"a( b c( d( e ) f( + )) g ) h i\"\n",
    "dom_raw_list, struct_info_array, paired_dict, name_final_lol = comprehend_string(string)\n",
    "skeleton_graph = create_skeleton(dom_raw_list, paired_dict, name_final_lol)\n",
    "name_final_lol, multiloop_list, crossroad_list, cycle_list_G = ds1_find_type_of_unpaired_v2(skeleton_graph, paired_dict, name_final_lol)\n",
    "struct_info_array = ds2_fill_side_col(struct_info_array, cycle_list_G)\n",
    "traverse_order = ds3a_determine_contstruct_order(skeleton_graph, paired_dict)\n",
    "ds3_stepwise_buildup(struct_info_array, paired_dict, name_final_lol, crossroad_list, cycle_list_G, traverse_order)"
   ]
  },
  {
   "cell_type": "markdown",
   "metadata": {},
   "source": [
    "### 4. Prepare final drawing parameters\n",
    "drawing functions, names, colors, canvas size"
   ]
  },
  {
   "cell_type": "code",
   "execution_count": null,
   "metadata": {},
   "outputs": [],
   "source": [
    "#color list for each domain where: pairs are same color, multiloops are same color, \n",
    "#neighbor domains never same color\n",
    "\n",
    "def create_color_list(name_final_lol, paired_dict, multiloop_list, palette):\n",
    "    pass"
   ]
  },
  {
   "cell_type": "markdown",
   "metadata": {},
   "source": [
    "## FINAL DRAWING\n",
    "Use drawing functions"
   ]
  }
 ],
 "metadata": {
  "kernelspec": {
   "display_name": "Python 3",
   "language": "python",
   "name": "python3"
  },
  "language_info": {
   "codemirror_mode": {
    "name": "ipython",
    "version": 3
   },
   "file_extension": ".py",
   "mimetype": "text/x-python",
   "name": "python",
   "nbconvert_exporter": "python",
   "pygments_lexer": "ipython3",
   "version": "3.7.3"
  }
 },
 "nbformat": 4,
 "nbformat_minor": 4
}

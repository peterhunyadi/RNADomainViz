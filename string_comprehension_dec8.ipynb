{
 "cells": [
  {
   "cell_type": "markdown",
   "metadata": {},
   "source": [
    "### Thought process\n",
    "First, count domains and create a table that has nrow corresponding to dom. count. As the string is very systematic, with a regional expression I can separate the domains with all their information given.  \n",
    "The good thing here is that the sequence of domains is clear from the string.  \n",
    "Most important is to know which domain is paired with which. As a human, when I find a bracket in the string, I look for its counterpart. This will have to be done in the second step and put the pairing info into a dictionary(?)."
   ]
  },
  {
   "cell_type": "code",
   "execution_count": 1,
   "metadata": {},
   "outputs": [],
   "source": [
    "import numpy as np\n",
    "import re"
   ]
  },
  {
   "cell_type": "code",
   "execution_count": 2,
   "metadata": {},
   "outputs": [
    {
     "data": {
      "text/plain": [
       "['@90 a(', ' B +', ')', '@45 e* ', 'f1']"
      ]
     },
     "execution_count": 2,
     "metadata": {},
     "output_type": "execute_result"
    }
   ],
   "source": [
    "string = '@90 a( B + ) @45 e* f1'\n",
    "re.findall('@?[0-9]* ?[a-z|A-Z|0-9|\\*]+[ \\(]?\\+?|\\)', string)"
   ]
  },
  {
   "cell_type": "code",
   "execution_count": 3,
   "metadata": {},
   "outputs": [],
   "source": [
    "#error handling step 1\n",
    "def check_string_valid(string):\n",
    "    pass"
   ]
  },
  {
   "cell_type": "code",
   "execution_count": 11,
   "metadata": {},
   "outputs": [],
   "source": [
    "def comprehend_string(string):\n",
    "    #separate domains/count\n",
    "    dom_raw_list = re.findall('@?-?[0-9]* ?[a-z|A-Z|0-9|\\*]+[ \\(]? ?\\+?|\\) ?\\+?', string)\n",
    "    dom_count = len(dom_raw_list)\n",
    "        \n",
    "    #create table - cols: angle, length, dom type, paired info, if there is a strand break after    \n",
    "    struct_info_array = np.zeros((dom_count, 4))\n",
    "    \n",
    "    #pairedness dictionary\n",
    "    \n",
    "    #name list of list \n",
    "    #name_list = [i.lstrip(' ').rstrip(' (+') for i in dom_list]\n",
    "    \n",
    "    return dom_raw_list, struct_info_array"
   ]
  },
  {
   "cell_type": "code",
   "execution_count": 12,
   "metadata": {},
   "outputs": [
    {
     "data": {
      "text/plain": [
       "(['d1S ',\n",
       "  'T2 ',\n",
       "  '@-135 b( ',\n",
       "  'a( ',\n",
       "  't2( +',\n",
       "  ') ',\n",
       "  ') ',\n",
       "  'c*( ',\n",
       "  't1* +',\n",
       "  ') ',\n",
       "  ')'],\n",
       " array([[0., 0., 0., 0., 0.],\n",
       "        [0., 0., 0., 0., 0.],\n",
       "        [0., 0., 0., 0., 0.],\n",
       "        [0., 0., 0., 0., 0.],\n",
       "        [0., 0., 0., 0., 0.],\n",
       "        [0., 0., 0., 0., 0.],\n",
       "        [0., 0., 0., 0., 0.],\n",
       "        [0., 0., 0., 0., 0.],\n",
       "        [0., 0., 0., 0., 0.],\n",
       "        [0., 0., 0., 0., 0.],\n",
       "        [0., 0., 0., 0., 0.]]))"
      ]
     },
     "execution_count": 12,
     "metadata": {},
     "output_type": "execute_result"
    }
   ],
   "source": [
    "comprehend_string(\"d1S T2 @-135 b( a( t2( + ) ) c*( t1* + ) )\")"
   ]
  }
 ],
 "metadata": {
  "kernelspec": {
   "display_name": "Python 3",
   "language": "python",
   "name": "python3"
  },
  "language_info": {
   "codemirror_mode": {
    "name": "ipython",
    "version": 3
   },
   "file_extension": ".py",
   "mimetype": "text/x-python",
   "name": "python",
   "nbconvert_exporter": "python",
   "pygments_lexer": "ipython3",
   "version": "3.7.3"
  }
 },
 "nbformat": 4,
 "nbformat_minor": 4
}

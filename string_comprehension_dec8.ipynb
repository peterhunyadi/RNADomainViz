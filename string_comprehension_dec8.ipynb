{
 "cells": [
  {
   "cell_type": "markdown",
   "metadata": {},
   "source": [
    "### Thought process\n",
    "First, count domains and create a table that has nrow corresponding to dom. count. As the string is very systematic, with a regional expression I can separate the domains with all their information given.  \n",
    "The good thing here is that the sequence of domains is clear from the string.  \n",
    "Most important is to know which domain is paired with which. As a human, when I find a bracket in the string, I look for its counterpart. This will have to be done in the second step and put the pairing info into a dictionary(?)."
   ]
  },
  {
   "cell_type": "code",
   "execution_count": 1,
   "metadata": {},
   "outputs": [],
   "source": [
    "import numpy as np\n",
    "import re"
   ]
  },
  {
   "cell_type": "markdown",
   "metadata": {},
   "source": [
    "Angle: [-179, 180]"
   ]
  },
  {
   "cell_type": "code",
   "execution_count": 2,
   "metadata": {},
   "outputs": [
    {
     "ename": "Exception",
     "evalue": "bad string",
     "output_type": "error",
     "traceback": [
      "\u001b[1;31m---------------------------------------------------------------------------\u001b[0m",
      "\u001b[1;31mException\u001b[0m                                 Traceback (most recent call last)",
      "\u001b[1;32m<ipython-input-2-43bf71dce07d>\u001b[0m in \u001b[0;36m<module>\u001b[1;34m\u001b[0m\n\u001b[0;32m      4\u001b[0m         \u001b[1;32mraise\u001b[0m \u001b[0mException\u001b[0m\u001b[1;33m(\u001b[0m\u001b[1;34m\"bad string\"\u001b[0m\u001b[1;33m)\u001b[0m\u001b[1;33m\u001b[0m\u001b[1;33m\u001b[0m\u001b[0m\n\u001b[0;32m      5\u001b[0m \u001b[1;33m\u001b[0m\u001b[0m\n\u001b[1;32m----> 6\u001b[1;33m \u001b[0mcheck_string_valid\u001b[0m\u001b[1;33m(\u001b[0m\u001b[1;34m\"@90 a ß90 b\"\u001b[0m\u001b[1;33m)\u001b[0m\u001b[1;33m\u001b[0m\u001b[1;33m\u001b[0m\u001b[0m\n\u001b[0m",
      "\u001b[1;32m<ipython-input-2-43bf71dce07d>\u001b[0m in \u001b[0;36mcheck_string_valid\u001b[1;34m(string)\u001b[0m\n\u001b[0;32m      2\u001b[0m \u001b[1;32mdef\u001b[0m \u001b[0mcheck_string_valid\u001b[0m\u001b[1;33m(\u001b[0m\u001b[0mstring\u001b[0m\u001b[1;33m)\u001b[0m\u001b[1;33m:\u001b[0m\u001b[1;33m\u001b[0m\u001b[1;33m\u001b[0m\u001b[0m\n\u001b[0;32m      3\u001b[0m     \u001b[1;32mif\u001b[0m \u001b[0mre\u001b[0m\u001b[1;33m.\u001b[0m\u001b[0msearch\u001b[0m\u001b[1;33m(\u001b[0m\u001b[1;34m\"[$ß€]\"\u001b[0m\u001b[1;33m,\u001b[0m \u001b[0mstring\u001b[0m\u001b[1;33m)\u001b[0m\u001b[1;33m:\u001b[0m \u001b[1;31m#all special characters?\u001b[0m\u001b[1;33m\u001b[0m\u001b[1;33m\u001b[0m\u001b[0m\n\u001b[1;32m----> 4\u001b[1;33m         \u001b[1;32mraise\u001b[0m \u001b[0mException\u001b[0m\u001b[1;33m(\u001b[0m\u001b[1;34m\"bad string\"\u001b[0m\u001b[1;33m)\u001b[0m\u001b[1;33m\u001b[0m\u001b[1;33m\u001b[0m\u001b[0m\n\u001b[0m\u001b[0;32m      5\u001b[0m \u001b[1;33m\u001b[0m\u001b[0m\n\u001b[0;32m      6\u001b[0m \u001b[0mcheck_string_valid\u001b[0m\u001b[1;33m(\u001b[0m\u001b[1;34m\"@90 a ß90 b\"\u001b[0m\u001b[1;33m)\u001b[0m\u001b[1;33m\u001b[0m\u001b[1;33m\u001b[0m\u001b[0m\n",
      "\u001b[1;31mException\u001b[0m: bad string"
     ]
    }
   ],
   "source": [
    "#error handling step 1\n",
    "def check_string_valid(string):\n",
    "    if re.search(\"[$ß€]\", string): #all special characters?\n",
    "        raise Exception(\"bad string\")\n",
    "        \n",
    "check_string_valid(\"@90 a ß90 b\")"
   ]
  },
  {
   "cell_type": "code",
   "execution_count": 3,
   "metadata": {},
   "outputs": [
    {
     "data": {
      "text/plain": [
       "['@90 a(', ' B +', ')', '@45 e* ', 'f1']"
      ]
     },
     "execution_count": 3,
     "metadata": {},
     "output_type": "execute_result"
    }
   ],
   "source": [
    "string = '@90 a( B + ) @45 e* f1'\n",
    "re.findall('@?[0-9]* ?[a-z|A-Z|0-9|\\*]+[ \\(]?\\+?|\\)', string)"
   ]
  },
  {
   "cell_type": "markdown",
   "metadata": {},
   "source": [
    "table(int) - cols: angle before dom, length, dom type?, if there is a strand break after  \n",
    "dictionary - pairedness  \n",
    "list of list - name of domains, their preliminary type "
   ]
  },
  {
   "cell_type": "code",
   "execution_count": 51,
   "metadata": {},
   "outputs": [],
   "source": [
    "def comprehend_string(string):\n",
    "    #separate domains/count\n",
    "    pattern = re.compile('@?-?[0-9]* ?[a-z|A-Z|0-9|\\*]+[ \\(]? ?\\+?|\\) ?\\+?')\n",
    "    dom_raw_list = pattern.findall(string)\n",
    "    dom_count = len(dom_raw_list)\n",
    "        \n",
    "    #create empty data structures     \n",
    "    struct_info_array = np.zeros((dom_count, 4), dtype = 'int') #4 cols rn\n",
    "    name_list1 = []\n",
    "    \n",
    "    #loop through the raw domains, extract  \n",
    "    for dom_i in range(len(dom_raw_list)):\n",
    "        dom = dom_raw_list[dom_i]\n",
    "        dom = dom.strip()\n",
    "        \n",
    "        #fill table\n",
    "        if re.search(\"\\s\", dom):\n",
    "            dom_parts = re.split(\"\\s\", dom)\n",
    "            \n",
    "            for segm in dom_parts:\n",
    "                if segm[0] is \"@\": #col0 angle\n",
    "                    segm = segm.lstrip(\"@\")\n",
    "                    struct_info_array[dom_i, 0] = int(segm) #col0 to write to\n",
    "                    struct_info_array[dom_i, 1] = np.sign(int(segm)) #col1 to write to\n",
    "                    \n",
    "                elif segm is \"+\": #col2 strand break\n",
    "                    struct_info_array[dom_i, 2] = 1         #col2 to write to\n",
    "                else:\n",
    "                    name_list1.append(segm) #only keep the name part further\n",
    "        else:\n",
    "            name_list1.append(dom)\n",
    "            \n",
    "    print(name_list1)\n",
    "        \n",
    "    #pairedness dictionary\n",
    "    paired_dict = {}\n",
    "    \n",
    "    for dom_i2 in range(len(dom_raw_list)):\n",
    "        if re.search(\"\\(\", dom_raw_list[dom_i2]):\n",
    "            bracket_count = 1\n",
    "            for next_dom in range(dom_i2+1, len(dom_raw_list)):\n",
    "                if re.search(\"\\(\", dom_raw_list[next_dom]):\n",
    "                    bracket_count += 1\n",
    "                elif re.search(\"\\)\", dom_raw_list[next_dom]):\n",
    "                    bracket_count -= 1\n",
    "                if bracket_count == 0:\n",
    "                    paired_dict[dom_i2] = next_dom\n",
    "                    break\n",
    "    \n",
    "    #name list of list / finding hairpin loops\n",
    "    #paireds in dict, hairpin loop known, other are unpaired -> substructure from these?\n",
    "    name_final_lol = []\n",
    "    \n",
    "    for dom_i3 in range(len(name_list1)):\n",
    "        \n",
    "        #paireds\n",
    "        if re.search(\"\\(\", name_list1[dom_i3]):\n",
    "            typ = \"paired\"\n",
    "            name = name_list1[dom_i3].strip(\"(+ \")\n",
    "        \n",
    "        #correcting closing bracket name\n",
    "        elif re.search(\"\\)\", name_list1[dom_i3]):\n",
    "            typ = \"paired\"\n",
    "            index_of_pair = list(paired_dict.keys())[list(paired_dict.values()).index(dom_i3)]\n",
    "            if re.search(\"\\*\", name_list1[index_of_pair]):\n",
    "                name = name_list1[index_of_pair].strip(\"\\(\").strip(\"\\*\")\n",
    "            else:\n",
    "                name = name_list1[index_of_pair].strip(\"\\(\") + \"*\"\n",
    "        \n",
    "        #check hairpinloop on next domain\n",
    "        elif re.search(\"\\(\", name_list1[dom_i3-1]) and re.search(\"\\)\", name_list1[dom_i3+1]):\n",
    "            print(name_list1[dom_i3])\n",
    "            if re.search(\"\\+\", name_list1[dom_i3]): #hairpin unless strand break\n",
    "                typ = \"lin. unpaired\"\n",
    "                name = name_list1[dom_i3].strip(\" +\")\n",
    "            else: \n",
    "                typ = \"hairpin\"\n",
    "                name = name_list1[dom_i3]\n",
    "                \n",
    "        #all other are unpaireds\n",
    "        else:\n",
    "            typ = \"unpaired\"\n",
    "            name = name_list1[dom_i3].strip(\"+ \")\n",
    "        \n",
    "        name_final_lol.append([name, typ])\n",
    "        \n",
    "    return struct_info_array, paired_dict, name_final_lol"
   ]
  },
  {
   "cell_type": "code",
   "execution_count": 52,
   "metadata": {},
   "outputs": [
    {
     "name": "stdout",
     "output_type": "stream",
     "text": [
      "['d1S', 'T2', 'b(', 'a(', 't2(', ')', ')', 'c*(', 't1*', ')', ')']\n",
      "t1*\n"
     ]
    },
    {
     "data": {
      "text/plain": [
       "(array([[ -45,   -1,    0,    0],\n",
       "        [   0,    0,    0,    0],\n",
       "        [-135,   -1,    0,    0],\n",
       "        [   0,    0,    0,    0],\n",
       "        [   0,    0,    1,    0],\n",
       "        [   0,    0,    0,    0],\n",
       "        [   0,    0,    0,    0],\n",
       "        [   0,    0,    0,    0],\n",
       "        [   0,    0,    1,    0],\n",
       "        [   0,    0,    0,    0],\n",
       "        [   0,    0,    0,    0]]),\n",
       " {2: 10, 3: 6, 4: 5, 7: 9},\n",
       " [['d1S', 'unpaired'],\n",
       "  ['T2', 'unpaired'],\n",
       "  ['b', 'paired'],\n",
       "  ['a', 'paired'],\n",
       "  ['t2', 'paired'],\n",
       "  ['t2*', 'paired'],\n",
       "  ['a*', 'paired'],\n",
       "  ['c*', 'paired'],\n",
       "  ['t1*', 'hairpin'],\n",
       "  ['c', 'paired'],\n",
       "  ['b*', 'paired']])"
      ]
     },
     "execution_count": 52,
     "metadata": {},
     "output_type": "execute_result"
    }
   ],
   "source": [
    "string = \"@-45 d1S T2 @-135 b( a( t2( + ) ) c*( t1* + ) )\" #bug with sb after t1*\n",
    "comprehend_string(string)"
   ]
  },
  {
   "cell_type": "code",
   "execution_count": 6,
   "metadata": {},
   "outputs": [
    {
     "data": {
      "text/plain": [
       "(array([[0, 0, 0],\n",
       "        [0, 0, 0],\n",
       "        [0, 1, 0],\n",
       "        [0, 0, 0],\n",
       "        [0, 0, 0],\n",
       "        [0, 0, 0],\n",
       "        [0, 0, 0],\n",
       "        [0, 1, 0],\n",
       "        [0, 0, 0],\n",
       "        [0, 0, 0],\n",
       "        [0, 0, 0]]),\n",
       " {0: 10, 1: 9, 2: 4, 5: 8},\n",
       " [['t1', 'paired'],\n",
       "  ['c', 'paired'],\n",
       "  ['a', 'paired'],\n",
       "  ['t2*', 'hairpin'],\n",
       "  ['a*', 'paired'],\n",
       "  ['b*', 'paired'],\n",
       "  ['d2', 'unpaired'],\n",
       "  ['t3', 'unpaired'],\n",
       "  ['b', 'paired'],\n",
       "  ['c*', 'paired'],\n",
       "  ['t1*', 'paired']])"
      ]
     },
     "execution_count": 6,
     "metadata": {},
     "output_type": "execute_result"
    }
   ],
   "source": [
    "string2 = \"t1( c( a( + t2* ) b*( d2 t3 + ) ) )\" #here is a bug with strand break within \"hairpin\"\n",
    "comprehend_string(string2)"
   ]
  },
  {
   "cell_type": "code",
   "execution_count": 7,
   "metadata": {},
   "outputs": [
    {
     "data": {
      "text/plain": [
       "(array([[ -90,    0,    0],\n",
       "        [-135,    0,    0],\n",
       "        [ -90,    0,    0],\n",
       "        [   0,    0,    0],\n",
       "        [   0,    0,    0],\n",
       "        [-135,    0,    0],\n",
       "        [ -90,    0,    0],\n",
       "        [   0,    0,    0],\n",
       "        [   0,    0,    0],\n",
       "        [-135,    0,    0],\n",
       "        [-135,    0,    0],\n",
       "        [   0,    0,    0],\n",
       "        [   0,    0,    0],\n",
       "        [-135,    0,    0],\n",
       "        [   0,    0,    0],\n",
       "        [   0,    0,    0]]),\n",
       " {0: 14, 2: 4, 6: 8, 10: 12},\n",
       " [['aa', 'paired'],\n",
       "  ['i1', 'unpaired'],\n",
       "  ['da', 'paired'],\n",
       "  ['dl', 'hairpin'],\n",
       "  ['da*', 'paired'],\n",
       "  ['i2', 'unpaired'],\n",
       "  ['aca', 'paired'],\n",
       "  ['acl', 'hairpin'],\n",
       "  ['aca*', 'paired'],\n",
       "  ['vr', 'unpaired'],\n",
       "  ['pa', 'paired'],\n",
       "  ['pl', 'hairpin'],\n",
       "  ['pa*', 'paired'],\n",
       "  ['i3', 'unpaired'],\n",
       "  ['aa*', 'paired'],\n",
       "  ['c', 'unpaired']])"
      ]
     },
     "execution_count": 7,
     "metadata": {},
     "output_type": "execute_result"
    }
   ],
   "source": [
    "string3 = \"@-90 aa( @-135 i1 @-90 da( dl ) @-135 i2 @-90 aca( acl ) @-135 vr @-135 pa( pl ) @-135 i3 ) @0 c\"\n",
    "comprehend_string(string3)"
   ]
  },
  {
   "cell_type": "markdown",
   "metadata": {},
   "source": [
    "determine_structure -  \n",
    "1. Figure out multiloops  \n",
    "2. Given angles determine the side for the substructure they are in. Using this, the whole column can be filled around the given info, if not provided, default is negative (-1) side.\n",
    "3. complete angle/length col  \n",
    "4. calculate  coords"
   ]
  },
  {
   "cell_type": "code",
   "execution_count": 33,
   "metadata": {},
   "outputs": [],
   "source": [
    "def determine_structure(array, dictionary, list_of_lists):\n",
    "    dom_count = len(list_of_lists)\n",
    "    \n",
    "    #1.\n",
    "    \n",
    "    #2. complete side col ~ get same side for paireds/hairpins, default to -1\n",
    "    curr_side = -1\n",
    "    for dom in range(dom_count):\n",
    "\n",
    "        if dom in dictionary:\n",
    "            if array[dom, 1] != 0:\n",
    "                segside = array[dom, 1]\n",
    "            elif array[dictionary[dom], 1] != 0:\n",
    "                segside = array[dictionary[dom], 1]\n",
    "            else:\n",
    "                segside = curr_side\n",
    "            \n",
    "            #if hairpin\n",
    "            if dom == dictionary[dom]-2:\n",
    "                array[dom, 1] = segside\n",
    "                array[dom+1, 1] = segside\n",
    "                array[dom+2, 1] = segside\n",
    "            \n",
    "            #if not hairpin\n",
    "            else:\n",
    "                array[dom, 1] = segside\n",
    "                array[dictionary[dom], 1] = segside\n",
    "            \n",
    "        else:\n",
    "            if array[dom, 1] == 0:\n",
    "                array[dom, 1] = curr_side\n",
    "        \n",
    "        curr_side = array[dom, 1] #update curr side after changes\n",
    "        \n",
    "    #3.\n",
    "    \n",
    "    #4.\n",
    "        \n",
    "    return array, list_of_lists"
   ]
  },
  {
   "cell_type": "code",
   "execution_count": 34,
   "metadata": {},
   "outputs": [
    {
     "data": {
      "text/plain": [
       "(array([[ -45,   -1,    0,    0],\n",
       "        [   0,   -1,    0,    0],\n",
       "        [-135,   -1,    0,    0],\n",
       "        [   0,   -1,    0,    0],\n",
       "        [   0,   -1,    1,    0],\n",
       "        [   0,   -1,    0,    0],\n",
       "        [   0,   -1,    0,    0],\n",
       "        [   0,   -1,    0,    0],\n",
       "        [   0,   -1,    1,    0],\n",
       "        [   0,   -1,    0,    0],\n",
       "        [   0,   -1,    0,    0]]),\n",
       " [['d1S', 'unpaired'],\n",
       "  ['T2', 'unpaired'],\n",
       "  ['b', 'paired'],\n",
       "  ['a', 'paired'],\n",
       "  ['t2', 'paired'],\n",
       "  ['t2*', 'paired'],\n",
       "  ['a*', 'paired'],\n",
       "  ['c*', 'paired'],\n",
       "  ['t1*', 'hairpin'],\n",
       "  ['c', 'paired'],\n",
       "  ['b*', 'paired']])"
      ]
     },
     "execution_count": 34,
     "metadata": {},
     "output_type": "execute_result"
    }
   ],
   "source": [
    "array, dictionary, list_of_lists = comprehend_string(string)\n",
    "determine_structure(array, dictionary, list_of_lists)"
   ]
  },
  {
   "cell_type": "code",
   "execution_count": 35,
   "metadata": {},
   "outputs": [
    {
     "data": {
      "text/plain": [
       "(array([[-90,  -1,   0,   0],\n",
       "        [  0,  -1,   0,   0],\n",
       "        [  0,  -1,   0,   0],\n",
       "        [-90,  -1,   0,   0],\n",
       "        [ 90,   1,   0,   0],\n",
       "        [  0,   1,   0,   0],\n",
       "        [  0,   1,   0,   0],\n",
       "        [ 90,   1,   0,   0]]),\n",
       " [['a', 'paired'],\n",
       "  ['b', 'hairpin'],\n",
       "  ['a*', 'paired'],\n",
       "  ['c', 'unpaired'],\n",
       "  ['d', 'paired'],\n",
       "  ['e', 'hairpin'],\n",
       "  ['d*', 'paired'],\n",
       "  ['f', 'unpaired']])"
      ]
     },
     "execution_count": 35,
     "metadata": {},
     "output_type": "execute_result"
    }
   ],
   "source": [
    "str4 = \"@-90 a( b ) @-90 c @90 d( e ) @90 f\"\n",
    "array, dictionary, list_of_lists = comprehend_string(str4)\n",
    "determine_structure(array, dictionary, list_of_lists)"
   ]
  }
 ],
 "metadata": {
  "kernelspec": {
   "display_name": "Python 3",
   "language": "python",
   "name": "python3"
  },
  "language_info": {
   "codemirror_mode": {
    "name": "ipython",
    "version": 3
   },
   "file_extension": ".py",
   "mimetype": "text/x-python",
   "name": "python",
   "nbconvert_exporter": "python",
   "pygments_lexer": "ipython3",
   "version": "3.7.3"
  }
 },
 "nbformat": 4,
 "nbformat_minor": 4
}

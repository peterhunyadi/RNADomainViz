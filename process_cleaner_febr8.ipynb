{
 "cells": [
  {
   "cell_type": "markdown",
   "metadata": {},
   "source": [
    "# From kernel string to structure drawing\n",
    "\n",
    "### Task & Goal\n",
    "\n",
    "### Steps\n",
    "EXTRACT INFORMATION FROM STRING  \n",
    "DETERMINE STRUCTURE  \n",
    "DRAW SHAPES  "
   ]
  },
  {
   "cell_type": "code",
   "execution_count": 1,
   "metadata": {},
   "outputs": [
    {
     "name": "stderr",
     "output_type": "stream",
     "text": [
      "C:\\Anaconda3\\lib\\site-packages\\drawSvg\\raster.py:18: RuntimeWarning: Failed to import CairoSVG. drawSvg will be unable to output PNG or other raster image formats. See https://github.com/cduck/drawSvg#prerequisites for more details.\n",
      "Original OSError: no library called \"cairo-2\" was found\n",
      "no library called \"cairo\" was found\n",
      "cannot load library 'C:\\GTK\\bin\\libcairo-2.dll': error 0xc1\n",
      "cannot load library 'libcairo.so.2': error 0x7e\n",
      "cannot load library 'libcairo.2.dylib': error 0x7e\n",
      "cannot load library 'libcairo-2.dll': error 0xc1\n",
      "  warnings.warn(msg, RuntimeWarning)\n"
     ]
    }
   ],
   "source": [
    "import re\n",
    "\n",
    "import numpy as np\n",
    "import networkx as nx\n",
    "from matplotlib import pyplot as plt\n",
    "from shapely.geometry.polygon import LinearRing\n",
    "\n",
    "import drawSvg as draw"
   ]
  },
  {
   "cell_type": "markdown",
   "metadata": {},
   "source": [
    "Error handling 1  \n",
    "- invalid strings should not be let through  \n",
    "- extra whitespaces or missing ones corrected before next step"
   ]
  },
  {
   "cell_type": "markdown",
   "metadata": {},
   "source": [
    "## EXTRACT INFORMATION FROM STRING\n",
    "\n",
    "First, count domains and create a table that has nrow corresponding to dom. count. As the string is very systematic, with a regional expression I can separate the domains with all their information given.  \n",
    "The good thing here is that the sequence of domains is clear from the string.  \n",
    "Most important is to know which domain is paired with which. As a human, when I find a bracket in the string, I look for its counterpart. This will have to be done in the second step and put the pairing info into a dictionary(?)."
   ]
  },
  {
   "cell_type": "code",
   "execution_count": 2,
   "metadata": {},
   "outputs": [],
   "source": [
    "def comprehend_string(string):\n",
    "    \"\"\"\n",
    "    \n",
    "    table(int) - cols: angle before dom, length, dom type?, if there is a strand break after  \n",
    "    dictionary - pairedness  \n",
    "    list of list - name of domains, their preliminary type \n",
    "    \"\"\"\n",
    "    #separate domains/count\n",
    "    pattern = re.compile('@?-?[0-9]* ?[a-z|A-Z|0-9|\\*|\\)]+[ \\(]? ?\\+?|\\) ?\\+?')\n",
    "    dom_raw_list = pattern.findall(string)\n",
    "    dom_count = len(dom_raw_list)\n",
    "        \n",
    "    #create empty data structures     \n",
    "    struct_info_array = np.zeros((dom_count, 2), dtype = 'int') #3 cols rn, sb not needed here\n",
    "    #empty angles indicated by -999\n",
    "    for row in range(dom_count):\n",
    "        struct_info_array[row, 0] = -999\n",
    "    name_list1 = []\n",
    "    \n",
    "    #loop through the raw domains, extract  \n",
    "    for dom_i in range(len(dom_raw_list)):\n",
    "        dom = dom_raw_list[dom_i]\n",
    "        dom = dom.strip()\n",
    "        \n",
    "        #fill table\n",
    "        if re.search(\"\\s\", dom):\n",
    "            dom_parts = re.split(\"\\s\", dom)\n",
    "            \n",
    "            for segm in dom_parts:\n",
    "                if segm[0] is \"@\": #col0 angle\n",
    "                    segm = segm.lstrip(\"@\")\n",
    "                    struct_info_array[dom_i, 0] = int(segm) #col0 to write to\n",
    "                    #struct_info_array[dom_i, 1] = np.sign(int(segm)) #col1 to write to\n",
    "                    \n",
    "                #elif segm is \"+\": #col2 strand break\n",
    "                #    struct_info_array[dom_i, 2] = 1         #col2 to write to\n",
    "                elif segm is not \"+\": #else:\n",
    "                    name_list1.append(segm) #only keep the name part further\n",
    "        else:\n",
    "            name_list1.append(dom)\n",
    "        \n",
    "    #pairedness dictionary\n",
    "    paired_dict = {}\n",
    "    \n",
    "    for dom_i2 in range(len(dom_raw_list)):\n",
    "        if re.search(\"\\(\", dom_raw_list[dom_i2]):\n",
    "            bracket_count = 1\n",
    "            for next_dom in range(dom_i2+1, len(dom_raw_list)):\n",
    "                if re.search(\"\\(\", dom_raw_list[next_dom]):\n",
    "                    bracket_count += 1\n",
    "                elif re.search(\"\\)\", dom_raw_list[next_dom]):\n",
    "                    bracket_count -= 1\n",
    "                if bracket_count == 0:\n",
    "                    paired_dict[dom_i2] = next_dom\n",
    "                    break\n",
    "    \n",
    "    #name list of list / finding hairpin loops\n",
    "    #paireds in dict, hairpin loop known, other are unpaired -> substructure from these?\n",
    "    name_final_lol = []\n",
    "    \n",
    "    for dom_i3 in range(len(name_list1)):\n",
    "        \n",
    "        #paireds\n",
    "        if re.search(\"\\(\", name_list1[dom_i3]):\n",
    "            typ = \"paired\"\n",
    "            name = name_list1[dom_i3].strip(\"(+ \")\n",
    "        \n",
    "        #correcting closing bracket name\n",
    "        elif re.search(\"\\)\", name_list1[dom_i3]):\n",
    "            typ = \"paired\"\n",
    "            index_of_pair = list(paired_dict.keys())[list(paired_dict.values()).index(dom_i3)]\n",
    "            if re.search(\"\\*\", name_list1[index_of_pair]):\n",
    "                name = name_list1[index_of_pair].strip(\"\\(\").strip(\"\\*\")\n",
    "            else:\n",
    "                name = name_list1[index_of_pair].strip(\"\\(\") + \"*\"\n",
    "        \n",
    "        #all other are unpaireds\n",
    "        else:\n",
    "            typ = \"unpaired\"\n",
    "            name = name_list1[dom_i3].strip(\"+ \")\n",
    "        \n",
    "        name_final_lol.append([name, typ])\n",
    "        \n",
    "    return dom_raw_list, struct_info_array, paired_dict, name_final_lol"
   ]
  },
  {
   "cell_type": "code",
   "execution_count": 3,
   "metadata": {},
   "outputs": [
    {
     "data": {
      "text/plain": [
       "(['a( +', ' b( +', '@45 ) ', ')'],\n",
       " array([[-999,    0],\n",
       "        [-999,    0],\n",
       "        [  45,    0],\n",
       "        [-999,    0]]),\n",
       " {0: 3, 1: 2},\n",
       " [['a', 'paired'], ['b', 'paired'], ['b*', 'paired'], ['a*', 'paired']])"
      ]
     },
     "execution_count": 3,
     "metadata": {},
     "output_type": "execute_result"
    }
   ],
   "source": [
    "string = \"a( + b( + @45 ) )\"\n",
    "comprehend_string(string)"
   ]
  },
  {
   "cell_type": "markdown",
   "metadata": {},
   "source": [
    "### Distance list process and merge"
   ]
  },
  {
   "cell_type": "code",
   "execution_count": 4,
   "metadata": {},
   "outputs": [],
   "source": [
    "def process_length_input(struct_info_array, length_input_dict):\n",
    "    zeros_list = [0 for i in range(len(struct_info_array[:,1]))]\n",
    "    \n",
    "    #put into list format and append list to struct_info_array as new col\n",
    "    for length in length_input_dict:\n",
    "        zeros_list[length] = length_input_dict[length]\n",
    "        \n",
    "    zeros_list = np.array(zeros_list).reshape((len(zeros_list), 1))\n",
    "    struct_info_array = np.append(struct_info_array, zeros_list, axis=1)\n",
    "        \n",
    "    return struct_info_array"
   ]
  },
  {
   "cell_type": "markdown",
   "metadata": {},
   "source": [
    "## DETERMINE STRUCTURE \n",
    "\n",
    "### 1a. Create domain node graph\n",
    "Figure out if an unpaired region is from a special type - by making a network graph of the connected domains (either connected by sequence (red edge) or by pairedness (green edge)) we can find subgraphs that correspond to special domain structures that need to be handled differently.  "
   ]
  },
  {
   "cell_type": "code",
   "execution_count": 5,
   "metadata": {},
   "outputs": [],
   "source": [
    "def create_skeleton(dom_raw_list, paired_dict, name_final_lol):\n",
    "    #append edges to graph\n",
    "    G = nx.Graph()\n",
    "    \n",
    "    for dom_to_dom in range(len(name_final_lol)-1):\n",
    "        if re.search(\"\\+\", dom_raw_list[dom_to_dom]) is None:\n",
    "            G.add_edge(dom_to_dom, dom_to_dom+1, color='r') #domains that have a connection point are conn. with red edge\n",
    "    for pair in paired_dict:\n",
    "        G.add_edge(pair, paired_dict[pair], color='g') #paired domains are connected with green edge\n",
    "    \n",
    "    return G"
   ]
  },
  {
   "cell_type": "code",
   "execution_count": 6,
   "metadata": {},
   "outputs": [],
   "source": [
    "def draw_skeleton(G):\n",
    "    pos = nx.kamada_kawai_layout(G)\n",
    "    colors = [G[u][v]['color'] for u,v in G.edges()]\n",
    "    plt.figure(figsize=(16,9))\n",
    "\n",
    "    nx.draw_networkx(G, pos = pos, with_label = True, node_size=600,font_size=15, edge_color=colors, \n",
    "                     node_color='y', width=2)"
   ]
  },
  {
   "cell_type": "markdown",
   "metadata": {},
   "source": [
    "### 1b. Determining unpaired domain types\n",
    "Currently we check:   \n",
    "hairpin loop: easy, its neighbors are paired  \n",
    "unhinged: has only one neighbor domain - these will need extra care, especially ones resulting from strand break  \n",
    "bulgeloop: cycles with odd nodes and only 1! unpaired dom always has the strictly taken 'bulge'  \n",
    "multiloop: hard, as any number of unpaired doms can be connected with each other, only check r-g-r connection  \n",
    "crossroad: if a cycle is larger or equal to 6 nodes and has no unpaired domains, it is a crossroad\n",
    "\n",
    "nick - not tracked, but strand breaks will need much work in general"
   ]
  },
  {
   "cell_type": "code",
   "execution_count": 7,
   "metadata": {},
   "outputs": [],
   "source": [
    "def ds1_find_type_of_unpaired_v2(G, paired_dict, name_final_lol):\n",
    "    #index of ununpaireds - these don't need to be checked\n",
    "    paired_node_list = []\n",
    "    for node in paired_dict:\n",
    "        paired_node_list.append(node)\n",
    "        paired_node_list.append(paired_dict[node])\n",
    "    \n",
    "    #get unpaired too\n",
    "    unpaired_node_list = []\n",
    "    for node_index in range(len(name_final_lol)):\n",
    "        if node_index not in paired_node_list:\n",
    "            unpaired_node_list.append(node_index)\n",
    "    \n",
    "    #cycles of the skeleton graph\n",
    "    cycle_list_G = nx.cycle_basis(G) #neat!\n",
    "    multiloop_list = []\n",
    "    crossroad_list = []\n",
    "    \n",
    "    #look through cycles, where 3cycles are hairpin, 5c. are bulge and longer ones nest multiloops\n",
    "    for cycle in cycle_list_G:\n",
    "        if len(cycle) == 3: #always hairpin\n",
    "            for item in cycle:\n",
    "                if item in unpaired_node_list:\n",
    "                    name_final_lol[item][1] = \"hairpin loop\" #name altering\n",
    "                    unpaired_node_list.remove(item) #trim unpaired list from known items\n",
    "        elif len(cycle) > 3 & len(cycle) % 2 == 1: #current bulge def\n",
    "            unpaired_here = []\n",
    "            for item in cycle:\n",
    "                if item in unpaired_node_list:\n",
    "                    unpaired_here.append(item)\n",
    "            if len(unpaired_here) == 1:\n",
    "                name_final_lol[unpaired_here[0]][1] = \"bulgeloop\" #name altering\n",
    "                unpaired_node_list.remove(unpaired_here[0]) #trim unpaired list from known items\n",
    "         \n",
    "        #find multiloops, the corresponding domains are their own list item in multiloop_list\n",
    "        crossroad_tracker = True\n",
    "        \n",
    "        if len(cycle) >= 6:\n",
    "            curr_multiloop = []\n",
    "            for index in range(len(cycle)):\n",
    "                if cycle[index] in unpaired_node_list:\n",
    "                    crossroad_tracker = False\n",
    "                    \n",
    "                    if cycle[index-3] in unpaired_node_list :\n",
    "                        connections = [n for n in G.edges.data(nbunch=cycle[index-1])]\n",
    "                        for edge in connections:\n",
    "                            #only need to check paired edge between these2\n",
    "                            if edge[1] == cycle[index-2] and edge[2]['color'] is 'g': \n",
    "                                name_final_lol[cycle[index-3]][1] = \"multiloop\"\n",
    "                                name_final_lol[cycle[index]][1] = \"multiloop\" #altering names\n",
    "                                if cycle[index] not in curr_multiloop:\n",
    "                                    curr_multiloop.append(cycle[index])\n",
    "                                if cycle[index-3] not in curr_multiloop:\n",
    "                                    curr_multiloop.append(cycle[index-3])\n",
    "            if len(curr_multiloop) > 0:\n",
    "                multiloop_list.append(curr_multiloop)\n",
    "                for dom in curr_multiloop:\n",
    "                    unpaired_node_list.remove(dom) #trim unpaired list from known items\n",
    "            if crossroad_tracker is True: #if no unpaired region in cycle, it is a crossroad\n",
    "                crossroad_list.append(cycle)\n",
    "    \n",
    "    #unhinged sequence\n",
    "    for node_index in unpaired_node_list:\n",
    "        #first neighbors\n",
    "        direct_neigh = [n for n in G.neighbors(node_index)] #neighbors of current node\n",
    "        \n",
    "        #start from unhinged and go until all neighbors are unpaired\n",
    "        if len(direct_neigh) == 1:\n",
    "            name_final_lol[node_index][1] = \"unhinged\"\n",
    "            \n",
    "            next_neigh = direct_neigh\n",
    "            before = [node_index]\n",
    "            while len(next_neigh) == 1 and next_neigh[0] in unpaired_node_list:\n",
    "                name_final_lol[next_neigh[0]][1] = \"unhinged sequence\"\n",
    "                before.append(next_neigh[0])\n",
    "                next_neigh = [n for n in G.neighbors(next_neigh[0])]\n",
    "                next_neigh.remove(before[-2])\n",
    "            for step in before:\n",
    "                unpaired_node_list.remove(step) #bug with this line, cuts out 20 below, could implement it a bit diff\n",
    "    \n",
    "    #remaining is unknown but probably linear\n",
    "    for remain in unpaired_node_list:\n",
    "        name_final_lol[remain][1] = \"ambiguous\"\n",
    "    \n",
    "    return name_final_lol, multiloop_list, crossroad_list, cycle_list_G"
   ]
  },
  {
   "cell_type": "markdown",
   "metadata": {},
   "source": [
    "### 2. Corresponding side determination\n",
    "\n",
    "Side is an important property for a structure, especially for substructures and paired regions. For unpaired domains, it only determines the side its label is printed on, but for substructures, the side is uniform and it determines the 'rotation' one can walk through the loop (counter-clockwise/clockwise).  \n",
    "Given angles determine the side for the substructure they are in, not the input values explicitly, but the transformed angles for the loop's polygon (more on that later). For  loops, concave angles can be given, but this fact have to be clear by giving angles from the concave interval ([360 - 181 or -359 - -181].  \n",
    "Using these, all domains get a side property filled around the given info, if not provided, default is negative (-1) side.  "
   ]
  },
  {
   "cell_type": "code",
   "execution_count": 58,
   "metadata": {},
   "outputs": [],
   "source": [
    "def ds2_fill_side_col(struct_info_array, cycle_list_G, name_final_lol):\n",
    "    dom_count = len(struct_info_array[:,1])\n",
    "    \n",
    "    #we take side info from sign of rel.angle, not robust solution\n",
    "    for row in range(dom_count):\n",
    "        if struct_info_array[row, 0] != -999:\n",
    "            if name_final_lol[row][1] is \"bulgeloop\": #special case for bulge :/\n",
    "                struct_info_array[row, 1] = np.sign(int(struct_info_array[row, 0])*-1)\n",
    "            else:\n",
    "                struct_info_array[row, 1] = np.sign(int(struct_info_array[row, 0]))\n",
    "    \n",
    "    #first loop through cycles\n",
    "    for cycle in cycle_list_G:\n",
    "        sides_there = []\n",
    "        for dom_cyc in cycle:\n",
    "            sides_there.append(struct_info_array[dom_cyc, 1])\n",
    "            \n",
    "        #if 1 in sides_there and -1 in sides_there:\n",
    "        #    raise ValueError(f'conflicting angles with domains of index: {cycle}')   #not how should be handled\n",
    "        if -1 in sides_there:\n",
    "            for dom_cyc in cycle:\n",
    "                struct_info_array[dom_cyc, 1] = -1\n",
    "        #pos substruc\n",
    "        elif 1 in sides_there:\n",
    "            for dom_cyc in cycle:\n",
    "                struct_info_array[dom_cyc, 1] = 1\n",
    "        #neg substruc or all 0\n",
    "        else:\n",
    "            for dom_cyc in cycle:\n",
    "                struct_info_array[dom_cyc, 1] = 1\n",
    "    \n",
    "    #then remaining ones are just based on previous neighbor to look more homogenous\n",
    "    for dom_index in range(dom_count):\n",
    "        if struct_info_array[dom_index, 1] == 0: #don't change if already given side\n",
    "                if dom_index == 0:\n",
    "                    struct_info_array[0, 1] = -1\n",
    "                else:\n",
    "                    struct_info_array[dom_index, 1] = struct_info_array[dom_index-1, 1]\n",
    "        \n",
    "    return struct_info_array"
   ]
  },
  {
   "cell_type": "markdown",
   "metadata": {},
   "source": [
    "def ds2_fill_side_col(struct_info_array, cycle_list_G, name_final_lol):\n",
    "    dom_count = len(struct_info_array[:,1])\n",
    "    \n",
    "    paired_node_list = []\n",
    "    for node in paired_dict:\n",
    "        paired_node_list.append(node)\n",
    "        paired_node_list.append(paired_dict[node])\n",
    "    \n",
    "    #we take side info from sign of rel.angle ~ transformed into polygon angle\n",
    "    for row in range(dom_count):\n",
    "        if struct_info_array[row, 0] != -999:\n",
    "            #if dom in cycle, go through all tthese doms, get neighbor type\n",
    "            #\n",
    "            \n",
    "    def feed_polyarr_to_structarray(struct_info_array, polygon_array, cycle, paired_node_list):\n",
    "        \"\"\"Write back calculated relative angles and domain lengths(if appropriate) to SIA\"\"\"\n",
    "        \n",
    "        for poly_index in range(len(polygon_array[:,0])):\n",
    "            curr_dom_index = polygon_array[poly_index, 0]\n",
    "            poly_ang = polygon_array[poly_index, 1]\n",
    "            poly_len = polygon_array[poly_index, 2]\n",
    "            \n",
    "            side = struct_info_array[curr_dom_index, 1]\n",
    "            cyc_index = cycle.index(curr_dom_index)\n",
    "            \n",
    "            if curr_dom_index not in paired_node_list: #at the start of an unpaired there is always a polygon angle\n",
    "                struct_info_array[curr_dom_index, 2] = poly_len #if unpaired, the length we write over\n",
    "                \n",
    "                if cycle[cyc_index-1] not in paired_node_list: #unpaired-unpaired\n",
    "                    rel_angle = (poly_ang - 180) / side\n",
    "                    struct_info_array[curr_dom_index, 0] = rel_angle\n",
    "                \n",
    "                else:                                          #unpaired - paired(prev)\n",
    "                    rel_angle = (poly_ang - 90) / side\n",
    "                    struct_info_array[curr_dom_index, 0] = rel_angle\n",
    "            \n",
    "            else:\n",
    "                if cycle[cyc_index - 1] not in paired_node_list: #paired-unpaired\n",
    "                    rel_angle = (poly_ang - 90) / side\n",
    "                    struct_info_array[curr_dom_index, 0] = rel_angle\n",
    "                    \n",
    "                else: #it is always the right paired-paired, as we only put those in the table\n",
    "                    rel_angle = poly_ang*side\n",
    "                    struct_info_array[curr_dom_index, 0] = rel_angle\n",
    "        \n",
    "        return struct_info_array\n",
    "            \n",
    "            \n",
    "            ######################\n",
    "            \n",
    "            \n",
    "            #if outside of cycle just take rel angle\n",
    "                struct_info_array[row, 1] = np.sign(int(struct_info_array[row, 0]))\n",
    "\n",
    "    #first loop through cycles\n",
    "    for cycle in cycle_list_G:\n",
    "        sides_there = []\n",
    "        for dom_cyc in cycle:\n",
    "            sides_there.append(struct_info_array[dom_cyc, 1])\n",
    "            \n",
    "        #if 1 in sides_there and -1 in sides_there:\n",
    "        #    raise ValueError(f'conflicting angles with domains of index: {cycle}')   #not how should be handled\n",
    "        if -1 in sides_there:\n",
    "            for dom_cyc in cycle:\n",
    "                struct_info_array[dom_cyc, 1] = -1\n",
    "        #pos substruc\n",
    "        elif 1 in sides_there:\n",
    "            for dom_cyc in cycle:\n",
    "                struct_info_array[dom_cyc, 1] = 1\n",
    "        #neg substruc or all 0\n",
    "        else:\n",
    "            for dom_cyc in cycle:\n",
    "                struct_info_array[dom_cyc, 1] = -1\n",
    "    \n",
    "    #then remaining ones are just based on previous neighbor to look more homogenous\n",
    "    for dom_index in range(dom_count):\n",
    "        if struct_info_array[dom_index, 1] == 0: #don't change if already given side\n",
    "                if dom_index == 0:\n",
    "                    struct_info_array[0, 1] = -1\n",
    "                else:\n",
    "                    struct_info_array[dom_index, 1] = struct_info_array[dom_index-1, 1]\n",
    "        \n",
    "    return struct_info_array"
   ]
  },
  {
   "cell_type": "markdown",
   "metadata": {},
   "source": [
    "### 3. Resolves cycles by forming geometric shapes\n",
    "\n",
    "Do this for cycles larger than 4 nodes! Because 2 paired domains will contribute as 1 edge to the shape, so a 5-node cycle from the graph (like a basic bulge) will form a triangle  \n",
    "Only 2 smaller cycle examples: hairpin and paired into paired, can be considered separately."
   ]
  },
  {
   "cell_type": "code",
   "execution_count": 9,
   "metadata": {},
   "outputs": [],
   "source": [
    "def resolve_domains_in_cycles(struct_info_array, paired_dict, skeleton_graph):\n",
    "    \"\"\"\n",
    "    \n",
    "    This function handles a lot of stuff, separated in inner functions. We take cycles and assume their geometry \n",
    "    with trigonometric rules and fill in the information from the string.\n",
    "    \"\"\"\n",
    "    \n",
    "    cycle_list_G = nx.cycle_basis(skeleton_graph)\n",
    "    \n",
    "    paired_node_list = []\n",
    "    for node in paired_dict:\n",
    "        paired_node_list.append(node)\n",
    "        paired_node_list.append(paired_dict[node])\n",
    "        \n",
    "    def give_pair_of_domain(dom_index, paired_dict):\n",
    "        if dom_index in paired_dict:\n",
    "            return paired_dict[dom_index]\n",
    "        elif dom_index in list(paired_dict.values()):\n",
    "            index_of_pair = list(paired_dict.keys())[list(paired_dict.values()).index(dom_index)]\n",
    "            return index_of_pair\n",
    "        else:\n",
    "            raise ValueError('not actually paired')\n",
    "    \n",
    "    def initiate_polygon_table(cycle, struct_info_array, paired_dict, paired_node_list):\n",
    "        \"\"\"\n",
    "        \n",
    "        Create table for said polygon, the angles for the polygon depend only on relative angles from the string\n",
    "        \"\"\"\n",
    "        \n",
    "        cycle.sort()\n",
    "        polygon_array = np.zeros((int(polygon_sides), 3), dtype='float')\n",
    "        paired_dist = 10 #could be changed\n",
    "        \n",
    "        curr_row = 0\n",
    "        for cyc_index in range(len(cycle)):\n",
    "            input_ang = struct_info_array[cycle[cyc_index], 0]  #rel. angle\n",
    "            side = struct_info_array[cycle[cyc_index], 1]\n",
    "            \n",
    "            if cycle[cyc_index] not in paired_node_list: #at the start of an unpaired there is always a PA\n",
    "                polygon_array[curr_row, 0] = cycle[cyc_index]   #remember dom name to write back to\n",
    "                polygon_array[curr_row, 2] = struct_info_array[cycle[cyc_index], 2]  #dom length\n",
    "                    \n",
    "                curr_row += 1\n",
    "                \n",
    "                if cycle[cyc_index-1] not in paired_node_list: #unpaired-unpaired\n",
    "                    if input_ang == -999:\n",
    "                        poly_ang = 0\n",
    "                    else:\n",
    "                        poly_ang = 180 + input_ang*side\n",
    "                    polygon_array[curr_row, 1] = poly_ang\n",
    "                \n",
    "                else:                                          #unpaired - paired(prev)\n",
    "                    if input_ang == -999:\n",
    "                        poly_ang = 0\n",
    "                    else:\n",
    "                        poly_ang = 90 + input_ang*side\n",
    "                    polygon_array[curr_row, 1] = poly_ang\n",
    "            \n",
    "            else:\n",
    "                pair_of_curr = give_pair_of_domain(cycle[cyc_index], paired_dict)\n",
    "                \n",
    "                if cycle[cyc_index - 1] not in paired_node_list: #paired-unpaired\n",
    "                    if input_ang == -999:\n",
    "                        poly_ang = 0\n",
    "                    else:\n",
    "                        poly_ang = 90 + input_ang*side\n",
    "                    \n",
    "                    polygon_array[curr_row, 0] = cycle[cyc_index]   #remember dom name to write back to\n",
    "                    polygon_array[curr_row, 1] = poly_ang\n",
    "                    polygon_array[curr_row, 2] = paired_dist  #dom length\n",
    "                \n",
    "                    curr_row += 1 #update row in polygon_array\n",
    "                    \n",
    "                elif cycle[cyc_index - 1] in paired_node_list and cycle[cyc_index - 1] != pair_of_curr: #paired-paired\n",
    "                    if input_ang == -999:\n",
    "                        poly_ang = 0\n",
    "                    else:\n",
    "                        poly_ang = np.abs(input_ang)\n",
    "                    \n",
    "                    polygon_array[curr_row, 0] = cycle[cyc_index]   #remember dom name to write back to\n",
    "                    polygon_array[curr_row, 1] = poly_ang\n",
    "                    polygon_array[curr_row, 2] = paired_dist  #dom length\n",
    "                \n",
    "                    curr_row += 1 #update row in polygon_array\n",
    "        \n",
    "        print(polygon_array)\n",
    "        \n",
    "        return polygon_array\n",
    "    \n",
    "    def indicate_polygon_case(polygon_array):\n",
    "        \"\"\"\n",
    "        \n",
    "        Based on arbitrary rules involving properties already in the polygon table, this function determines, \n",
    "        in which class the current loop belongs, hence with which algorithm we want to solve it.\n",
    "        \"\"\"\n",
    "                \n",
    "        angles_not_given = 0\n",
    "        length_not_given = 0\n",
    "        case1 = False\n",
    "        for row in range(len(polygon_array[:,0])):\n",
    "            if polygon_array[row-1, 2] == 0 and polygon_array[row-1, 1] == 0 and polygon_array[row, 1] == 0:\n",
    "                case1 = True\n",
    "            if polygon_array[row, 2] == 0:\n",
    "                length_not_given += 1\n",
    "            if polygon_array[row, 1] == 0:\n",
    "                angles_not_given += 1\n",
    "\n",
    "        #case1\n",
    "        if case1 == True:\n",
    "            return \"case 1\"\n",
    "        else:\n",
    "            if length_not_given >= 2:  #parallelness needs to be solved in case2calc function\n",
    "                return \"case 2\"\n",
    "            elif length_not_given == 1:\n",
    "                if angles_not_given >= 2:\n",
    "                    return \"case 3\"\n",
    "                else:\n",
    "                    return \"case 1\" #1l 0-1a\n",
    "            else:  #all lengths known - like crossroads!\n",
    "                return \"case 4\"\n",
    "            \n",
    "    def case1calc(polygon_array):\n",
    "        \"\"\"\n",
    "\n",
    "        Calculates points of a vector polygon where at least 1 edge length is unknown, we start\n",
    "        drawing from (0, 0) with the next domain after this choosen 'loose edge'. We assume \n",
    "        angles and length for every cell other than this loose end. Calculate the vertices \n",
    "        and calculate the last edge length and two last angles.\n",
    "        \"\"\"\n",
    "        def calc_degree(vector1, vector2):\n",
    "            cos_alpha = np.dot(vector1, vector2)/(np.linalg.norm(vector1)*np.linalg.norm(vector2))\n",
    "            degree = np.arccos(cos_alpha)*180/np.pi\n",
    "            return degree\n",
    "        \n",
    "        def deg_to_rad(deg):\n",
    "            return deg*np.pi/180\n",
    "        \n",
    "        def resort_list_to_start_by_spec_value(dom_index, list_with_value):\n",
    "            index = list_with_value.index(dom_index)\n",
    "            sorted_list = []\n",
    "            for i in range(len(list_with_value)):\n",
    "                sorted_list.append(list_with_value[index-len(list_with_value)+i])\n",
    "            return sorted_list\n",
    "        \n",
    "        n_poly = len(polygon_array[:,0])\n",
    "        given_ang_list = []\n",
    "        \n",
    "        for row in range(n_poly):\n",
    "            if polygon_array[row-1, 2] == 0 and polygon_array[row-1, 1] == 0 and polygon_array[row, 1] == 0:\n",
    "                start = row\n",
    "            if polygon_array[row, 1] != 0:\n",
    "                given_ang_list.append(polygon_array[row, 1])\n",
    "        \n",
    "        #distribute remaining angles\n",
    "        poly_angles_sum = (n_poly - 2) * 180\n",
    "        \n",
    "        remaining_average = (poly_angles_sum - sum(given_ang_list))/(n_poly - len(given_ang_list))\n",
    "        \n",
    "        for row in range(n_poly):\n",
    "            if polygon_array[row, 1] == 0:\n",
    "                polygon_array[row, 1] = remaining_average #set all unknown angles for this mean value\n",
    "                \n",
    "        #get length/angle mean ratio\n",
    "        known_len_angle_sum = []\n",
    "        for row in range(n_poly):\n",
    "            if polygon_array[row-1, 2] != 0: #non-null length\n",
    "                len_angle_sum_multip_here = (polygon_array[row-1, 1] + polygon_array[row, 1]) * polygon_array[row-1, 2]\n",
    "                known_len_angle_sum.append(len_angle_sum_multip_here)\n",
    "        len_angle_ratio = np.mean(known_len_angle_sum)\n",
    "        \n",
    "        #fill length col by using len_angle_ratio\n",
    "        for row in range(n_poly):\n",
    "            if polygon_array[row-1, 2] == 0: #null length! :)\n",
    "                new_len = len_angle_ratio / (polygon_array[row-1, 1] + polygon_array[row, 1])\n",
    "                polygon_array[row-1, 2] = new_len\n",
    "        \n",
    "        print(polygon_array)\n",
    "        \n",
    "        #get drawing order by resorting index list\n",
    "        index_list = [n for n in range(n_poly)]\n",
    "        resorted_list = resort_list_to_start_by_spec_value(start, index_list)\n",
    "        resorted_list.pop() #remove last item which is the 'loose end' domain \n",
    "        \n",
    "        #the table is filled and we can start calculating coords at domain 'start'\n",
    "        coords = np.array([[0, 0]])\n",
    "        \n",
    "        for index_in_list in range(len(resorted_list)):\n",
    "            ang_here = polygon_array[resorted_list[index_in_list], 1]\n",
    "            len_here = polygon_array[resorted_list[index_in_list], 2]\n",
    "            \n",
    "            if index_in_list == 0:\n",
    "                curr_coords = np.array([[len_here, 0]])\n",
    "                abs_ang = 0\n",
    "            else:\n",
    "                abs_ang += 180-ang_here #abs angle is the outside angle of the polygon, adding them up \n",
    "                curr_coords = coords[-1] + np.array([[np.cos(deg_to_rad(abs_ang)) * len_here, \n",
    "                                                     np.sin(deg_to_rad(abs_ang)) * len_here]])\n",
    "            \n",
    "            coords = np.append(coords, curr_coords, axis=0)\n",
    "        \n",
    "        #the last prev_coords we get and [0, 0] adds the last side of the polygon\n",
    "        len_last = np.linalg.norm(coords[-1])\n",
    "        polygon_array[start-1, 2] = len_last\n",
    "        \n",
    "        #angle at start-1\n",
    "        vector1 = coords[-2] - coords[-1]\n",
    "        vector2 = coords[0] - coords[-1]\n",
    "        angle = calc_degree(vector1, vector2)\n",
    "        \n",
    "        polygon_array[start-1, 1] = angle\n",
    "        \n",
    "        #angle at start\n",
    "        vector1 = coords[-1] - coords[0]\n",
    "        vector2 = coords[1] - coords[0]\n",
    "        angle = calc_degree(vector1, vector2)\n",
    "        \n",
    "        polygon_array[start, 1] = angle\n",
    "        \n",
    "        print(polygon_array)\n",
    "        \n",
    "        return polygon_array\n",
    "        \n",
    "    def feed_polyarr_to_structarray(struct_info_array, polygon_array, cycle, paired_node_list):\n",
    "        \"\"\"Write back calculated relative angles and domain lengths(if appropriate) to SIA\"\"\"\n",
    "        \n",
    "        for poly_index in range(len(polygon_array[:,0])):\n",
    "            curr_dom_index = int(polygon_array[poly_index, 0])\n",
    "            poly_ang = polygon_array[poly_index, 1]\n",
    "            poly_len = polygon_array[poly_index, 2]\n",
    "            \n",
    "            side = struct_info_array[curr_dom_index, 1]\n",
    "            cyc_index = cycle.index(curr_dom_index)\n",
    "            \n",
    "            if curr_dom_index not in paired_node_list: #at the start of an unpaired there is always a polygon angle\n",
    "                struct_info_array[curr_dom_index, 2] = poly_len #if unpaired, the length we write over\n",
    "                \n",
    "                if cycle[cyc_index-1] not in paired_node_list: #unpaired-unpaired\n",
    "                    rel_angle = (poly_ang - 180) / side\n",
    "                    struct_info_array[curr_dom_index, 0] = rel_angle\n",
    "                \n",
    "                else:                                          #unpaired - paired(prev)\n",
    "                    rel_angle = (poly_ang - 90) / side\n",
    "                    struct_info_array[curr_dom_index, 0] = rel_angle\n",
    "            \n",
    "            else:\n",
    "                if cycle[cyc_index - 1] not in paired_node_list: #paired-unpaired\n",
    "                    rel_angle = (poly_ang - 90) / side\n",
    "                    struct_info_array[curr_dom_index, 0] = rel_angle\n",
    "                    \n",
    "                else: #it is always the right paired-paired, as we only put those in the table\n",
    "                    rel_angle = poly_ang*side\n",
    "                    struct_info_array[curr_dom_index, 0] = rel_angle\n",
    "        \n",
    "        return struct_info_array\n",
    "    \n",
    "    #MAIN LOOP\n",
    "    for cycle in cycle_list_G:\n",
    "        #treat hairpin and paired into paired separately ~ no polygon there\n",
    "        polygon_sides = 0\n",
    "        for item in cycle:\n",
    "            if item in paired_node_list:\n",
    "                polygon_sides += 0.5\n",
    "            else:\n",
    "                polygon_sides += 1\n",
    "                \n",
    "        if polygon_sides == 2: #special cases\n",
    "            if len(cycle) == 3: #hairpin, nothing to do here\n",
    "                pass\n",
    "            elif len(cycle) == 4: #paired into paired, can fill in two 0 angles\n",
    "                cycle.sort()      #the domains will be after this always the secomd and fourth in cycle\n",
    "                struct_info_array[cycle[1], 0] = 0\n",
    "                struct_info_array[cycle[3], 0] = 0\n",
    "\n",
    "        elif polygon_sides >= 3: #has a polygon\n",
    "            polygon_array = initiate_polygon_table(cycle, struct_info_array, paired_dict, paired_node_list)\n",
    "            \n",
    "            print(cycle, indicate_polygon_case(polygon_array))\n",
    "            \n",
    "            if indicate_polygon_case(polygon_array) == \"case 1\":\n",
    "                polygon_array = case1calc(polygon_array)\n",
    "            elif indicate_polygon_case(polygon_array) == \"case 2\":\n",
    "                pass\n",
    "            elif indicate_polygon_case(polygon_array) == \"case 3\":\n",
    "                pass\n",
    "            elif indicate_polygon_case(polygon_array) == \"case 4\":\n",
    "                pass\n",
    "            \n",
    "            #add calculated info back to SIA\n",
    "            struct_info_array = feed_polyarr_to_structarray(struct_info_array, polygon_array, cycle, paired_node_list)\n",
    "            \n",
    "    return struct_info_array"
   ]
  },
  {
   "cell_type": "code",
   "execution_count": 10,
   "metadata": {},
   "outputs": [
    {
     "name": "stdout",
     "output_type": "stream",
     "text": [
      "[[ 2.  0. 35.]\n",
      " [ 3.  0. 10.]\n",
      " [ 6.  0.  0.]\n",
      " [ 7.  0. 10.]]\n",
      "[1, 2, 3, 5, 6, 7] case 1\n",
      "[[ 2.         90.         35.        ]\n",
      " [ 3.         90.         10.        ]\n",
      " [ 6.         90.         18.33333333]\n",
      " [ 7.         90.         10.        ]]\n",
      "[[ 2. 90. 35.]\n",
      " [ 3. 90. 10.]\n",
      " [ 6. 90. 35.]\n",
      " [ 7. 90. 10.]]\n"
     ]
    },
    {
     "data": {
      "text/plain": [
       "array([[-999,   -1,    0],\n",
       "       [-999,   -1,    0],\n",
       "       [   0,   -1,   35],\n",
       "       [   0,   -1,    0],\n",
       "       [-999,   -1,    0],\n",
       "       [-999,   -1,    0],\n",
       "       [   0,   -1,   35],\n",
       "       [   0,   -1,    0],\n",
       "       [-999,   -1,    0]])"
      ]
     },
     "execution_count": 10,
     "metadata": {},
     "output_type": "execute_result"
    }
   ],
   "source": [
    "string = \"a b( c d( hp ) e ) g\"\n",
    "length_input_dict = {2:35}\n",
    "dom_raw_list, struct_info_array, paired_dict, name_final_lol = comprehend_string(string)\n",
    "struct_info_array = process_length_input(struct_info_array, length_input_dict)\n",
    "skeleton_graph = create_skeleton(dom_raw_list, paired_dict, name_final_lol)\n",
    "name_final_lol, multiloop_list, crossroad_list, cycle_list_G = ds1_find_type_of_unpaired_v2(skeleton_graph, paired_dict, name_final_lol)\n",
    "struct_info_array = ds2_fill_side_col(struct_info_array, cycle_list_G, name_final_lol)\n",
    "struct_info_array2 = resolve_domains_in_cycles(struct_info_array, paired_dict, skeleton_graph)\n",
    "struct_info_array2"
   ]
  },
  {
   "cell_type": "markdown",
   "metadata": {},
   "source": [
    "### 4. Determine traversing order based on graph \n",
    "\n",
    "This will ensure that every domain is approached from a point that is already known\n",
    "\n",
    "Start at the beginning, walk along the network with the following preferences:  \n",
    "-If it is a paired domain, we draw its pair too (since its obvious and it gives another constraint for the structure)  \n",
    "-Check if domain is in cycle(substructure), if yes, we prioritize the cycle elements and get from in-point to out-point  \n",
    "-While walking along the cycle, put the neighbors not in the current cycle to the back"
   ]
  },
  {
   "cell_type": "code",
   "execution_count": 11,
   "metadata": {},
   "outputs": [],
   "source": [
    "#determine order of traversal (order of domains to build up)\n",
    "def ds3a_determine_contstruct_order(skeleton_graph, paired_dict):\n",
    "    cycle_list_G = nx.cycle_basis(skeleton_graph)\n",
    "    \n",
    "    paired_node_list = []\n",
    "    for node in paired_dict:\n",
    "        paired_node_list.append(node)\n",
    "        paired_node_list.append(paired_dict[node])\n",
    "    \n",
    "    def find_cycle_where_index_belongs(dom_index, cycle_list_G): #now finds largest cycle\n",
    "        found = []\n",
    "        for cycle in cycle_list_G:\n",
    "            if dom_index in cycle and len(cycle) > len(found):\n",
    "                found = cycle\n",
    "        return found\n",
    "    \n",
    "    def resort_list_to_start_by_spec_value(dom_index, list_with_value):\n",
    "        index = list_with_value.index(dom_index)\n",
    "        sorted_list = []\n",
    "        for i in range(len(list_with_value)):\n",
    "            sorted_list.append(list_with_value[index-len(list_with_value)+i])\n",
    "        return sorted_list\n",
    "    \n",
    "    def give_pair_of_domain(dom_index, paired_dict):\n",
    "        if dom_index in paired_dict:\n",
    "            return paired_dict[dom_index]\n",
    "        elif dom_index in list(paired_dict.values()):\n",
    "            index_of_pair = list(paired_dict.keys())[list(paired_dict.values()).index(dom_index)]\n",
    "            return index_of_pair\n",
    "        else:\n",
    "            raise ValueError('not actually paired')\n",
    "    \n",
    "    #\n",
    "    traverse_order = [0]\n",
    "    \n",
    "    for node in traverse_order:\n",
    "        current_in_travord = traverse_order.index(node)\n",
    "        counter = 0 #helps with insert index\n",
    "        \n",
    "        #pair primary\n",
    "        if node in paired_node_list:\n",
    "            pair_first = give_pair_of_domain(node, paired_dict) #pair first!\n",
    "            if pair_first not in traverse_order:\n",
    "                traverse_order.insert(current_in_travord + 1, pair_first)\n",
    "                counter += 1\n",
    "        \n",
    "        #cycle secondary\n",
    "        its_cycle = find_cycle_where_index_belongs(node, cycle_list_G)\n",
    "        if len(its_cycle) != 0: #if in cycle\n",
    "            its_cycle.sort() #sort it first, bugfix\n",
    "            #resort so current is at first place\n",
    "            resorted_cycle = resort_list_to_start_by_spec_value(node, its_cycle)\n",
    "            \n",
    "            for item in resorted_cycle:\n",
    "                if item not in traverse_order:\n",
    "                    traverse_order.insert(current_in_travord + counter + 1, item)\n",
    "                    counter += 1\n",
    "                        \n",
    "        #other neighbor tertiary\n",
    "        neighbors = skeleton_graph.neighbors(node)\n",
    "        for neighbor in neighbors:  #other neighbor third!\n",
    "            if neighbor not in traverse_order:\n",
    "                traverse_order.append(neighbor)\n",
    "\n",
    "    return traverse_order"
   ]
  },
  {
   "cell_type": "code",
   "execution_count": 12,
   "metadata": {},
   "outputs": [
    {
     "name": "stdout",
     "output_type": "stream",
     "text": [
      "[[12.  0.  0.]\n",
      " [13.  0. 10.]\n",
      " [15.  0.  0.]\n",
      " [16.  0. 10.]]\n",
      "[11, 12, 13, 14, 15, 16] case 1\n",
      "[[12. 90. 10.]\n",
      " [13. 90. 10.]\n",
      " [15. 90. 10.]\n",
      " [16. 90. 10.]]\n",
      "[[12. 90. 10.]\n",
      " [13. 90. 10.]\n",
      " [15. 90. 10.]\n",
      " [16. 90. 10.]]\n",
      "[[ 3.  0.  0.]\n",
      " [ 4.  0. 10.]\n",
      " [10.  0.  0.]\n",
      " [11.  0. 10.]\n",
      " [17.  0.  0.]\n",
      " [18.  0. 10.]]\n",
      "[2, 3, 4, 9, 10, 11, 16, 17, 18] case 1\n",
      "[[  3. 120.  10.]\n",
      " [  4. 120.  10.]\n",
      " [ 10. 120.  10.]\n",
      " [ 11. 120.  10.]\n",
      " [ 17. 120.  10.]\n",
      " [ 18. 120.  10.]]\n",
      "[[  3. 120.  10.]\n",
      " [  4. 120.  10.]\n",
      " [ 10. 120.  10.]\n",
      " [ 11. 120.  10.]\n",
      " [ 17. 120.  10.]\n",
      " [ 18. 120.  10.]]\n",
      "[[ 5.  0.  0.]\n",
      " [ 6.  0. 10.]\n",
      " [ 9.  0. 10.]]\n",
      "[4, 5, 6, 8, 9] case 1\n",
      "[[ 5. 60. 10.]\n",
      " [ 6. 60. 10.]\n",
      " [ 9. 60. 10.]]\n",
      "[[ 5. 60. 10.]\n",
      " [ 6. 60. 10.]\n",
      " [ 9. 60. 10.]]\n",
      "[0, 1, 2, 18, 3, 4, 9, 10, 11, 16, 17, 5, 6, 8, 12, 13, 14, 15, 7]\n"
     ]
    }
   ],
   "source": [
    "string = \"h1 h2 a( m1 b( c d( hp1 ) ) m2 e( i1 f( + ) i2 ) m3 )\"\n",
    "length_input_dict = {2:40}\n",
    "\n",
    "dom_raw_list, struct_info_array, paired_dict, name_final_lol = comprehend_string(string)\n",
    "struct_info_array = process_length_input(struct_info_array, length_input_dict)\n",
    "skeleton_graph = create_skeleton(dom_raw_list, paired_dict, name_final_lol)\n",
    "name_final_lol, multiloop_list, crossroad_list, cycle_list_G = ds1_find_type_of_unpaired_v2(skeleton_graph, paired_dict, name_final_lol)\n",
    "struct_info_array = ds2_fill_side_col(struct_info_array, cycle_list_G, name_final_lol)\n",
    "    \n",
    "    #if no cycles skip cycle resolve:\n",
    "if len(cycle_list_G) == 0:\n",
    "    struct_info_array2 = struct_info_array\n",
    "else:\n",
    "    struct_info_array2 = resolve_domains_in_cycles(struct_info_array, paired_dict, skeleton_graph)\n",
    "\n",
    "traverse_order = ds3a_determine_contstruct_order(skeleton_graph, paired_dict)\n",
    "print(traverse_order)"
   ]
  },
  {
   "cell_type": "markdown",
   "metadata": {},
   "source": [
    "## Building the structure step-by-step\n",
    "\n",
    "Go according to traverse list:  \n",
    "1 . Write over known coinciding point coords - for unpaired and first of a paired pair (not for domain 0)  \n",
    "2 . Each domain is drawn with known or preferred angles/length, the preferred angles  \n",
    "3? . For each domain, check if assumed parameters seem correct in the context of structure thus far, if not, try other preferred angles or any other - go back to prev domain if fails?  \n",
    "\n",
    "#### Defaults currently\n",
    "Linear domain: 30  \n",
    "Between pairs: 10  \n",
    "Default angle lists, for different domain pairs:  \n",
    "..."
   ]
  },
  {
   "cell_type": "code",
   "execution_count": 13,
   "metadata": {},
   "outputs": [],
   "source": [
    "def ds3b_stepwise_buildup(struct_info_array2, paired_dict, name_final_lol, crossroad_list, traverse_order, skeleton_graph):\n",
    "    \"\"\"\n",
    "    \n",
    "    Taking the more-or-less filled SIA, we go along the traversing/drawing order, assume lengths and angles for\n",
    "    unpaired, out-of-loop domains and loop starters.\n",
    "    \"\"\"\n",
    "    \n",
    "    paired_dist = 10\n",
    "    \n",
    "    dom_count = len(traverse_order)\n",
    "    coordinate_array = np.zeros((dom_count, 4))\n",
    "    cycle_list_G = nx.cycle_basis(skeleton_graph)\n",
    "    \n",
    "    #add a new col for absolute angle values\n",
    "    struct_info_array2 = np.append(struct_info_array2, [[0] for i in range(len(struct_info_array2[:,0]))], axis=1)\n",
    "    \n",
    "    #average over given lengths to get a default unpaired length\n",
    "    n_given_len = 0\n",
    "    sum_length = 0\n",
    "    for length in struct_info_array2[:,2]:\n",
    "        if length != 0:\n",
    "            n_given_len += 1\n",
    "            sum_length += length\n",
    "    if n_given_len == 0:\n",
    "        default_length = 30\n",
    "    else:\n",
    "        default_length = sum_length/n_given_len\n",
    "    \n",
    "    #paired list as before\n",
    "    paired_node_list = []\n",
    "    for node in paired_dict:\n",
    "        paired_node_list.append(node)\n",
    "        paired_node_list.append(paired_dict[node])\n",
    "        \n",
    "    def get_red_neigh(domain_index, skeleton_graph):\n",
    "        connections = [n for n in skeleton_graph.edges.data(nbunch=domain_index)]\n",
    "        red_neigh = []\n",
    "        for edge in connections:\n",
    "            if edge[2]['color'] is 'r':\n",
    "                red_neigh.append(edge[1])\n",
    "        return red_neigh\n",
    "    \n",
    "    def give_pair_of_domain(dom_index, paired_dict):\n",
    "        if dom_index in paired_dict:\n",
    "            return paired_dict[dom_index]\n",
    "        elif dom_index in list(paired_dict.values()):\n",
    "            index_of_pair = list(paired_dict.keys())[list(paired_dict.values()).index(dom_index)]\n",
    "            return index_of_pair\n",
    "        else:\n",
    "            raise ValueError('not actually paired')\n",
    "    \n",
    "    def get_preferred_angle(domain_index, paired_node_list, skeleton_graph, traverse_order): #would be better with name_final\n",
    "        neighbors = get_red_neigh(domain_index, skeleton_graph)\n",
    "        if min(neighbors) == domain_index-1: #connected to prev dom\n",
    "            if traverse_order.index(min(neighbors)) < traverse_order.index(domain_index):\n",
    "                if min(neighbors) in paired_node_list and domain_index in paired_node_list:\n",
    "                    pref_angle = 60\n",
    "\n",
    "                elif min(neighbors) in paired_node_list and domain_index not in paired_node_list:\n",
    "                    pref_angle = 90\n",
    "\n",
    "                elif min(neighbors) not in paired_node_list and domain_index in paired_node_list:\n",
    "                    pref_angle = 90\n",
    "\n",
    "                elif min(neighbors) not in paired_node_list and domain_index not in paired_node_list:\n",
    "                    pref_angle = 0\n",
    "\n",
    "            elif traverse_order.index(min(neighbors)) > traverse_order.index(domain_index): #if backwards (SB case)\n",
    "                if max(neighbors) in paired_node_list and domain_index in paired_node_list:\n",
    "                    pref_angle = 120\n",
    "\n",
    "                elif max(neighbors) in paired_node_list and domain_index not in paired_node_list:\n",
    "                    pref_angle = 45\n",
    "\n",
    "                elif max(neighbors) not in paired_node_list and domain_index in paired_node_list:\n",
    "                    pref_angle = 45\n",
    "\n",
    "                elif max(neighbors) not in paired_node_list and domain_index not in paired_node_list:\n",
    "                    pref_angle = 180\n",
    "            \n",
    "        else:  #not connected to prev dom, so only to next dom\n",
    "            if min(neighbors) in paired_node_list and domain_index in paired_node_list:\n",
    "                pref_angle = 120\n",
    "\n",
    "            elif min(neighbors) in paired_node_list and domain_index not in paired_node_list:\n",
    "                pref_angle = 45\n",
    "\n",
    "            elif min(neighbors) not in paired_node_list and domain_index in paired_node_list:\n",
    "                pref_angle = 45\n",
    "\n",
    "            elif min(neighbors) not in paired_node_list and domain_index not in paired_node_list:\n",
    "                pref_angle = 180\n",
    "\n",
    "        return pref_angle\n",
    "    \n",
    "    def normal_length1(vector, side):\n",
    "        unit_vector = vector/np.linalg.norm(vector)\n",
    "        unit_normal = np.array([-1*side*unit_vector[1], side*unit_vector[0]])\n",
    "        \n",
    "        return unit_normal\n",
    "    \n",
    "    def deg_to_rad(deg):\n",
    "        return deg*np.pi/180\n",
    "    \n",
    "    def calc_coords_of_paired2(domain_index, struct_info_array2, coordinate_array):\n",
    "        side = struct_info_array2[domain_index, 1]\n",
    "        x0p, y0p, x1p, y1p = coordinate_array[give_pair_of_domain(domain_index, paired_dict)]\n",
    "        pair1vec = np.array([x1p - x0p, y1p - y0p])\n",
    "        \n",
    "        #direction of normal_vec has to be opposite of the default normal_vec, as that points outside and this inside\n",
    "        x0, y0 = np.array([x1p, y1p]) + normal_length1(pair1vec, side) * paired_dist *-1  \n",
    "        x1, y1 = np.array([x0, y0]) + pair1vec * -1\n",
    "        \n",
    "        return x0, y0, x1, y1\n",
    "    \n",
    "    def calculate_other_two_coords(x, y, abs_angle, length):\n",
    "        abs_angle_rad = deg_to_rad(abs_angle)\n",
    "        \n",
    "        next_x = x + np.cos(abs_angle_rad) * length\n",
    "        next_y = y + np.sin(abs_angle_rad) * length\n",
    "        \n",
    "        return next_x, next_y\n",
    "    \n",
    "    def take_opposite_angle(angle):\n",
    "        if angle > 0:\n",
    "            angle -= 180\n",
    "        else:\n",
    "            angle += 180\n",
    "        return angle\n",
    "    \n",
    "    def check_domain_intersection_to_prev_data():\n",
    "        pass\n",
    "    \n",
    "    #MAIN LOOP   \n",
    "    for domain_index in traverse_order:\n",
    "        written_rows = traverse_order[0 : traverse_order.index(domain_index)] #rows before current in TO\n",
    "        \n",
    "        if domain_index == 0: #0th dom\n",
    "            if struct_info_array2[0, 0] == -999:\n",
    "                abs_angle = 0\n",
    "            else:\n",
    "                abs_angle = struct_info_array2[0, 0]\n",
    "                struct_info_array2[0, 3] = abs_angle  #the absolute angle summation starts here\n",
    "            \n",
    "            if struct_info_array2[0, 2] == 0:\n",
    "                length_here = default_length\n",
    "            else:\n",
    "                length_here = struct_info_array2[0, 2]\n",
    "            \n",
    "            x1,y1 = calculate_other_two_coords(0, 0, abs_angle, length_here)\n",
    "            coordinate_array[0, 2] = x1\n",
    "            coordinate_array[0, 3] = y1\n",
    "            \n",
    "        else: #all other doms\n",
    "            #when drawing the second pair, just offset the first\n",
    "            if domain_index in paired_node_list and give_pair_of_domain(domain_index, paired_dict) in written_rows:\n",
    "                x0, y0, x1, y1 = calc_coords_of_paired2(domain_index, struct_info_array2, coordinate_array)\n",
    "                coordinate_array[domain_index, 0] = x0\n",
    "                coordinate_array[domain_index, 1] = y0\n",
    "                coordinate_array[domain_index, 2] = x1\n",
    "                coordinate_array[domain_index, 3] = y1\n",
    "                \n",
    "                abs_of_pair = struct_info_array2[give_pair_of_domain(domain_index, paired_dict), 3]\n",
    "                abs_here = take_opposite_angle(abs_of_pair)\n",
    "                struct_info_array2[domain_index, 3] = abs_here\n",
    "            \n",
    "            #others: unpaireds, first pairs\n",
    "            else:\n",
    "                side = struct_info_array2[domain_index, 1]\n",
    "                neighbors = get_red_neigh(domain_index, skeleton_graph)\n",
    "                \n",
    "                #rel_angle cases\n",
    "                if struct_info_array2[domain_index, 0] == -999:\n",
    "                    prefer = get_preferred_angle(domain_index, paired_node_list, skeleton_graph, traverse_order)\n",
    "                    #print(prefer)\n",
    "                    rel_angle = side * prefer\n",
    "                else:\n",
    "                    rel_angle = struct_info_array2[domain_index, 0]\n",
    "                    \n",
    "                #dom length cases\n",
    "                if struct_info_array2[domain_index, 2] == 0:\n",
    "                    length_here = default_length\n",
    "                else:\n",
    "                    length_here = struct_info_array2[domain_index, 2]\n",
    "                \n",
    "                \n",
    "                #for doms > 0 and previous dom didn't have strand break, x0, y0 is the same as x1, y1 of prev dom\n",
    "                if len(neighbors) == 1:\n",
    "                    if neighbors[0] < domain_index:\n",
    "                        coordinate_array[domain_index, 0] = coordinate_array[neighbors[0], 2]\n",
    "                        coordinate_array[domain_index, 1] = coordinate_array[neighbors[0], 3]\n",
    "                        \n",
    "                        abs_angle = struct_info_array2[neighbors[0], 3] + rel_angle\n",
    "                        struct_info_array2[domain_index, 3] = abs_angle #fill out abs angle field\n",
    "\n",
    "                        x0, y0 = coordinate_array[domain_index, 0], coordinate_array[domain_index, 1]\n",
    "                        x1, y1 = calculate_other_two_coords(x0, y0, abs_angle, length_here)\n",
    "                        coordinate_array[domain_index, 2] = x1\n",
    "                        coordinate_array[domain_index, 3] = y1\n",
    "                        \n",
    "                        \n",
    "                    elif neighbors[0] > domain_index:\n",
    "                        coordinate_array[domain_index, 2] = coordinate_array[neighbors[0], 0]\n",
    "                        coordinate_array[domain_index, 3] = coordinate_array[neighbors[0], 1]\n",
    "                        \n",
    "                        abs_angle = take_opposite_angle(struct_info_array2[neighbors[0], 3]) - rel_angle\n",
    "                        struct_info_array2[domain_index, 3] = abs_angle #fill out abs angle field\n",
    "\n",
    "                        x1, y1 = coordinate_array[domain_index, 2], coordinate_array[domain_index, 3] #other way around\n",
    "                        #print(struct_info_array2[neighbors[0], 3], rel_angle, abs_angle)\n",
    "                        #print(\"first\", x1, y1, abs_angle, length_here)\n",
    "                        x0, y0 = calculate_other_two_coords(x1, y1, abs_angle, length_here)\n",
    "                        coordinate_array[domain_index, 0] = x0\n",
    "                        coordinate_array[domain_index, 1] = y0\n",
    "                        \n",
    "                if len(neighbors) == 2:\n",
    "                    for neigh in neighbors:\n",
    "                        if neigh < domain_index:\n",
    "                            if neigh in written_rows:\n",
    "                                coordinate_array[domain_index, 0] = coordinate_array[domain_index - 1, 2]\n",
    "                                coordinate_array[domain_index, 1] = coordinate_array[domain_index - 1, 3]\n",
    "\n",
    "                        if neigh > domain_index:\n",
    "                            if neigh in written_rows:\n",
    "                                coordinate_array[domain_index, 2] = coordinate_array[domain_index + 1, 0]\n",
    "                                coordinate_array[domain_index, 3] = coordinate_array[domain_index + 1, 1]\n",
    "\n",
    "                    for neigh in neighbors:\n",
    "                        if neigh < domain_index:\n",
    "                            if neigh not in written_rows:\n",
    "                                abs_angle = take_opposite_angle(struct_info_array2[domain_index + 1, 3]) - rel_angle #take the abs angle of the written neighbor\n",
    "                                struct_info_array2[domain_index, 3] = abs_angle #fill out abs angle field\n",
    "\n",
    "                                x1, y1 = coordinate_array[domain_index, 2], coordinate_array[domain_index, 3]\n",
    "                                #print(struct_info_array2[domain_index+1, 3], rel_angle, abs_angle)\n",
    "                                #print(\"second\", x1, y1, abs_angle, length_here)\n",
    "                                x0, y0 = calculate_other_two_coords(x1, y1, abs_angle, length_here)\n",
    "                                coordinate_array[domain_index, 0] = x0\n",
    "                                coordinate_array[domain_index, 1] = y0\n",
    "                        if neigh > domain_index:\n",
    "                            if neigh not in written_rows:\n",
    "                                abs_angle = struct_info_array2[neighbors[0], 3] + rel_angle\n",
    "                                struct_info_array2[domain_index, 3] = abs_angle #fill out abs angle field\n",
    "\n",
    "                                x0, y0 = coordinate_array[domain_index, 0], coordinate_array[domain_index, 1]\n",
    "                                x1, y1 = calculate_other_two_coords(x0, y0, abs_angle, length_here)\n",
    "                                coordinate_array[domain_index, 2] = x1\n",
    "                                coordinate_array[domain_index, 3] = y1\n",
    "                                \n",
    "    return coordinate_array"
   ]
  },
  {
   "cell_type": "markdown",
   "metadata": {},
   "source": [
    "### 2. Prepare color lists for drawing\n",
    "A couple predefined palettes (IBM, Wong, viridis-magma) or user given color lists can be used"
   ]
  },
  {
   "cell_type": "code",
   "execution_count": 14,
   "metadata": {},
   "outputs": [],
   "source": [
    "def create_color_list(name_final_lol, paired_dict, multiloop_list, palette):\n",
    "    \"\"\"\n",
    "    \n",
    "    color list for each domain where: pairs are same color, multiloops are same color, \n",
    "    neighbor domains never same color\n",
    "    \"\"\"\n",
    "    if palette is \"IBM\":\n",
    "        colors = [\"#648FFF\", \"#785EF0\", \"#DC267F\", \"#FE6100\", \"#FFB000\"]\n",
    "        background_cols = [\"#BACCFB\", \"#CAC1F3\", \"#DC9BBB\", \"#F1C2A6\", \"#F9E5B9\"] #WIP\n",
    "    elif palette is \"Wong\":\n",
    "        colors = [\"#000000\", \"#E69F00\", \"#56B4E9\", \"#009E73\", \"#F0E442\", \"#0072B2\", \"#D55E00\", \"#CC79A7\"]\n",
    "        background_cols = [\"#BDBDBD\", \"#EAC267\", \"#A5CCE2\", \"#77A79A\", \"#E8E4A7\", \"#6595B1\", \"#D49E73\", \"#C7A8BA\"] #WIP\n",
    "    elif palette is \"Magma\":\n",
    "        colors = [\"#fcfdbf\", \"#fe9f6d\", \"#de4968\", \"#8c2981\", \"#3b0f70\", \"#000004\"]\n",
    "        background_cols = [\"#FFFFE8\", \"#F7C9B1\", \"#DCA6B1\", \"#BBA0B8\", \"#AA93C5\", \"#A9A9A9\"] #WIP\n",
    "    elif palette is \"Plasma\":\n",
    "        colors = [\"#f0f921\", \"#fdb42f\", \"#ed7953\", \"#cc4778\", \"#9c179e\", \"#5c01a6\", \"#0d0887\"]\n",
    "        background_cols = [\"#EDF194\", \"#F9DCA8\", \"#E8AE9B\", \"#CC91A6\", \"#AE7FAF\", \"#9C78B9\", \"#7E7CC1\"] #WIP\n",
    "    elif palette is \"Tol\":\n",
    "        colors = []\n",
    "        background_cols = [] #WIP\n",
    "    else:\n",
    "        print(\"Palette not yet available\")\n",
    "        \n",
    "    def give_pair_of_domain(dom_index, paired_dict):\n",
    "        if dom_index in paired_dict:\n",
    "            return paired_dict[dom_index]\n",
    "        elif dom_index in list(paired_dict.values()):\n",
    "            index_of_pair = list(paired_dict.keys())[list(paired_dict.values()).index(dom_index)]\n",
    "            return index_of_pair\n",
    "        else:\n",
    "            raise ValueError('not actually paired')\n",
    "    \n",
    "    curr_color_i = 0\n",
    "    for dom_index in range(len(name_final_lol)):\n",
    "        color_i = curr_color_i % len(colors)\n",
    "        \n",
    "        if len(name_final_lol[dom_index]) == 2:\n",
    "            name, domtype = name_final_lol[dom_index]\n",
    "\n",
    "            if domtype is \"paired\":\n",
    "                pair_index = give_pair_of_domain(dom_index, paired_dict)\n",
    "                \n",
    "                #index2 is line color\n",
    "                name_final_lol[dom_index].append(colors[color_i])\n",
    "                name_final_lol[pair_index].append(colors[color_i])\n",
    "                \n",
    "                #index3 is only for paired, the between pair background color\n",
    "                name_final_lol[dom_index].append(background_cols[color_i])\n",
    "                name_final_lol[pair_index].append(background_cols[color_i])\n",
    "                \n",
    "                curr_color_i += 1\n",
    "\n",
    "            elif domtype is \"multiloop\":\n",
    "                for loop in multiloop_list:\n",
    "                    if dom_index in loop:\n",
    "                        for loop_index in loop:\n",
    "                            name_final_lol[loop_index].append(colors[color_i])\n",
    "                            \n",
    "            else:\n",
    "                name_final_lol[dom_index].append(colors[color_i])\n",
    "                \n",
    "                curr_color_i += 1\n",
    "    \n",
    "    return name_final_lol"
   ]
  },
  {
   "cell_type": "markdown",
   "metadata": {},
   "source": [
    "## FINAL DRAWING\n",
    "Define drawing functions"
   ]
  },
  {
   "cell_type": "code",
   "execution_count": 15,
   "metadata": {},
   "outputs": [],
   "source": [
    "def lin_domain(x0, y0, x1, y1, side, name, color):\n",
    "    \n",
    "    def normal_length1(vector, side):\n",
    "        unit_vector = vector/np.linalg.norm(vector)\n",
    "        unit_normal = np.array([-1*side*unit_vector[1], side*unit_vector[0]])\n",
    "        \n",
    "        return unit_normal\n",
    "    \n",
    "    #draw line from 5' to 3'\n",
    "    p = draw.Line(x0, y0, x1, y1, stroke = color)\n",
    "                  \n",
    "    text_col = 'black'\n",
    "    offset_len = 7\n",
    "    text_size = 7\n",
    "    \n",
    "    #label has to be on its correct side\n",
    "    vector = np.array([x1 - x0, y1 - y0])\n",
    "    label_offset = normal_length1(vector, side) * offset_len\n",
    "    x_text, y_text = np.array([x0,y0]) + vector/2 + label_offset\n",
    "        \n",
    "    t = draw.Text(name, text_size, x_text, y_text, fill = color)\n",
    "    \n",
    "    return p, t"
   ]
  },
  {
   "cell_type": "code",
   "execution_count": 16,
   "metadata": {},
   "outputs": [],
   "source": [
    "def hairpin_loop(x0, y0, x1, y1, side, name, color):\n",
    "    \n",
    "    offset_len = 7\n",
    "    text_size = 7\n",
    "    \n",
    "    def normal_length1(vector, side):\n",
    "        unit_vector = vector/np.linalg.norm(vector)\n",
    "        unit_normal = np.array([-1*side*unit_vector[1], side*unit_vector[0]])\n",
    "        \n",
    "        return unit_normal\n",
    "    \n",
    "    #formula for calculating cosA between to vectors\n",
    "    def calc_degree(vector1, vector2):\n",
    "        cos_alpha = np.dot(vector1, vector2)/(np.linalg.norm(vector1)*np.linalg.norm(vector2))\n",
    "        degree = np.arccos(cos_alpha)*180/np.pi\n",
    "        return degree\n",
    "    \n",
    "    #calculate Arc arguments\n",
    "    r = np.sqrt((x1-x0)**2 + (y1-y0)**2) #rn radius is the distance between paired regions, will change\n",
    "    \n",
    "    #vector is pointing from point 0 -> point 1\n",
    "    vector = np.array([x1 - x0, y1 - y0])\n",
    "    vec_len = np.linalg.norm(vector)\n",
    "    unit_normal = normal_length1(vector, side)\n",
    "    \n",
    "    #calculate center and label anchor with r and vector\n",
    "    diag = np.sqrt(r**2 - (vec_len/2)**2)\n",
    "    cx, cy = np.array([x0,y0])+ vector/2 + diag*unit_normal\n",
    "    x_text, y_text = np.array([x0,y0])+ vector/2 + (diag+r+offset_len)*unit_normal\n",
    "       \n",
    "    vec_center_0 = np.array([x0-cx,y0-cy])\n",
    "    vec_center_1 = np.array([x1-cx,y1-cy])\n",
    "    \n",
    "    #correction for 0 angle\n",
    "    if np.sign(vec_center_0[1]) == 0:\n",
    "        which_side0 = 1\n",
    "    else:\n",
    "        which_side0 = np.sign(vec_center_0[1])\n",
    "    \n",
    "    if np.sign(vec_center_1[1]) == 0:\n",
    "        which_side1 = 1\n",
    "    else:\n",
    "        which_side1 = np.sign(vec_center_1[1])    \n",
    "    \n",
    "    #bit unclear about start/end degrees, but works\n",
    "    if side == -1:\n",
    "        startdeg = calc_degree(vec_center_0, np.array([1,0]))*which_side0\n",
    "        enddeg = calc_degree(vec_center_1, np.array([1,0]))*which_side1\n",
    "    elif side == 1:\n",
    "        enddeg = calc_degree(vec_center_0, np.array([1,0]))*which_side0\n",
    "        startdeg = calc_degree(vec_center_1, np.array([1,0]))*which_side1\n",
    "        \n",
    "    #draw\n",
    "    p = draw.Arc(cx, cy, r, startdeg, enddeg,\n",
    "        stroke=color, stroke_width=0.9, fill=\"none\") #stroke_width will be also important\n",
    "    \n",
    "    #LABEL - if without name, no label is added\n",
    "    t = draw.Text(name, text_size, x_text, y_text, fill=color) #label\n",
    "        \n",
    "    return p, t"
   ]
  },
  {
   "cell_type": "code",
   "execution_count": 17,
   "metadata": {},
   "outputs": [],
   "source": [
    "def bulgeloop(x0, y0, x1, y1, side, name, color):\n",
    "    \n",
    "    offset_len = 7\n",
    "    text_size = 7\n",
    "    \n",
    "    def normal_length1(vector, side):\n",
    "        unit_vector = vector/np.linalg.norm(vector)\n",
    "        unit_normal = np.array([-1*side*unit_vector[1], side*unit_vector[0]])\n",
    "        \n",
    "        return unit_normal\n",
    "    \n",
    "    #formula for calculating cosA between to vectors\n",
    "    def calc_degree(vector1, vector2):\n",
    "        cos_alpha = np.dot(vector1, vector2)/(np.linalg.norm(vector1)*np.linalg.norm(vector2))\n",
    "        degree = np.arccos(cos_alpha)*180/np.pi\n",
    "        return degree\n",
    "    \n",
    "    #calculate Arc arguments\n",
    "    r = (np.sqrt((x1 - x0)**2 + (y1 - y0)**2))/2 #rn radius is the distance between paired regions, will change\n",
    "    \n",
    "    #vector is pointing from point 0 -> point 1\n",
    "    vector = np.array([x1 - x0, y1 - y0])\n",
    "    vec_len = np.linalg.norm(vector)\n",
    "    unit_normal = normal_length1(vector, side)\n",
    "    \n",
    "    #calculate center and label anchor with r and vector\n",
    "    cx, cy = np.array([x0, y0])+ vector/2\n",
    "    x_text, y_text = np.array([x0, y0])+ vector/2 + (r + offset_len) * unit_normal\n",
    "       \n",
    "    vec_center_0 = np.array([x0 - cx, y0 - cy])\n",
    "    vec_center_1 = np.array([x1 - cx, y1 - cy])\n",
    "    \n",
    "    #correction for 0 angle\n",
    "    if np.sign(vec_center_0[1]) == 0:\n",
    "        which_side0 = 1\n",
    "    else:\n",
    "        which_side0 = np.sign(vec_center_0[1])\n",
    "    \n",
    "    if np.sign(vec_center_1[1]) == 0:\n",
    "        which_side1 = 1\n",
    "    else:\n",
    "        which_side1 = np.sign(vec_center_1[1])    \n",
    "    \n",
    "    #bit unclear about start/end degrees, but works\n",
    "    if side == -1:\n",
    "        startdeg = calc_degree(vec_center_0, np.array([1,0])) * which_side0\n",
    "        enddeg = calc_degree(vec_center_1, np.array([1,0])) * which_side1\n",
    "    elif side == 1:\n",
    "        enddeg = calc_degree(vec_center_0, np.array([1,0])) * which_side0\n",
    "        startdeg = calc_degree(vec_center_1, np.array([1,0])) * which_side1\n",
    "        \n",
    "    #draw\n",
    "    p = draw.Arc(cx, cy, r, startdeg, enddeg,\n",
    "        stroke=color, stroke_width=0.9, fill=\"none\") #stroke_width will be also important\n",
    "    \n",
    "    #LABEL - if without name, no label is added\n",
    "    t = draw.Text(name, text_size, x_text, y_text, fill=color) #label\n",
    "        \n",
    "    return p, t"
   ]
  },
  {
   "cell_type": "code",
   "execution_count": 44,
   "metadata": {},
   "outputs": [],
   "source": [
    "def multiloop(d, ml, coordinate_array, struct_info_array2, name_final_lol):\n",
    "    \n",
    "    offset_len = 7\n",
    "    text_size = 7\n",
    "    \n",
    "    side = struct_info_array2[ml[0], 1]\n",
    "    colors = [name_final_lol[i][2] for i in ml]\n",
    "    names = [name_final_lol[i][0] for i in ml]\n",
    "    \n",
    "    def normal_length1(vector, side):\n",
    "        unit_vector = vector/np.linalg.norm(vector)\n",
    "        unit_normal = np.array([-1*side*unit_vector[1], side*unit_vector[0]])\n",
    "        \n",
    "        return unit_normal\n",
    "    \n",
    "    #formula for calculating cosA between to vectors\n",
    "    def calc_degree(vector1, vector2):\n",
    "        cos_alpha = np.dot(vector1, vector2)/(np.linalg.norm(vector1)*np.linalg.norm(vector2))\n",
    "        degree = np.arccos(cos_alpha)*180/np.pi\n",
    "        return degree\n",
    "    \n",
    "    def find_center(p_ex1, p_ex2, centroid):\n",
    "        x1, y1 = p_ex1\n",
    "        x2, y2 = p_ex2\n",
    "        x3, y3 = centroid\n",
    "        dx, dy = x2 - x1, y2 - y1\n",
    "        det = dx * dx + dy * dy\n",
    "        a = (dy * (y3 - y1) + dx * (x3 - x1))/det\n",
    "        \n",
    "        return x1 + a * dx, y1 + a * dy\n",
    "    \n",
    "    #put points into shapely, get centroid\n",
    "    coords = []\n",
    "    \n",
    "    for dom in ml:\n",
    "        point0 = (coordinate_array[dom, 0], coordinate_array[dom, 1])\n",
    "        point1 = (coordinate_array[dom, 2], coordinate_array[dom, 3])\n",
    "        coords.append(point0)\n",
    "        coords.append(point1)\n",
    "        \n",
    "    #use shapely quickly\n",
    "    centroid = LinearRing(coords).centroid\n",
    "    print(centroid)\n",
    "    centroid = np.asarray(centroid)\n",
    "    print(centroid)\n",
    "    \n",
    "    #get centerpoint for each arc\n",
    "    for dom_i in range(len(ml)):\n",
    "        dom = ml[dom_i]\n",
    "        \n",
    "        x0 = coordinate_array[dom, 0]\n",
    "        y0 = coordinate_array[dom, 1]\n",
    "        x1 = coordinate_array[dom, 2]\n",
    "        y1 = coordinate_array[dom, 3]\n",
    "        \n",
    "        #vector is pointing from point 0 -> point 1\n",
    "        vector = np.array([x1 - x0, y1 - y0])\n",
    "        vec_len = np.linalg.norm(vector)\n",
    "        unit_normal = normal_length1(vector, side * -1) #this should go to the other side as the hairpin center!\n",
    "        \n",
    "        p_ex1 = np.array([x0, y0]) + vector/2\n",
    "        p_ex2 = np.array([x0, y0]) + vector/2 + unit_normal\n",
    "        \n",
    "        cx, cy = find_center(p_ex1, p_ex2, centroid)\n",
    "        radius = np.linalg.norm(np.array([x1 - cx, y1 - cy]))\n",
    "        \n",
    "        p1_to_c = np.array(cx - p_ex1[0], cy - p_ex1[1])\n",
    "        x_text, y_text = p_ex1 + p1_to_c + unit_normal* -1 * (radius + offset_len)\n",
    "        \n",
    "        vec_center_0 = np.array([x0 - cx, y0 - cy])\n",
    "        vec_center_1 = np.array([x1 - cx, y1 - cy])\n",
    "\n",
    "        #correction for 0 angle\n",
    "        if np.sign(vec_center_0[1]) == 0:\n",
    "            which_side0 = 1\n",
    "        else:\n",
    "            which_side0 = np.sign(vec_center_0[1])\n",
    "\n",
    "        if np.sign(vec_center_1[1]) == 0:\n",
    "            which_side1 = 1\n",
    "        else:\n",
    "            which_side1 = np.sign(vec_center_1[1])    \n",
    "\n",
    "        #bit unclear about start/end degrees, but works\n",
    "        if side == -1:\n",
    "            startdeg = calc_degree(vec_center_0, np.array([1,0])) * which_side0\n",
    "            enddeg = calc_degree(vec_center_1, np.array([1,0])) * which_side1\n",
    "        elif side == 1:\n",
    "            enddeg = calc_degree(vec_center_0, np.array([1,0])) * which_side0\n",
    "            startdeg = calc_degree(vec_center_1, np.array([1,0])) * which_side1\n",
    "\n",
    "        #append to draw object\n",
    "        m = draw.Arc(cx, cy, radius, startdeg, enddeg,\n",
    "            stroke=colors[dom_i], stroke_width=0.9, fill=\"none\") #stroke_width will be also important\n",
    "\n",
    "        #LABEL - if without name, no label is added\n",
    "        t = draw.Text(names[dom_i], text_size, x_text, y_text, fill=colors[dom_i]) #label\n",
    "        \n",
    "        d.append(m)\n",
    "        d.append(t)\n",
    "    \n",
    "    return d"
   ]
  },
  {
   "cell_type": "markdown",
   "metadata": {},
   "source": [
    "Canvas size depends on furthest points of the structure in x and y, I include a bit of extra space and the origin point is also shifted down so more likely for the drawing to be entirely shown."
   ]
  },
  {
   "cell_type": "code",
   "execution_count": 19,
   "metadata": {},
   "outputs": [],
   "source": [
    "def draw_image_from_coords(coordinate_array, struct_info_array2, name_final_lol, multiloop_list, paired_dict):\n",
    "    \n",
    "    def get_canvas_size(coordinate_array):\n",
    "        x_coords = list(coordinate_array[:,0]) + list(coordinate_array[:,2])\n",
    "        y_coords = list(coordinate_array[:,1]) + list(coordinate_array[:,3])\n",
    "        \n",
    "        x_len = (max(x_coords) - min(x_coords)) + 65 #canvas 14 incre. larger than max range\n",
    "        y_len = (max(y_coords) - min(y_coords)) + 65\n",
    "        \n",
    "        origo = [min(x_coords) - 30, min(y_coords) - 30] #origin 7 increment lower - which is the text_offset\n",
    "        canvas = [int(x_len), int(y_len)]\n",
    "        \n",
    "        return canvas, origo\n",
    "    \n",
    "    #draw process\n",
    "    SCALE_METRIC = 3     #?\n",
    "    CANVAS_SIZE, ORIGIN = get_canvas_size(coordinate_array)\n",
    "\n",
    "    #image instancing\n",
    "    d = draw.Drawing(CANVAS_SIZE[0], CANVAS_SIZE[1], origin=ORIGIN, displayInline=False)\n",
    "    d.setPixelScale(SCALE_METRIC)\n",
    "    \n",
    "    for row in range(len(coordinate_array[:,0])):\n",
    "        x0 = coordinate_array[row, 0]\n",
    "        y0 = coordinate_array[row, 1]\n",
    "        x1 = coordinate_array[row, 2]\n",
    "        y1 = coordinate_array[row, 3]\n",
    "        side = struct_info_array2[row, 1]\n",
    "        name = name_final_lol[row][0]\n",
    "        color = name_final_lol[row][2]\n",
    "        \n",
    "        #endings indicated\n",
    "        if row == 0:\n",
    "            dom1vec = np.array([x0 - x1, y0 - y1])\n",
    "            vec5prime = dom1vec/np.linalg.norm(dom1vec) * 10\n",
    "            t5 = draw.Text(\"5'\", 6, vec5prime[0], vec5prime[1], fill='black')\n",
    "            d.append(t5)\n",
    "        elif row == len(coordinate_array[:,0])-1:\n",
    "            dom_last_vec = np.array([x1 - x0, y1 - y0])\n",
    "            vec3prime = np.array([x1,y1]) + dom_last_vec/np.linalg.norm(dom_last_vec) * 7\n",
    "            t3 = draw.Text(\"3'\", 6, vec3prime[0], vec3prime[1], fill='black')\n",
    "            d.append(t3)\n",
    "        \n",
    "        #some dom types have special functions\n",
    "        if name_final_lol[row][1] == \"hairpin loop\":\n",
    "            p, t = hairpin_loop(x0, y0, x1, y1, side, name, color)\n",
    "        elif name_final_lol[row][1] == \"bulgeloop\":\n",
    "            p, t = bulgeloop(x0, y0, x1, y1, side, name, color)\n",
    "        elif name_final_lol[row][1] != \"multiloop\":\n",
    "            p, t = lin_domain(x0, y0, x1, y1, side, name, color)\n",
    "        d.append(p)\n",
    "        d.append(t)\n",
    "    \n",
    "    #multiloops done together\n",
    "    for ml in multiloop_list:\n",
    "        d = multiloop(d, ml, coordinate_array, struct_info_array2, name_final_lol)\n",
    "\n",
    "    #rectangle between paired doms\n",
    "    for pair1 in paired_dict:\n",
    "        pair2 = paired_dict[pair1]\n",
    "        color = name_final_lol[pair1][3]\n",
    "        x0, y0, x1, y1 = coordinate_array[pair1]\n",
    "        x0p, y0p, x1p, y1p = coordinate_array[pair2]\n",
    "        \n",
    "        r = draw.Lines(x0, y0, x1, y1,\n",
    "                   x0p, y0p, x1p, y1p,\n",
    "                   close = False, fill = color)\n",
    "        d.append(r)\n",
    "\n",
    "    return d"
   ]
  },
  {
   "cell_type": "code",
   "execution_count": 20,
   "metadata": {},
   "outputs": [],
   "source": [
    "def master_function(string, length_input_dict, palette):\n",
    "    \"\"\"\n",
    "    \n",
    "    Includes all previously defined functions, save intermediate data structures inside as local variables and \n",
    "    renders the drawing.\n",
    "    \"\"\"\n",
    "    \n",
    "    dom_raw_list, struct_info_array, paired_dict, name_final_lol = comprehend_string(string)\n",
    "    struct_info_array = process_length_input(struct_info_array, length_input_dict)\n",
    "    skeleton_graph = create_skeleton(dom_raw_list, paired_dict, name_final_lol)\n",
    "    name_final_lol, multiloop_list, crossroad_list, cycle_list_G = ds1_find_type_of_unpaired_v2(skeleton_graph, paired_dict, name_final_lol)\n",
    "    print(multiloop_list)\n",
    "    struct_info_array = ds2_fill_side_col(struct_info_array, cycle_list_G, name_final_lol)\n",
    "    \n",
    "    #if no cycles skip cycle resolve:\n",
    "    if len(cycle_list_G) == 0:\n",
    "        struct_info_array2 = struct_info_array\n",
    "    else:\n",
    "        struct_info_array2 = resolve_domains_in_cycles(struct_info_array, paired_dict, skeleton_graph)\n",
    "    \n",
    "    traverse_order = ds3a_determine_contstruct_order(skeleton_graph, paired_dict)\n",
    "    coordinate_array = ds3b_stepwise_buildup(struct_info_array2, paired_dict, name_final_lol, crossroad_list, traverse_order, skeleton_graph)    \n",
    "    \n",
    "    name_final_lol = create_color_list(name_final_lol, paired_dict, multiloop_list, palette)\n",
    "    print(name_final_lol)\n",
    "    d = draw_image_from_coords(coordinate_array, struct_info_array2, name_final_lol, multiloop_list, paired_dict)\n",
    "    \n",
    "    return d"
   ]
  },
  {
   "cell_type": "markdown",
   "metadata": {},
   "source": [
    "## Trying things"
   ]
  },
  {
   "cell_type": "code",
   "execution_count": 21,
   "metadata": {},
   "outputs": [
    {
     "data": {
      "image/png": "[encoded data removed]",
      "text/plain": [
       "<Figure size 1152x648 with 1 Axes>"
      ]
     },
     "metadata": {},
     "output_type": "display_data"
    }
   ],
   "source": [
    "string = \"x( r + r( + ) x*( + ) t2*( + ) )\"\n",
    "dom_raw_list, struct_info_array, paired_dict, name_final_lol = comprehend_string(string)\n",
    "skeleton_graph = create_skeleton(dom_raw_list, paired_dict, name_final_lol)\n",
    "draw_skeleton(skeleton_graph)"
   ]
  },
  {
   "cell_type": "code",
   "execution_count": 22,
   "metadata": {
    "scrolled": false
   },
   "outputs": [
    {
     "name": "stdout",
     "output_type": "stream",
     "text": [
      "[]\n",
      "[['x', 'paired', '#f0f921', '#EDF194'], ['r', 'unhinged', '#fdb42f'], ['r', 'paired', '#ed7953', '#E8AE9B'], ['r*', 'paired', '#ed7953', '#E8AE9B'], ['x*', 'paired', '#cc4778', '#CC91A6'], ['x', 'paired', '#cc4778', '#CC91A6'], ['t2*', 'paired', '#9c179e', '#AE7FAF'], ['t2', 'paired', '#9c179e', '#AE7FAF'], ['x*', 'paired', '#f0f921', '#EDF194']]\n"
     ]
    },
    {
     "data": {
      "text/html": [
       "<img src=\"data:image/svg+xml;base64,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\">"
      ],
      "text/plain": [
       "<drawSvg.drawing.Drawing at 0x29b80c74278>"
      ]
     },
     "execution_count": 22,
     "metadata": {},
     "output_type": "execute_result"
    }
   ],
   "source": [
    "string = \"x( r + r( + ) x*( + ) t2*( + ) )\"\n",
    "length_input_dict = {}\n",
    "palette = \"Plasma\"\n",
    "\n",
    "d = master_function(string, length_input_dict, palette)\n",
    "d"
   ]
  },
  {
   "cell_type": "code",
   "execution_count": 23,
   "metadata": {},
   "outputs": [
    {
     "data": {
      "image/png": "[encoded data removed]",
      "text/plain": [
       "<Figure size 1152x648 with 1 Axes>"
      ]
     },
     "metadata": {},
     "output_type": "display_data"
    }
   ],
   "source": [
    "string = \"a( + b( + ) c )\"\n",
    "dom_raw_list, struct_info_array, paired_dict, name_final_lol = comprehend_string(string)\n",
    "skeleton_graph = create_skeleton(dom_raw_list, paired_dict, name_final_lol)\n",
    "draw_skeleton(skeleton_graph)"
   ]
  },
  {
   "cell_type": "code",
   "execution_count": 24,
   "metadata": {
    "scrolled": false
   },
   "outputs": [
    {
     "name": "stdout",
     "output_type": "stream",
     "text": [
      "[]\n",
      "[['a', 'paired', '#f0f921', '#EDF194'], ['b', 'paired', '#fdb42f', '#F9DCA8'], ['b*', 'paired', '#fdb42f', '#F9DCA8'], ['c', 'ambiguous', '#ed7953'], ['a*', 'paired', '#f0f921', '#EDF194']]\n"
     ]
    },
    {
     "data": {
      "text/html": [
       "<img src=\"data:image/svg+xml;base64,PD94bWwgdmVyc2lvbj0iMS4wIiBlbmNvZGluZz0iVVRGLTgiPz4KPHN2ZyB4bWxucz0iaHR0cDovL3d3dy53My5vcmcvMjAwMC9zdmciIHhtbG5zOnhsaW5rPSJodHRwOi8vd3d3LnczLm9yZy8xOTk5L3hsaW5rIgogICAgIHdpZHRoPSIzNDgiIGhlaWdodD0iMjg4IiB2aWV3Qm94PSItMzAuMCAtNjYuMCAxMTYgOTYiPgo8ZGVmcz4KPC9kZWZzPgo8dGV4dCB4PSItMTAuMCIgeT0iLTAuMCIgZm9udC1zaXplPSI2IiBmaWxsPSJibGFjayIgZHk9IjBlbSI+NSc8L3RleHQ+CjxwYXRoIGQ9Ik0wLjAsLTAuMCBMMzAuMCwtMC4wIiBzdHJva2U9IiNmMGY5MjEiIC8+Cjx0ZXh0IHg9IjE1LjAiIHk9IjcuMCIgZm9udC1zaXplPSI3IiBmaWxsPSIjZjBmOTIxIiBkeT0iMGVtIj5hPC90ZXh0Pgo8cGF0aCBkPSJNNDEuMjEzMjAzNDM1NTk2NDMsLTMxLjIxMzIwMzQzNTU5NjQyNyBMNDEuMjEzMjAzNDM1NTk2NDMsLTEuMjEzMjAzNDM1NTk2NDI2NSIgc3Ryb2tlPSIjZmRiNDJmIiAvPgo8dGV4dCB4PSIzNC4yMTMyMDM0MzU1OTY0MyIgeT0iLTE2LjIxMzIwMzQzNTU5NjQyNyIgZm9udC1zaXplPSI3IiBmaWxsPSIjZmRiNDJmIiBkeT0iMGVtIj5iPC90ZXh0Pgo8cGF0aCBkPSJNNTEuMjEzMjAzNDM1NTk2NDMsLTEuMjEzMjAzNDM1NTk2NDI2NSBMNTEuMjEzMjAzNDM1NTk2NDMsLTMxLjIxMzIwMzQzNTU5NjQyNyIgc3Ryb2tlPSIjZmRiNDJmIiAvPgo8dGV4dCB4PSI1OC4yMTMyMDM0MzU1OTY0MyIgeT0iLTE2LjIxMzIwMzQzNTU5NjQyNyIgZm9udC1zaXplPSI3IiBmaWxsPSIjZmRiNDJmIiBkeT0iMGVtIj5iKjwvdGV4dD4KPHBhdGggZD0iTTUxLjIxMzIwMzQzNTU5NjQzLC0zMS4yMTMyMDM0MzU1OTY0MjcgTDMwLjAsLTEwLjAiIHN0cm9rZT0iI2VkNzk1MyIgLz4KPHRleHQgeD0iMzUuNjU2ODU0MjQ5NDkyMzgiIHk9Ii0yNS41NTYzNDkxODYxMDQwNDMiIGZvbnQtc2l6ZT0iNyIgZmlsbD0iI2VkNzk1MyIgZHk9IjBlbSI+YzwvdGV4dD4KPHRleHQgeD0iLTcuMCIgeT0iLTEwLjAiIGZvbnQtc2l6ZT0iNiIgZmlsbD0iYmxhY2siIGR5PSIwZW0iPjMnPC90ZXh0Pgo8cGF0aCBkPSJNMzAuMCwtMTAuMCBMMC4wLC0xMC4wIiBzdHJva2U9IiNmMGY5MjEiIC8+Cjx0ZXh0IHg9IjE1LjAiIHk9Ii0xNy4wIiBmb250LXNpemU9IjciIGZpbGw9IiNmMGY5MjEiIGR5PSIwZW0iPmEqPC90ZXh0Pgo8cGF0aCBkPSJNMC4wLC0wLjAgTDMwLjAsLTAuMCBMMzAuMCwtMTAuMCBMMC4wLC0xMC4wIiBmaWxsPSIjRURGMTk0IiAvPgo8cGF0aCBkPSJNNDEuMjEzMjAzNDM1NTk2NDMsLTMxLjIxMzIwMzQzNTU5NjQyNyBMNDEuMjEzMjAzNDM1NTk2NDMsLTEuMjEzMjAzNDM1NTk2NDI2NSBMNTEuMjEzMjAzNDM1NTk2NDMsLTEuMjEzMjAzNDM1NTk2NDI2NSBMNTEuMjEzMjAzNDM1NTk2NDMsLTMxLjIxMzIwMzQzNTU5NjQyNyIgZmlsbD0iI0Y5RENBOCIgLz4KPC9zdmc+\">"
      ],
      "text/plain": [
       "<drawSvg.drawing.Drawing at 0x29b80a1fd68>"
      ]
     },
     "execution_count": 24,
     "metadata": {},
     "output_type": "execute_result"
    }
   ],
   "source": [
    "string = \"a( + b( + ) c )\"\n",
    "length_input_dict = {}\n",
    "palette = \"Plasma\"\n",
    "\n",
    "d = master_function(string, length_input_dict, palette)\n",
    "d"
   ]
  },
  {
   "cell_type": "code",
   "execution_count": 25,
   "metadata": {},
   "outputs": [
    {
     "name": "stdout",
     "output_type": "stream",
     "text": [
      "[[1, 10, 5]]\n",
      "[[ 1.  0.  0.]\n",
      " [ 2.  0. 10.]\n",
      " [ 5.  0.  0.]\n",
      " [ 6.  0. 10.]\n",
      " [10.  0.  0.]\n",
      " [11.  0. 10.]]\n",
      "[0, 1, 2, 4, 5, 6, 9, 10, 11] case 1\n",
      "[[  1. 120.  10.]\n",
      " [  2. 120.  10.]\n",
      " [  5. 120.  10.]\n",
      " [  6. 120.  10.]\n",
      " [ 10. 120.  10.]\n",
      " [ 11. 120.  10.]]\n",
      "[[  1. 120.  10.]\n",
      " [  2. 120.  10.]\n",
      " [  5. 120.  10.]\n",
      " [  6. 120.  10.]\n",
      " [ 10. 120.  10.]\n",
      " [ 11. 120.  10.]]\n",
      "[['a', 'paired', '#f0f921', '#EDF194'], ['m1', 'multiloop', '#fdb42f'], ['b', 'paired', '#fdb42f', '#F9DCA8'], ['l1', 'unhinged', '#ed7953'], ['b*', 'paired', '#fdb42f', '#F9DCA8'], ['m2', 'multiloop', '#fdb42f'], ['c', 'paired', '#cc4778', '#CC91A6'], ['l2', 'ambiguous', '#9c179e'], ['h2', 'ambiguous', '#5c01a6'], ['c*', 'paired', '#cc4778', '#CC91A6'], ['m3', 'multiloop', '#fdb42f'], ['a*', 'paired', '#f0f921', '#EDF194']]\n",
      "POINT (38.66025403784438 4.999999999999999)\n",
      "[38.66025404  5.        ]\n"
     ]
    },
    {
     "data": {
      "text/html": [
       "<img src=\"data:image/svg+xml;base64,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\">"
      ],
      "text/plain": [
       "<drawSvg.drawing.Drawing at 0x29b80ddeac8>"
      ]
     },
     "execution_count": 25,
     "metadata": {},
     "output_type": "execute_result"
    }
   ],
   "source": [
    "string = \"a( m1 b( + l1 ) m2 c( + l2 h2 ) m3 )\"\n",
    "length_input_dict = {0:30, 2:40}\n",
    "palette = \"Plasma\"\n",
    "\n",
    "d = master_function(string, length_input_dict, palette)\n",
    "d"
   ]
  },
  {
   "cell_type": "code",
   "execution_count": 26,
   "metadata": {},
   "outputs": [
    {
     "name": "stdout",
     "output_type": "stream",
     "text": [
      "[]\n",
      "[['a', 'unhinged', '#f0f921'], ['b', 'unhinged sequence', '#fdb42f'], ['c', 'unhinged sequence', '#ed7953'], ['d', 'unhinged sequence', '#cc4778']]\n"
     ]
    },
    {
     "data": {
      "text/html": [
       "<img src=\"data:image/svg+xml;base64,PD94bWwgdmVyc2lvbj0iMS4wIiBlbmNvZGluZz0iVVRGLTgiPz4KPHN2ZyB4bWxucz0iaHR0cDovL3d3dy53My5vcmcvMjAwMC9zdmciIHhtbG5zOnhsaW5rPSJodHRwOi8vd3d3LnczLm9yZy8xOTk5L3hsaW5rIgogICAgIHdpZHRoPSI1NTUiIGhlaWdodD0iMTk1IiB2aWV3Qm94PSItMzAuMCAtMzUuMCAxODUgNjUiPgo8ZGVmcz4KPC9kZWZzPgo8dGV4dCB4PSItMTAuMCIgeT0iLTAuMCIgZm9udC1zaXplPSI2IiBmaWxsPSJibGFjayIgZHk9IjBlbSI+NSc8L3RleHQ+CjxwYXRoIGQ9Ik0wLjAsLTAuMCBMMzAuMCwtMC4wIiBzdHJva2U9IiNmMGY5MjEiIC8+Cjx0ZXh0IHg9IjE1LjAiIHk9IjcuMCIgZm9udC1zaXplPSI3IiBmaWxsPSIjZjBmOTIxIiBkeT0iMGVtIj5hPC90ZXh0Pgo8cGF0aCBkPSJNMzAuMCwtMC4wIEw2MC4wLC0wLjAiIHN0cm9rZT0iI2ZkYjQyZiIgLz4KPHRleHQgeD0iNDUuMCIgeT0iNy4wIiBmb250LXNpemU9IjciIGZpbGw9IiNmZGI0MmYiIGR5PSIwZW0iPmI8L3RleHQ+CjxwYXRoIGQ9Ik02MC4wLC0wLjAgTDkwLjAsLTAuMCIgc3Ryb2tlPSIjZWQ3OTUzIiAvPgo8dGV4dCB4PSI3NS4wIiB5PSI3LjAiIGZvbnQtc2l6ZT0iNyIgZmlsbD0iI2VkNzk1MyIgZHk9IjBlbSI+YzwvdGV4dD4KPHRleHQgeD0iMTI3LjAiIHk9Ii0wLjAiIGZvbnQtc2l6ZT0iNiIgZmlsbD0iYmxhY2siIGR5PSIwZW0iPjMnPC90ZXh0Pgo8cGF0aCBkPSJNOTAuMCwtMC4wIEwxMjAuMCwtMC4wIiBzdHJva2U9IiNjYzQ3NzgiIC8+Cjx0ZXh0IHg9IjEwNS4wIiB5PSI3LjAiIGZvbnQtc2l6ZT0iNyIgZmlsbD0iI2NjNDc3OCIgZHk9IjBlbSI+ZDwvdGV4dD4KPC9zdmc+\">"
      ],
      "text/plain": [
       "<drawSvg.drawing.Drawing at 0x29b80ddedd8>"
      ]
     },
     "execution_count": 26,
     "metadata": {},
     "output_type": "execute_result"
    }
   ],
   "source": [
    "string = \"a b c d\"\n",
    "length_input_dict = {}\n",
    "palette = \"Plasma\"\n",
    "\n",
    "d = master_function(string, length_input_dict, palette)\n",
    "d"
   ]
  },
  {
   "cell_type": "code",
   "execution_count": 27,
   "metadata": {},
   "outputs": [
    {
     "name": "stdout",
     "output_type": "stream",
     "text": [
      "[]\n",
      "[['a', 'unhinged', '#000000'], ['b', 'paired', '#E69F00', '#EAC267'], ['hp1', 'hairpin loop', '#56B4E9'], ['b*', 'paired', '#E69F00', '#EAC267'], ['c', 'ambiguous', '#009E73'], ['d', 'paired', '#F0E442', '#E8E4A7'], ['hp2', 'hairpin loop', '#0072B2'], ['d*', 'paired', '#F0E442', '#E8E4A7'], ['e', 'ambiguous', '#D55E00'], ['f', 'paired', '#CC79A7', '#C7A8BA'], ['hp3', 'hairpin loop', '#000000'], ['f*', 'paired', '#CC79A7', '#C7A8BA'], ['g', 'unhinged', '#E69F00']]\n"
     ]
    },
    {
     "data": {
      "text/html": [
       "<img src=\"data:image/svg+xml;base64,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\">"
      ],
      "text/plain": [
       "<drawSvg.drawing.Drawing at 0x29b80de6160>"
      ]
     },
     "execution_count": 27,
     "metadata": {},
     "output_type": "execute_result"
    }
   ],
   "source": [
    "string = \"@60 a b( hp1 ) @-60 c d( hp2 ) @-60 e f( hp3 ) @-60 g\"\n",
    "length_input_dict = {0:30, 1:30, 8:35}\n",
    "palette = \"Wong\"\n",
    "\n",
    "d = master_function(string, length_input_dict, palette)\n",
    "d"
   ]
  },
  {
   "cell_type": "code",
   "execution_count": 52,
   "metadata": {},
   "outputs": [
    {
     "name": "stdout",
     "output_type": "stream",
     "text": [
      "[[2, 8, 7, 3]]\n",
      "[[ 2.  0. 25.]\n",
      " [ 3.  0.  0.]\n",
      " [ 4.  0. 10.]\n",
      " [ 7.  0.  0.]\n",
      " [ 8.  0. 25.]\n",
      " [ 9.  0. 10.]]\n",
      "[1, 2, 3, 4, 6, 7, 8, 9] case 1\n",
      "[[  2.  120.   25. ]\n",
      " [  3.  120.   17.5]\n",
      " [  4.  120.   10. ]\n",
      " [  7.  120.   17.5]\n",
      " [  8.  120.   25. ]\n",
      " [  9.  120.   10. ]]\n",
      "[[  2.         120.          25.        ]\n",
      " [  3.         120.          17.5       ]\n",
      " [  4.         120.          10.        ]\n",
      " [  7.         136.99608806  22.22048604]\n",
      " [  8.         103.00391194  25.        ]\n",
      " [  9.         120.          10.        ]]\n",
      "[['a', 'unhinged', '#000000'], ['b', 'paired', '#E69F00', '#EAC267'], ['c', 'multiloop', '#56B4E9'], ['c1', 'multiloop', '#56B4E9'], ['d', 'paired', '#56B4E9', '#A5CCE2'], ['hp', 'hairpin loop', '#009E73'], ['d*', 'paired', '#56B4E9', '#A5CCE2'], ['e', 'multiloop', '#56B4E9'], ['e1', 'multiloop', '#56B4E9'], ['b*', 'paired', '#E69F00', '#EAC267'], ['g', 'ambiguous', '#F0E442']]\n",
      "POINT (27.86062301897393 -49.34229295688283)\n",
      "[ 27.86062302 -49.34229296]\n"
     ]
    },
    {
     "data": {
      "text/html": [
       "<img src=\"data:image/svg+xml;base64,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\">"
      ],
      "text/plain": [
       "<drawSvg.drawing.Drawing at 0x29b8153ce10>"
      ]
     },
     "execution_count": 52,
     "metadata": {},
     "output_type": "execute_result"
    }
   ],
   "source": [
    "string = \"a b( c c1 d( hp ) e e1 ) g\"\n",
    "length_input_dict = {1:30, 2:25, 8:25}\n",
    "palette = \"Wong\"\n",
    "\n",
    "d = master_function(string, length_input_dict, palette)\n",
    "d"
   ]
  },
  {
   "cell_type": "code",
   "execution_count": 48,
   "metadata": {},
   "outputs": [
    {
     "name": "stdout",
     "output_type": "stream",
     "text": [
      "[[2, 6]]\n",
      "[[  2.   0.   0.]\n",
      " [  3. 135.  10.]\n",
      " [  6.   0.   0.]\n",
      " [  7.   0.  10.]]\n",
      "[1, 2, 3, 5, 6, 7] case 1\n",
      "[[  2.          75.           8.57142857]\n",
      " [  3.         135.          10.        ]\n",
      " [  6.          75.          12.        ]\n",
      " [  7.          75.          10.        ]]\n",
      "[[  2.          75.           8.57142857]\n",
      " [  3.         135.          10.        ]\n",
      " [  6.          56.21422502  13.30840461]\n",
      " [  7.          93.78577498  10.        ]]\n",
      "[['a', 'unhinged', '#000000'], ['b', 'paired', '#E69F00', '#EAC267'], ['c1', 'multiloop', '#56B4E9'], ['d', 'paired', '#56B4E9', '#A5CCE2'], ['hp', 'hairpin loop', '#009E73'], ['d*', 'paired', '#56B4E9', '#A5CCE2'], ['e1', 'multiloop', '#56B4E9'], ['b*', 'paired', '#E69F00', '#EAC267'], ['g', 'ambiguous', '#F0E442']]\n",
      "POINT (21.2439553178296 -38.25936467366068)\n",
      "[ 21.24395532 -38.25936467]\n"
     ]
    },
    {
     "data": {
      "text/html": [
       "<img src=\"data:image/svg+xml;base64,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\">"
      ],
      "text/plain": [
       "<drawSvg.drawing.Drawing at 0x29b8153c8d0>"
      ]
     },
     "execution_count": 48,
     "metadata": {},
     "output_type": "execute_result"
    }
   ],
   "source": [
    "string = \"a b( c1 @-45 d( hp ) e1 ) g\"\n",
    "length_input_dict = {0:15,1:33}\n",
    "palette = \"Wong\"\n",
    "\n",
    "d = master_function(string, length_input_dict, palette)\n",
    "d"
   ]
  },
  {
   "cell_type": "code",
   "execution_count": 45,
   "metadata": {
    "scrolled": false
   },
   "outputs": [
    {
     "name": "stdout",
     "output_type": "stream",
     "text": [
      "[[2, 6]]\n",
      "[[  1. 120.  10.]\n",
      " [  8.   0.   0.]\n",
      " [  9.   0.  10.]\n",
      " [ 12.   0.  10.]]\n",
      "[0, 1, 7, 8, 9, 11, 12] case 1\n",
      "[[  1.         120.          10.        ]\n",
      " [  8.          80.          11.66666667]\n",
      " [  9.          80.          10.        ]\n",
      " [ 12.          80.          10.        ]]\n",
      "[[  1.         120.          10.        ]\n",
      " [  8.          65.11751087  13.31660018]\n",
      " [  9.          94.88248913  10.        ]\n",
      " [ 12.          80.          10.        ]]\n",
      "[[ 2.  0.  0.]\n",
      " [ 3.  0. 10.]\n",
      " [ 6.  0.  0.]\n",
      " [ 7.  0. 10.]]\n",
      "[1, 2, 3, 5, 6, 7] case 1\n",
      "[[ 2. 90. 10.]\n",
      " [ 3. 90. 10.]\n",
      " [ 6. 90. 10.]\n",
      " [ 7. 90. 10.]]\n",
      "[[ 2. 90. 10.]\n",
      " [ 3. 90. 10.]\n",
      " [ 6. 90. 10.]\n",
      " [ 7. 90. 10.]]\n",
      "[['a', 'paired', '#000000', '#BDBDBD'], ['b', 'paired', '#E69F00', '#EAC267'], ['c', 'multiloop', '#56B4E9'], ['d', 'paired', '#56B4E9', '#A5CCE2'], ['e', 'hairpin loop', '#009E73'], ['d*', 'paired', '#56B4E9', '#A5CCE2'], ['f', 'multiloop', '#56B4E9'], ['b*', 'paired', '#E69F00', '#EAC267'], ['g', 'bulgeloop', '#F0E442'], ['h', 'paired', '#0072B2', '#6595B1'], ['i', 'hairpin loop', '#D55E00'], ['h*', 'paired', '#0072B2', '#6595B1'], ['a*', 'paired', '#000000', '#BDBDBD'], ['j', 'unhinged', '#CC79A7']]\n",
      "POINT (21.55255888325766 28.3301270189222)\n",
      "[21.55255888 28.33012702]\n"
     ]
    },
    {
     "data": {
      "text/html": [
       "<img src=\"data:image/svg+xml;base64,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\">"
      ],
      "text/plain": [
       "<drawSvg.drawing.Drawing at 0x29b8132d588>"
      ]
     },
     "execution_count": 45,
     "metadata": {},
     "output_type": "execute_result"
    }
   ],
   "source": [
    "string = \"@90 a( @120 b( c d( e ) f ) g h( i ) ) j\"\n",
    "length_input_dict = {0:35}\n",
    "palette = \"Wong\"\n",
    "\n",
    "d = master_function(string, length_input_dict, palette)\n",
    "d"
   ]
  },
  {
   "cell_type": "code",
   "execution_count": 60,
   "metadata": {},
   "outputs": [
    {
     "name": "stdout",
     "output_type": "stream",
     "text": [
      "[[2, 6]]\n",
      "[[ 1.  0. 10.]\n",
      " [ 8.  0.  0.]\n",
      " [ 9.  0. 10.]\n",
      " [12.  0. 10.]]\n",
      "[0, 1, 7, 8, 9, 11, 12] case 1\n",
      "[[ 1. 90. 10.]\n",
      " [ 8. 90. 10.]\n",
      " [ 9. 90. 10.]\n",
      " [12. 90. 10.]]\n",
      "[[ 1. 90. 10.]\n",
      " [ 8. 90. 10.]\n",
      " [ 9. 90. 10.]\n",
      " [12. 90. 10.]]\n",
      "[[ 2.  0.  0.]\n",
      " [ 3.  0. 10.]\n",
      " [ 6.  0.  0.]\n",
      " [ 7.  0. 10.]]\n",
      "[1, 2, 3, 5, 6, 7] case 1\n",
      "[[ 2. 90. 10.]\n",
      " [ 3. 90. 10.]\n",
      " [ 6. 90. 10.]\n",
      " [ 7. 90. 10.]]\n",
      "[[ 2. 90. 10.]\n",
      " [ 3. 90. 10.]\n",
      " [ 6. 90. 10.]\n",
      " [ 7. 90. 10.]]\n",
      "[['a', 'paired', '#000000', '#BDBDBD'], ['b', 'paired', '#E69F00', '#EAC267'], ['c', 'multiloop', '#56B4E9'], ['d', 'paired', '#56B4E9', '#A5CCE2'], ['e', 'hairpin loop', '#009E73'], ['d*', 'paired', '#56B4E9', '#A5CCE2'], ['f', 'multiloop', '#56B4E9'], ['b*', 'paired', '#E69F00', '#EAC267'], ['g', 'bulgeloop', '#F0E442'], ['h', 'paired', '#0072B2', '#6595B1'], ['i', 'hairpin loop', '#D55E00'], ['h*', 'paired', '#0072B2', '#6595B1'], ['a*', 'paired', '#000000', '#BDBDBD'], ['j', 'unhinged', '#CC79A7']]\n",
      "POINT (-21.25 40)\n",
      "[-21.25  40.  ]\n"
     ]
    },
    {
     "data": {
      "text/html": [
       "<img src=\"data:image/svg+xml;base64,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\">"
      ],
      "text/plain": [
       "<drawSvg.drawing.Drawing at 0x29b8156f630>"
      ]
     },
     "execution_count": 60,
     "metadata": {},
     "output_type": "execute_result"
    }
   ],
   "source": [
    "string = \"@90 a( b( c d( e ) f ) g h( i ) ) j\"\n",
    "length_input_dict = {0:35}\n",
    "palette = \"Wong\"\n",
    "\n",
    "d = master_function(string, length_input_dict, palette)\n",
    "d"
   ]
  },
  {
   "cell_type": "code",
   "execution_count": 65,
   "metadata": {},
   "outputs": [
    {
     "name": "stdout",
     "output_type": "stream",
     "text": [
      "[]\n",
      "[['a', 'unhinged', '#648FFF'], ['b', 'paired', '#785EF0', '#CAC1F3'], ['hp', 'hairpin loop', '#DC267F'], ['b*', 'paired', '#785EF0', '#CAC1F3'], ['c', 'ambiguous', '#FE6100'], ['d', 'paired', '#FFB000', '#F9E5B9'], ['d*', 'paired', '#FFB000', '#F9E5B9']]\n"
     ]
    },
    {
     "data": {
      "text/html": [
       "<img src=\"data:image/svg+xml;base64,PD94bWwgdmVyc2lvbj0iMS4wIiBlbmNvZGluZz0iVVRGLTgiPz4KPHN2ZyB4bWxucz0iaHR0cDovL3d3dy53My5vcmcvMjAwMC9zdmciIHhtbG5zOnhsaW5rPSJodHRwOi8vd3d3LnczLm9yZy8xOTk5L3hsaW5rIgogICAgIHdpZHRoPSI0NjUiIGhlaWdodD0iNDA1IiB2aWV3Qm94PSItMzAuMCAtNzAuMCAxNTUgMTM1Ij4KPGRlZnM+CjwvZGVmcz4KPHRleHQgeD0iLTEwLjAiIHk9Ii0wLjAiIGZvbnQtc2l6ZT0iNiIgZmlsbD0iYmxhY2siIGR5PSIwZW0iPjUnPC90ZXh0Pgo8cGF0aCBkPSJNMC4wLC0wLjAgTDM1LjAsLTAuMCIgc3Ryb2tlPSIjNjQ4RkZGIiAvPgo8dGV4dCB4PSIxNy41IiB5PSI3LjAiIGZvbnQtc2l6ZT0iNyIgZmlsbD0iIzY0OEZGRiIgZHk9IjBlbSI+YTwvdGV4dD4KPHBhdGggZD0iTTM1LjAsLTAuMCBMMzUuMCwtMzUuMCIgc3Ryb2tlPSIjNzg1RUYwIiAvPgo8dGV4dCB4PSIyOC4wIiB5PSItMTcuNSIgZm9udC1zaXplPSI3IiBmaWxsPSIjNzg1RUYwIiBkeT0iMGVtIj5iPC90ZXh0Pgo8cGF0aCBkPSJNNDUuMCwtMzUuMCBBMTAuMCwxMC4wLDAsMSwwLDM1LjAsLTM1LjAiIHN0cm9rZT0iI0RDMjY3RiIgc3Ryb2tlLXdpZHRoPSIwLjkiIGZpbGw9Im5vbmUiIC8+Cjx0ZXh0IHg9IjQwLjAiIHk9Ii02MC42NjAyNTQwMzc4NDQzOSIgZm9udC1zaXplPSI3IiBmaWxsPSIjREMyNjdGIiBkeT0iMGVtIj5ocDwvdGV4dD4KPHBhdGggZD0iTTQ1LjAsLTM1LjAgTDQ1LjAsLTAuMCIgc3Ryb2tlPSIjNzg1RUYwIiAvPgo8dGV4dCB4PSI1Mi4wIiB5PSItMTcuNSIgZm9udC1zaXplPSI3IiBmaWxsPSIjNzg1RUYwIiBkeT0iMGVtIj5iKjwvdGV4dD4KPHBhdGggZD0iTTQ1LjAsLTAuMCBMODAuMCwtMC4wIiBzdHJva2U9IiNGRTYxMDAiIC8+Cjx0ZXh0IHg9IjYyLjUiIHk9Ii03LjAiIGZvbnQtc2l6ZT0iNyIgZmlsbD0iI0ZFNjEwMCIgZHk9IjBlbSI+YzwvdGV4dD4KPHBhdGggZD0iTTgwLjAsLTAuMCBMODAuMCwzNS4wIiBzdHJva2U9IiNGRkIwMDAiIC8+Cjx0ZXh0IHg9IjczLjAiIHk9IjE3LjUiIGZvbnQtc2l6ZT0iNyIgZmlsbD0iI0ZGQjAwMCIgZHk9IjBlbSI+ZDwvdGV4dD4KPHRleHQgeD0iOTAuMCIgeT0iLTcuMCIgZm9udC1zaXplPSI2IiBmaWxsPSJibGFjayIgZHk9IjBlbSI+Myc8L3RleHQ+CjxwYXRoIGQ9Ik05MC4wLDM1LjAgTDkwLjAsLTAuMCIgc3Ryb2tlPSIjRkZCMDAwIiAvPgo8dGV4dCB4PSI5Ny4wIiB5PSIxNy41IiBmb250LXNpemU9IjciIGZpbGw9IiNGRkIwMDAiIGR5PSIwZW0iPmQqPC90ZXh0Pgo8cGF0aCBkPSJNMzUuMCwtMC4wIEwzNS4wLC0zNS4wIEw0NS4wLC0zNS4wIEw0NS4wLC0wLjAiIGZpbGw9IiNDQUMxRjMiIC8+CjxwYXRoIGQ9Ik04MC4wLC0wLjAgTDgwLjAsMzUuMCBMOTAuMCwzNS4wIEw5MC4wLC0wLjAiIGZpbGw9IiNGOUU1QjkiIC8+Cjwvc3ZnPg==\">"
      ],
      "text/plain": [
       "<drawSvg.drawing.Drawing at 0x29b8157cbe0>"
      ]
     },
     "execution_count": 65,
     "metadata": {},
     "output_type": "execute_result"
    }
   ],
   "source": [
    "string = \"a b( hp ) c @-90 d( + )\"\n",
    "length_input_dict = {2:35}\n",
    "palette = \"IBM\"\n",
    "\n",
    "d = master_function(string, length_input_dict, palette)\n",
    "d"
   ]
  },
  {
   "cell_type": "code",
   "execution_count": 32,
   "metadata": {
    "scrolled": false
   },
   "outputs": [
    {
     "name": "stdout",
     "output_type": "stream",
     "text": [
      "[]\n",
      "[[ 2. 45. 10.]\n",
      " [ 5.  0.  0.]\n",
      " [ 6.  0. 10.]]\n",
      "[1, 2, 4, 5, 6] case 1\n",
      "[[ 2.         45.         10.        ]\n",
      " [ 5.         67.5         8.33333333]\n",
      " [ 6.         67.5        10.        ]]\n",
      "[[ 2.         45.         10.        ]\n",
      " [ 5.         67.5         7.65366865]\n",
      " [ 6.         67.5        10.        ]]\n",
      "[['a', 'unhinged', '#648FFF'], ['b', 'paired', '#785EF0', '#CAC1F3'], ['c', 'paired', '#DC267F', '#DC9BBB'], ['hp', 'hairpin loop', '#FE6100'], ['c*', 'paired', '#DC267F', '#DC9BBB'], ['e', 'bulgeloop', '#FFB000'], ['b*', 'paired', '#785EF0', '#CAC1F3']]\n"
     ]
    },
    {
     "data": {
      "text/html": [
       "<img src=\"data:image/svg+xml;base64,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\">"
      ],
      "text/plain": [
       "<drawSvg.drawing.Drawing at 0x29b80e04860>"
      ]
     },
     "execution_count": 32,
     "metadata": {},
     "output_type": "execute_result"
    }
   ],
   "source": [
    "string = \"@30 a b( @-45 c( hp ) e )\"\n",
    "length_input_dict = {2:35}\n",
    "palette = \"IBM\"\n",
    "\n",
    "d = master_function(string, length_input_dict, palette)\n",
    "d"
   ]
  },
  {
   "cell_type": "code",
   "execution_count": 47,
   "metadata": {},
   "outputs": [
    {
     "name": "stdout",
     "output_type": "stream",
     "text": [
      "[[1, 13, 5, 9]]\n",
      "[[ 1.  0.  0.]\n",
      " [ 2.  0. 10.]\n",
      " [ 5.  0.  0.]\n",
      " [ 6.  0. 10.]\n",
      " [ 9.  0.  0.]\n",
      " [10.  0. 10.]\n",
      " [13.  0.  0.]\n",
      " [14.  0. 10.]]\n",
      "[0, 1, 2, 4, 5, 6, 8, 9, 10, 12, 13, 14] case 1\n",
      "[[  1. 135.  10.]\n",
      " [  2. 135.  10.]\n",
      " [  5. 135.  10.]\n",
      " [  6. 135.  10.]\n",
      " [  9. 135.  10.]\n",
      " [ 10. 135.  10.]\n",
      " [ 13. 135.  10.]\n",
      " [ 14. 135.  10.]]\n",
      "[[  1. 135.  10.]\n",
      " [  2. 135.  10.]\n",
      " [  5. 135.  10.]\n",
      " [  6. 135.  10.]\n",
      " [  9. 135.  10.]\n",
      " [ 10. 135.  10.]\n",
      " [ 13. 135.  10.]\n",
      " [ 14. 135.  10.]]\n",
      "[['aa', 'paired', '#f0f921', '#EDF194'], ['i1', 'multiloop', '#fdb42f'], ['da', 'paired', '#fdb42f', '#F9DCA8'], ['dl', 'hairpin loop', '#ed7953'], ['da*', 'paired', '#fdb42f', '#F9DCA8'], ['i2', 'multiloop', '#fdb42f'], ['aca', 'paired', '#cc4778', '#CC91A6'], ['acl', 'hairpin loop', '#9c179e'], ['aca*', 'paired', '#cc4778', '#CC91A6'], ['vr', 'multiloop', '#fdb42f'], ['pa', 'paired', '#5c01a6', '#9C78B9'], ['pl', 'hairpin loop', '#0d0887'], ['pa*', 'paired', '#5c01a6', '#9C78B9'], ['i3', 'multiloop', '#fdb42f'], ['aa*', 'paired', '#f0f921', '#EDF194'], ['c', 'unhinged', '#f0f921']]\n",
      "POINT (5.000000000000003 -40.67667355917568)\n",
      "[  5.         -40.67667356]\n"
     ]
    },
    {
     "data": {
      "text/html": [
       "<img src=\"data:image/svg+xml;base64,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\">"
      ],
      "text/plain": [
       "<drawSvg.drawing.Drawing at 0x29b80e04b00>"
      ]
     },
     "execution_count": 47,
     "metadata": {},
     "output_type": "execute_result"
    }
   ],
   "source": [
    "string = \"@-90 aa( i1 da( dl ) i2 aca( acl ) vr pa( pl ) i3 ) @0 c\"\n",
    "length_input_dict = {0:30, 2:20, 6:20, 10:25}\n",
    "palette = \"Plasma\"\n",
    "\n",
    "d = master_function(string, length_input_dict, palette)\n",
    "d"
   ]
  },
  {
   "cell_type": "code",
   "execution_count": 34,
   "metadata": {},
   "outputs": [
    {
     "name": "stdout",
     "output_type": "stream",
     "text": [
      "[]\n",
      "[[ 3.  0. 10.]\n",
      " [ 7.  0. 10.]\n",
      " [10.  0. 10.]]\n",
      "[2, 3, 6, 7, 9, 10] case 4\n",
      "[['d1S', 'unhinged', '#fcfdbf'], ['T2', 'unhinged sequence', '#fe9f6d'], ['b', 'paired', '#de4968', '#DCA6B1'], ['a', 'paired', '#8c2981', '#BBA0B8'], ['t2', 'paired', '#3b0f70', '#AA93C5'], ['t2*', 'paired', '#3b0f70', '#AA93C5'], ['a*', 'paired', '#8c2981', '#BBA0B8'], ['c*', 'paired', '#000004', '#A9A9A9'], ['t1*', 'ambiguous', '#fcfdbf'], ['c', 'paired', '#000004', '#A9A9A9'], ['b*', 'paired', '#de4968', '#DCA6B1']]\n"
     ]
    },
    {
     "data": {
      "text/html": [
       "<img src=\"data:image/svg+xml;base64,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\">"
      ],
      "text/plain": [
       "<drawSvg.drawing.Drawing at 0x29b80ff87b8>"
      ]
     },
     "execution_count": 34,
     "metadata": {},
     "output_type": "execute_result"
    }
   ],
   "source": [
    "string = \"@-45 d1S T2 @-135 b( a( t2( + ) ) c*( t1* + ) )\"\n",
    "length_input_dict = {}\n",
    "palette = \"Magma\"\n",
    "\n",
    "d = master_function(string, length_input_dict, palette)\n",
    "d"
   ]
  },
  {
   "cell_type": "code",
   "execution_count": 35,
   "metadata": {},
   "outputs": [
    {
     "name": "stdout",
     "output_type": "stream",
     "text": [
      "[]\n",
      "[[ 1. 75. 10.]\n",
      " [ 4. 75. 10.]\n",
      " [ 6.  0.  0.]\n",
      " [ 7.  0. 10.]]\n",
      "[0, 1, 3, 4, 5, 6, 7] case 1\n",
      "[[  1.         75.         10.       ]\n",
      " [  4.         75.         10.       ]\n",
      " [  6.        105.          8.0952381]\n",
      " [  7.        105.         10.       ]]\n",
      "[[  1.         75.         10.       ]\n",
      " [  4.         75.         10.       ]\n",
      " [  6.        105.          4.8236191]\n",
      " [  7.        105.         10.       ]]\n",
      "[['a', 'paired', '#648FFF', '#BACCFB'], ['b', 'paired', '#785EF0', '#CAC1F3'], ['hp', 'hairpin loop', '#DC267F'], ['b*', 'paired', '#785EF0', '#CAC1F3'], ['c', 'paired', '#FE6100', '#F1C2A6'], ['c*', 'paired', '#FE6100', '#F1C2A6'], ['bu', 'bulgeloop', '#FFB000'], ['a*', 'paired', '#648FFF', '#BACCFB']]\n"
     ]
    },
    {
     "data": {
      "text/html": [
       "<img src=\"data:image/svg+xml;base64,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\">"
      ],
      "text/plain": [
       "<drawSvg.drawing.Drawing at 0x29b80ff8048>"
      ]
     },
     "execution_count": 35,
     "metadata": {},
     "output_type": "execute_result"
    }
   ],
   "source": [
    "string = \"a( @-75 b( hp ) @-75 c( + ) bu )\"\n",
    "length_input_dict = {0:30, 1:30, 4:30}\n",
    "palette = \"IBM\"\n",
    "\n",
    "d = master_function(string, length_input_dict, palette)\n",
    "d"
   ]
  },
  {
   "cell_type": "code",
   "execution_count": 36,
   "metadata": {},
   "outputs": [
    {
     "name": "stdout",
     "output_type": "stream",
     "text": [
      "[]\n",
      "[[ 1.  0. 10.]\n",
      " [ 4.  0. 10.]\n",
      " [ 6.  0.  0.]\n",
      " [ 7.  0. 10.]]\n",
      "[0, 1, 3, 4, 5, 6, 7] case 1\n",
      "[[ 1. 90. 10.]\n",
      " [ 4. 90. 10.]\n",
      " [ 6. 90. 10.]\n",
      " [ 7. 90. 10.]]\n",
      "[[ 1. 90. 10.]\n",
      " [ 4. 90. 10.]\n",
      " [ 6. 90. 10.]\n",
      " [ 7. 90. 10.]]\n",
      "[['a', 'paired', '#fcfdbf', '#FFFFE8'], ['b', 'paired', '#fe9f6d', '#F7C9B1'], ['hp', 'hairpin loop', '#de4968'], ['b*', 'paired', '#fe9f6d', '#F7C9B1'], ['c', 'paired', '#8c2981', '#BBA0B8'], ['c*', 'paired', '#8c2981', '#BBA0B8'], ['bu', 'bulgeloop', '#3b0f70'], ['a*', 'paired', '#fcfdbf', '#FFFFE8']]\n"
     ]
    },
    {
     "data": {
      "text/html": [
       "<img src=\"data:image/svg+xml;base64,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\">"
      ],
      "text/plain": [
       "<drawSvg.drawing.Drawing at 0x29b81001dd8>"
      ]
     },
     "execution_count": 36,
     "metadata": {},
     "output_type": "execute_result"
    }
   ],
   "source": [
    "string = \"a( b( hp ) c( + ) bu )\"\n",
    "length_input_dict = {0:30,1:30,4:30}\n",
    "palette = \"Magma\"\n",
    "\n",
    "d = master_function(string, length_input_dict, palette)\n",
    "d"
   ]
  },
  {
   "cell_type": "code",
   "execution_count": 37,
   "metadata": {},
   "outputs": [
    {
     "data": {
      "image/png": "[encoded data removed]",
      "text/plain": [
       "<Figure size 1152x648 with 1 Axes>"
      ]
     },
     "metadata": {},
     "output_type": "display_data"
    }
   ],
   "source": [
    "string = \"a b( c ) d( e f( g h( + ) ) i j( k l( + ) m ) n o( p + q( + ) ) r )\"\n",
    "dom_raw_list, struct_info_array, paired_dict, name_final_lol = comprehend_string(string)\n",
    "skeleton_graph = create_skeleton(dom_raw_list, paired_dict, name_final_lol)\n",
    "draw_skeleton(skeleton_graph)"
   ]
  },
  {
   "cell_type": "code",
   "execution_count": 38,
   "metadata": {
    "scrolled": false
   },
   "outputs": [
    {
     "name": "stdout",
     "output_type": "stream",
     "text": [
      "[[16, 13], [5, 24, 11, 18]]\n",
      "[[13.  0.  0.]\n",
      " [14.  0. 10.]\n",
      " [16.  0.  0.]\n",
      " [17.  0. 10.]]\n",
      "[12, 13, 14, 15, 16, 17] case 1\n",
      "[[13. 90. 10.]\n",
      " [14. 90. 10.]\n",
      " [16. 90. 10.]\n",
      " [17. 90. 10.]]\n",
      "[[13. 90. 10.]\n",
      " [14. 90. 10.]\n",
      " [16. 90. 10.]\n",
      " [17. 90. 10.]]\n",
      "[[ 5.  0.  0.]\n",
      " [ 6.  0. 10.]\n",
      " [11.  0.  0.]\n",
      " [12.  0. 10.]\n",
      " [18.  0.  0.]\n",
      " [19.  0. 10.]\n",
      " [24.  0.  0.]\n",
      " [25.  0. 10.]]\n",
      "[4, 5, 6, 10, 11, 12, 17, 18, 19, 23, 24, 25] case 1\n",
      "[[  5. 135.  10.]\n",
      " [  6. 135.  10.]\n",
      " [ 11. 135.  10.]\n",
      " [ 12. 135.  10.]\n",
      " [ 18. 135.  10.]\n",
      " [ 19. 135.  10.]\n",
      " [ 24. 135.  10.]\n",
      " [ 25. 135.  10.]]\n",
      "[[  5. 135.  10.]\n",
      " [  6. 135.  10.]\n",
      " [ 11. 135.  10.]\n",
      " [ 12. 135.  10.]\n",
      " [ 18. 135.  10.]\n",
      " [ 19. 135.  10.]\n",
      " [ 24. 135.  10.]\n",
      " [ 25. 135.  10.]]\n",
      "[[ 7.  0.  0.]\n",
      " [ 8.  0. 10.]\n",
      " [10.  0. 10.]]\n",
      "[6, 7, 8, 9, 10] case 1\n",
      "[[ 7. 60. 10.]\n",
      " [ 8. 60. 10.]\n",
      " [10. 60. 10.]]\n",
      "[[ 7. 60. 10.]\n",
      " [ 8. 60. 10.]\n",
      " [10. 60. 10.]]\n",
      "[['a', 'unhinged', '#648FFF'], ['b', 'paired', '#785EF0', '#CAC1F3'], ['c', 'hairpin loop', '#DC267F'], ['b*', 'paired', '#785EF0', '#CAC1F3'], ['d', 'paired', '#FE6100', '#F1C2A6'], ['e', 'multiloop', '#FFB000'], ['f', 'paired', '#FFB000', '#F9E5B9'], ['g', 'bulgeloop', '#648FFF'], ['h', 'paired', '#785EF0', '#CAC1F3'], ['h*', 'paired', '#785EF0', '#CAC1F3'], ['f*', 'paired', '#FFB000', '#F9E5B9'], ['i', 'multiloop', '#FFB000'], ['j', 'paired', '#DC267F', '#DC9BBB'], ['k', 'multiloop', '#FE6100'], ['l', 'paired', '#FE6100', '#F1C2A6'], ['l*', 'paired', '#FE6100', '#F1C2A6'], ['m', 'multiloop', '#FE6100'], ['j*', 'paired', '#DC267F', '#DC9BBB'], ['n', 'multiloop', '#FFB000'], ['o', 'paired', '#FFB000', '#F9E5B9'], ['p', 'ambiguous', '#648FFF'], ['q', 'paired', '#785EF0', '#CAC1F3'], ['q*', 'paired', '#785EF0', '#CAC1F3'], ['o*', 'paired', '#FFB000', '#F9E5B9'], ['r', 'multiloop', '#FFB000'], ['d*', 'paired', '#FE6100', '#F1C2A6']]\n",
      "POINT (-73.99094079294329 -51.55352837475452)\n",
      "[-73.99094079 -51.55352837]\n",
      "POINT (-57.88320976066565 -23.65411983219578)\n",
      "[-57.88320976 -23.65411983]\n"
     ]
    },
    {
     "data": {
      "text/html": [
       "<img src=\"data:image/svg+xml;base64,PD94bWwgdmVyc2lvbj0iMS4wIiBlbmNvZGluZz0iVVRGLTgiPz4KPHN2ZyB4bWxucz0iaHR0cDovL3d3dy53My5vcmcvMjAwMC9zdmciIHhtbG5zOnhsaW5rPSJodHRwOi8vd3d3LnczLm9yZy8xOTk5L3hsaW5rIgogICAgIHdpZHRoPSI0OTUiIGhlaWdodD0iNDQ3IiB2aWV3Qm94PSItMTMwLjM0OTk1Njg2Njk2Mjc0IC00OC43MDg0OTUzMDQyODcyNCAxNjUgMTQ5Ij4KPGRlZnM+CjwvZGVmcz4KPHRleHQgeD0iMTAuMCIgeT0iMS4yMjQ2NDY3OTkxNDczNTMzZS0xNSIgZm9udC1zaXplPSI2IiBmaWxsPSJibGFjayIgZHk9IjBlbSI+NSc8L3RleHQ+CjxwYXRoIGQ9Ik0wLjAsLTAuMCBMLTQwLjAsLTQuODk4NTg3MTk2NTg5NDEzZS0xNSIgc3Ryb2tlPSIjNjQ4RkZGIiAvPgo8dGV4dCB4PSItMjAuMCIgeT0iNi45OTk5OTk5OTk5OTk5OTciIGZvbnQtc2l6ZT0iNyIgZmlsbD0iIzY0OEZGRiIgZHk9IjBlbSI+YTwvdGV4dD4KPHBhdGggZD0iTS00MC4wLC00Ljg5ODU4NzE5NjU4OTQxM2UtMTUgTC00MC4wLC0xMy43NTAwMDAwMDAwMDAwMDUiIHN0cm9rZT0iIzc4NUVGMCIgLz4KPHRleHQgeD0iLTMzLjAiIHk9Ii02Ljg3NTAwMDAwMDAwMDAwNSIgZm9udC1zaXplPSI3IiBmaWxsPSIjNzg1RUYwIiBkeT0iMGVtIj5iPC90ZXh0Pgo8cGF0aCBkPSJNLTQwLjAsLTEzLjc1MDAwMDAwMDAwMDAwNSBBMTAuMCwxMC4wLDAsMSwwLC01MC4wLC0xMy43NTAwMDAwMDAwMDAwMDciIHN0cm9rZT0iI0RDMjY3RiIgc3Ryb2tlLXdpZHRoPSIwLjkiIGZpbGw9Im5vbmUiIC8+Cjx0ZXh0IHg9Ii00NS4wIiB5PSItMzkuNDEwMjU0MDM3ODQ0Mzk2IiBmb250LXNpemU9IjciIGZpbGw9IiNEQzI2N0YiIGR5PSIwZW0iPmM8L3RleHQ+CjxwYXRoIGQ9Ik0tNTAuMCwtMTMuNzUwMDAwMDAwMDAwMDA1IEwtNTAuMCwtNS4zMjkwNzA1MTgyMDA3NTFlLTE1IiBzdHJva2U9IiM3ODVFRjAiIC8+Cjx0ZXh0IHg9Ii01Ny4wIiB5PSItNi44NzUwMDAwMDAwMDAwMDUiIGZvbnQtc2l6ZT0iNyIgZmlsbD0iIzc4NUVGMCIgZHk9IjBlbSI+Yio8L3RleHQ+CjxwYXRoIGQ9Ik0tNTAuMCwtNS4zMjkwNzA1MTgyMDA3NTFlLTE1IEwtNTYuODc1LDExLjkwNzg0OTMwMjAzNjAyNyIgc3Ryb2tlPSIjRkU2MTAwIiBpZD0iZDAiIC8+Cjx0ZXh0IHg9Ii01OS40OTk2Nzc4MjY0OTEwNyIgeT0iMi40NTM5MjQ2NTEwMTgwMTEzIiBmb250LXNpemU9IjciIGZpbGw9IiNGRTYxMDAiIGR5PSIwZW0iIGlkPSJkMSI+ZDwvdGV4dD4KPHVzZSB4bGluazpocmVmPSIjZDAiIC8+Cjx1c2UgeGxpbms6aHJlZj0iI2QxIiAvPgo8cGF0aCBkPSJNLTY2LjUzNDI1ODI2Mjg5MDY5LDE0LjQ5NjAzOTc1MzA2MTIzNiBMLTc4LjQ0MjEwNzU2NDkyNjcyLDcuNjIxMDM5NzUzMDYxMjM0IiBzdHJva2U9IiNGRkIwMDAiIC8+Cjx0ZXh0IHg9Ii02OC45ODgxODI5MTM5MDg3IiB5PSI0Ljk5NjM2MTkyNjU3MDE2NiIgZm9udC1zaXplPSI3IiBmaWxsPSIjRkZCMDAwIiBkeT0iMGVtIj5mPC90ZXh0Pgo8cGF0aCBkPSJNLTc4LjQ0MjEwNzU2NDkyNjcyLDcuNjIxMDM5NzUzMDYxMjM0IEE1LjAsNS4wLDAsMCwwLC04OC40NDIxMDc1NjQ5MjY3Miw3LjYyMTAzOTc1MzA2MTIzNSIgc3Ryb2tlPSIjNjQ4RkZGIiBzdHJva2Utd2lkdGg9IjAuOSIgZmlsbD0ibm9uZSIgLz4KPHRleHQgeD0iLTgzLjQ0MjEwNzU2NDkyNjcyIiB5PSItNC4zNzg5NjAyNDY5Mzg3NjYiIGZvbnQtc2l6ZT0iNyIgZmlsbD0iIzY0OEZGRiIgZHk9IjBlbSI+ZzwvdGV4dD4KPHBhdGggZD0iTS04OC40NDIxMDc1NjQ5MjY3Miw3LjYyMTAzOTc1MzA2MTIzNSBMLTEwMC4zNDk5NTY4NjY5NjI3NCwxNC40OTYwMzk3NTMwNjEyMzQiIHN0cm9rZT0iIzc4NUVGMCIgLz4KPHRleHQgeD0iLTk3Ljg5NjAzMjIxNTk0NDczIiB5PSI0Ljk5NjM2MTkyNjU3MDE2NCIgZm9udC1zaXplPSI3IiBmaWxsPSIjNzg1RUYwIiBkeT0iMGVtIj5oPC90ZXh0Pgo8cGF0aCBkPSJNLTk1LjM0OTk1Njg2Njk2Mjc0LDIzLjE1NjI5Mzc5MDkwNTYyIEwtODMuNDQyMTA3NTY0OTI2NzIsMTYuMjgxMjkzNzkwOTA1NjIiIHN0cm9rZT0iIzc4NUVGMCIgLz4KPHRleHQgeD0iLTg1Ljg5NjAzMjIxNTk0NDczIiB5PSIyNS43ODA5NzE2MTczOTY2OSIgZm9udC1zaXplPSI3IiBmaWxsPSIjNzg1RUYwIiBkeT0iMGVtIj5oKjwvdGV4dD4KPHBhdGggZD0iTS04My40NDIxMDc1NjQ5MjY3MiwxNi4yODEyOTM3OTA5MDU2MiBMLTcxLjUzNDI1ODI2Mjg5MDY5LDIzLjE1NjI5Mzc5MDkwNTYyIiBzdHJva2U9IiNGRkIwMDAiIGlkPSJkMiIgLz4KPHRleHQgeD0iLTgwLjk4ODE4MjkxMzkwODciIHk9IjI1Ljc4MDk3MTYxNzM5NjY5IiBmb250LXNpemU9IjciIGZpbGw9IiNGRkIwMDAiIGR5PSIwZW0iIGlkPSJkMyI+Zio8L3RleHQ+Cjx1c2UgeGxpbms6aHJlZj0iI2QyIiAvPgo8dXNlIHhsaW5rOmhyZWY9IiNkMyIgLz4KPHBhdGggZD0iTS02OC45NDYwNjc4MTE4NjU0OCwzMi44MTU1NTIwNTM3OTYzIEwtNzUuODIxMDY3ODExODY1NDgsNDQuNzIzNDAxMzU1ODMyMzQiIHN0cm9rZT0iI0RDMjY3RiIgaWQ9ImQ0IiAvPgo8dGV4dCB4PSItNzguNDQ1NzQ1NjM4MzU2NTQiIHk9IjM1LjI2OTQ3NjcwNDgxNDMyIiBmb250LXNpemU9IjciIGZpbGw9IiNEQzI2N0YiIGR5PSIwZW0iIGlkPSJkNSI+ajwvdGV4dD4KPHVzZSB4bGluazpocmVmPSIjZDQiIC8+Cjx1c2UgeGxpbms6aHJlZj0iI2Q1IiAvPgo8cGF0aCBkPSJNLTgwLjgyMTA2NzgxMTg2NTQ4LDUzLjM4MzY1NTM5MzY3NjcyNiBMLTg3LjY5NjA2NzgxMTg2NTQ4LDY1LjI5MTUwNDY5NTcxMjc2IiBzdHJva2U9IiNGRTYxMDAiIC8+Cjx0ZXh0IHg9Ii05MC4zMjA3NDU2MzgzNTY1NCIgeT0iNTUuODM3NTgwMDQ0Njk0NzUiIGZvbnQtc2l6ZT0iNyIgZmlsbD0iI0ZFNjEwMCIgZHk9IjBlbSI+bDwvdGV4dD4KPHBhdGggZD0iTS03OS4wMzU4MTM3NzQwMjExLDcwLjI5MTUwNDY5NTcxMjc2IEwtNzIuMTYwODEzNzc0MDIxMSw1OC4zODM2NTUzOTM2NzY3MjYiIHN0cm9rZT0iI0ZFNjEwMCIgaWQ9ImQ2IiAvPgo8dGV4dCB4PSItNjkuNTM2MTM1OTQ3NTMwMDMiIHk9IjY3LjgzNzU4MDA0NDY5NDc1IiBmb250LXNpemU9IjciIGZpbGw9IiNGRTYxMDAiIGR5PSIwZW0iIGlkPSJkNyI+bCo8L3RleHQ+Cjx1c2UgeGxpbms6aHJlZj0iI2Q2IiAvPgo8dXNlIHhsaW5rOmhyZWY9IiNkNyIgLz4KPHBhdGggZD0iTS02Ny4xNjA4MTM3NzQwMjExLDQ5LjcyMzQwMTM1NTgzMjM0IEwtNjAuMjg1ODEzNzc0MDIxMDksMzcuODE1NTUyMDUzNzk2MyIgc3Ryb2tlPSIjREMyNjdGIiBpZD0iZDgiIC8+Cjx0ZXh0IHg9Ii01Ny42NjExMzU5NDc1MzAwMiIgeT0iNDcuMjY5NDc2NzA0ODE0MzIiIGZvbnQtc2l6ZT0iNyIgZmlsbD0iI0RDMjY3RiIgZHk9IjBlbSIgaWQ9ImQ5Ij5qKjwvdGV4dD4KPHVzZSB4bGluazpocmVmPSIjZDgiIC8+Cjx1c2UgeGxpbms6aHJlZj0iI2Q5IiAvPgo8cGF0aCBkPSJNLTUwLjYyNjU1NTUxMTEzMDQxLDM1LjIyNzM2MTYwMjc3MTEgTC0zOC43MTg3MDYyMDkwOTQzOCw0Mi4xMDIzNjE2MDI3NzExIiBzdHJva2U9IiNGRkIwMDAiIC8+Cjx0ZXh0IHg9Ii00OC4xNzI2MzA4NjAxMTIzOSIgeT0iNDQuNzI3MDM5NDI5MjYyMTciIGZvbnQtc2l6ZT0iNyIgZmlsbD0iI0ZGQjAwMCIgZHk9IjBlbSI+bzwvdGV4dD4KPHBhdGggZD0iTS0zOC43MTg3MDYyMDkwOTQzOCw0Mi4xMDIzNjE2MDI3NzExIEwtNDUuNTkzNzA2MjA5MDk0MzgsNTQuMDEwMjEwOTA0ODA3MTMiIHN0cm9rZT0iIzY0OEZGRiIgLz4KPHRleHQgeD0iLTQ4LjIxODM4NDAzNTU4NTQ1IiB5PSI0NC41NTYyODYyNTM3ODkxMSIgZm9udC1zaXplPSI3IiBmaWxsPSIjNjQ4RkZGIiBkeT0iMGVtIj5wPC90ZXh0Pgo8cGF0aCBkPSJNLTIzLjcxODcwNjIwOTA5NDM4LDMzLjQ0MjEwNzU2NDkyNjcxIEwtMjMuNzE4NzA2MjA5MDk0MzgsMTkuNjkyMTA3NTY0OTI2NzA4IiBzdHJva2U9IiM3ODVFRjAiIC8+Cjx0ZXh0IHg9Ii0xNi43MTg3MDYyMDkwOTQzOCIgeT0iMjYuNTY3MTA3NTY0OTI2NzA4IiBmb250LXNpemU9IjciIGZpbGw9IiM3ODVFRjAiIGR5PSIwZW0iPnE8L3RleHQ+CjxwYXRoIGQ9Ik0tMzMuNzE4NzA2MjA5MDk0MzgsMTkuNjkyMTA3NTY0OTI2NzA4IEwtMzMuNzE4NzA2MjA5MDk0MzgsMzMuNDQyMTA3NTY0OTI2NzEiIHN0cm9rZT0iIzc4NUVGMCIgLz4KPHRleHQgeD0iLTQwLjcxODcwNjIwOTA5NDM4IiB5PSIyNi41NjcxMDc1NjQ5MjY3MDgiIGZvbnQtc2l6ZT0iNyIgZmlsbD0iIzc4NUVGMCIgZHk9IjBlbSI+cSo8L3RleHQ+CjxwYXRoIGQ9Ik0tMzMuNzE4NzA2MjA5MDk0MzgsMzMuNDQyMTA3NTY0OTI2NzEgTC00NS42MjY1NTU1MTExMzA0MSwyNi41NjcxMDc1NjQ5MjY3MDgiIHN0cm9rZT0iI0ZGQjAwMCIgaWQ9ImQxMCIgLz4KPHRleHQgeD0iLTM2LjE3MjYzMDg2MDExMjM5IiB5PSIyMy45NDI0Mjk3Mzg0MzU2MzUiIGZvbnQtc2l6ZT0iNyIgZmlsbD0iI0ZGQjAwMCIgZHk9IjBlbSIgaWQ9ImQxMSI+byo8L3RleHQ+Cjx1c2UgeGxpbms6aHJlZj0iI2QxMCIgLz4KPHVzZSB4bGluazpocmVmPSIjZDExIiAvPgo8dGV4dCB4PSItMzcuODM5NzQ1OTYyMTU1NjIiIHk9Ii0xLjA2MjE3NzgyNjQ5MTA3NTciIGZvbnQtc2l6ZT0iNiIgZmlsbD0iYmxhY2siIGR5PSIwZW0iPjMnPC90ZXh0Pgo8cGF0aCBkPSJNLTQ4LjIxNDc0NTk2MjE1NTYyLDE2LjkwNzg0OTMwMjAzNjAyNyBMLTQxLjMzOTc0NTk2MjE1NTYyLDQuOTk5OTk5OTk5OTk5OTk1IiBzdHJva2U9IiNGRTYxMDAiIC8+Cjx0ZXh0IHg9Ii0zOC43MTUwNjgxMzU2NjQ1NDUiIHk9IjE0LjQ1MzkyNDY1MTAxODAxIiBmb250LXNpemU9IjciIGZpbGw9IiNGRTYxMDAiIGR5PSIwZW0iPmQqPC90ZXh0Pgo8cGF0aCBkPSJNLTcyLjE2MDgxMzc3NDAyMTEsNTguMzgzNjU1MzkzNjc2NzIgQTcuMDcxMDY3ODExODY1NDc4LDcuMDcxMDY3ODExODY1NDc4LDAsMCwwLC02Ny4xNjA4MTM3NzQwMjExLDQ5LjcyMzQwMTM1NTgzMjM0IiBzdHJva2U9IiNGRTYxMDAiIHN0cm9rZS13aWR0aD0iMC45IiBmaWxsPSJub25lIiAvPgo8dGV4dCB4PSItODYuMTc2ODQyOTc2MzkyMzEiIHk9IjUxLjM0ODEyMTQ4Nzc0Mzk5NSIgZm9udC1zaXplPSI3IiBmaWxsPSIjRkU2MTAwIiBkeT0iMGVtIj5tPC90ZXh0Pgo8cGF0aCBkPSJNLTc1LjgyMTA2NzgxMTg2NTQ4LDQ0LjcyMzQwMTM1NTgzMjM2IEE3LjA3MTA2NzgxMTg2NTQ1MTUsNy4wNzEwNjc4MTE4NjU0NTE1LDAsMCwwLC04MC44MjEwNjc4MTE4NjU0OCw1My4zODM2NTUzOTM2NzY3MjYiIHN0cm9rZT0iI0ZFNjEwMCIgc3Ryb2tlLXdpZHRoPSIwLjkiIGZpbGw9Im5vbmUiIC8+Cjx0ZXh0IHg9Ii02MS44MDUwMzg2MDk0OTQzMSIgeT0iNTEuNzU4OTM1MjYxNzY1MDkiIGZvbnQtc2l6ZT0iNyIgZmlsbD0iI0ZFNjEwMCIgZHk9IjBlbSI+azwvdGV4dD4KPHBhdGggZD0iTS01Ni44NzUsMTEuOTA3ODQ5MzAyMDM2MDM2IEExMi4xNjA1NTI5MDQzOTA0MywxMi4xNjA1NTI5MDQzOTA0MywwLDAsMCwtNjYuNTM0MjU4MjYyODkwNjksMTQuNDk2MDM5NzUzMDYxMjM2IiBzdHJva2U9IiNGRkIwMDAiIHN0cm9rZS13aWR0aD0iMC45IiBmaWxsPSJub25lIiAvPgo8dGV4dCB4PSItNTMuODc2NDgyNzQwMzQ3NjQiIHk9IjI4Ljg0MDU4NzAzOTEzMDMyIiBmb250LXNpemU9IjciIGZpbGw9IiNGRkIwMDAiIGR5PSIwZW0iPmU8L3RleHQ+CjxwYXRoIGQ9Ik0tNDUuNjI2NTU1NTExMTMwNDEsMjYuNTY3MTA3NTY0OTI2NzE1IEExMi4xNjA1NTI5MDQzOTA0NDQsMTIuMTYwNTUyOTA0MzkwNDQ0LDAsMCwwLC00OC4yMTQ3NDU5NjIxNTU2MiwxNi45MDc4NDkzMDIwMzYwMjciIHN0cm9rZT0iI0ZGQjAwMCIgc3Ryb2tlLXdpZHRoPSIwLjkiIGZpbGw9Im5vbmUiIC8+Cjx0ZXh0IHg9Ii03Ni4xMzU2OTA3OTczMDY2NSIgeT0iMzcuNDAzOTYxNjA0MTY2OTMiIGZvbnQtc2l6ZT0iNyIgZmlsbD0iI0ZGQjAwMCIgZHk9IjBlbSI+cjwvdGV4dD4KPHBhdGggZD0iTS03MS41MzQyNTgyNjI4OTA2OSwyMy4xNTYyOTM3OTA5MDU2MTggQTEzLjk4MTY1Mzg1ODg1MjQ5MSwxMy45ODE2NTM4NTg4NTI0OTEsMCwwLDAsLTY4Ljk0NjA2NzgxMTg2NTQ4LDMyLjgxNTU1MjA1Mzc5NjMiIHN0cm9rZT0iI0ZGQjAwMCIgc3Ryb2tlLXdpZHRoPSIwLjkiIGZpbGw9Im5vbmUiIC8+Cjx0ZXh0IHg9Ii0zNy4zNjEyOTY1NjA0NTQ2MDUiIHk9IjkuOTQzMzI2MTY5NTMwOTU3IiBmb250LXNpemU9IjciIGZpbGw9IiNGRkIwMDAiIGR5PSIwZW0iPmk8L3RleHQ+CjxwYXRoIGQ9Ik0tNjAuMjg1ODEzNzc0MDIxMDksMzcuODE1NTUyMDUzNzk2MyBBMTMuOTgxNjUzODU4ODUyNTAzLDEzLjk4MTY1Mzg1ODg1MjUwMywwLDAsMCwtNTAuNjI2NTU1NTExMTMwNDEsMzUuMjI3MzYxNjAyNzcxMSIgc3Ryb2tlPSIjRkZCMDAwIiBzdHJva2Utd2lkdGg9IjAuOSIgZmlsbD0ibm9uZSIgLz4KPHRleHQgeD0iLTY0LjI2NjA1MDM2MzExODExIiB5PSIxOS42MzQxNDk1OTE4ODI5MiIgZm9udC1zaXplPSI3IiBmaWxsPSIjRkZCMDAwIiBkeT0iMGVtIj5uPC90ZXh0Pgo8cGF0aCBkPSJNLTQwLjAsLTQuODk4NTg3MTk2NTg5NDEzZS0xNSBMLTQwLjAsLTEzLjc1MDAwMDAwMDAwMDAwNSBMLTUwLjAsLTEzLjc1MDAwMDAwMDAwMDAwNSBMLTUwLjAsLTUuMzI5MDcwNTE4MjAwNzUxZS0xNSIgZmlsbD0iI0NBQzFGMyIgLz4KPHBhdGggZD0iTS01MC4wLC01LjMyOTA3MDUxODIwMDc1MWUtMTUgTC01Ni44NzUsMTEuOTA3ODQ5MzAyMDM2MDI3IEwtNDguMjE0NzQ1OTYyMTU1NjIsMTYuOTA3ODQ5MzAyMDM2MDI3IEwtNDEuMzM5NzQ1OTYyMTU1NjIsNC45OTk5OTk5OTk5OTk5OTUiIGZpbGw9IiNGMUMyQTYiIC8+CjxwYXRoIGQ9Ik0tNjYuNTM0MjU4MjYyODkwNjksMTQuNDk2MDM5NzUzMDYxMjM2IEwtNzguNDQyMTA3NTY0OTI2NzIsNy42MjEwMzk3NTMwNjEyMzQgTC04My40NDIxMDc1NjQ5MjY3MiwxNi4yODEyOTM3OTA5MDU2MiBMLTcxLjUzNDI1ODI2Mjg5MDY5LDIzLjE1NjI5Mzc5MDkwNTYyIiBmaWxsPSIjRjlFNUI5IiAvPgo8cGF0aCBkPSJNLTg4LjQ0MjEwNzU2NDkyNjcyLDcuNjIxMDM5NzUzMDYxMjM1IEwtMTAwLjM0OTk1Njg2Njk2Mjc0LDE0LjQ5NjAzOTc1MzA2MTIzNCBMLTk1LjM0OTk1Njg2Njk2Mjc0LDIzLjE1NjI5Mzc5MDkwNTYyIEwtODMuNDQyMTA3NTY0OTI2NzIsMTYuMjgxMjkzNzkwOTA1NjIiIGZpbGw9IiNDQUMxRjMiIC8+CjxwYXRoIGQ9Ik0tNjguOTQ2MDY3ODExODY1NDgsMzIuODE1NTUyMDUzNzk2MyBMLTc1LjgyMTA2NzgxMTg2NTQ4LDQ0LjcyMzQwMTM1NTgzMjM0IEwtNjcuMTYwODEzNzc0MDIxMSw0OS43MjM0MDEzNTU4MzIzNCBMLTYwLjI4NTgxMzc3NDAyMTA5LDM3LjgxNTU1MjA1Mzc5NjMiIGZpbGw9IiNEQzlCQkIiIC8+CjxwYXRoIGQ9Ik0tODAuODIxMDY3ODExODY1NDgsNTMuMzgzNjU1MzkzNjc2NzI2IEwtODcuNjk2MDY3ODExODY1NDgsNjUuMjkxNTA0Njk1NzEyNzYgTC03OS4wMzU4MTM3NzQwMjExLDcwLjI5MTUwNDY5NTcxMjc2IEwtNzIuMTYwODEzNzc0MDIxMSw1OC4zODM2NTUzOTM2NzY3MjYiIGZpbGw9IiNGMUMyQTYiIC8+CjxwYXRoIGQ9Ik0tNTAuNjI2NTU1NTExMTMwNDEsMzUuMjI3MzYxNjAyNzcxMSBMLTM4LjcxODcwNjIwOTA5NDM4LDQyLjEwMjM2MTYwMjc3MTEgTC0zMy43MTg3MDYyMDkwOTQzOCwzMy40NDIxMDc1NjQ5MjY3MSBMLTQ1LjYyNjU1NTUxMTEzMDQxLDI2LjU2NzEwNzU2NDkyNjcwOCIgZmlsbD0iI0Y5RTVCOSIgLz4KPHBhdGggZD0iTS0yMy43MTg3MDYyMDkwOTQzOCwzMy40NDIxMDc1NjQ5MjY3MSBMLTIzLjcxODcwNjIwOTA5NDM4LDE5LjY5MjEwNzU2NDkyNjcwOCBMLTMzLjcxODcwNjIwOTA5NDM4LDE5LjY5MjEwNzU2NDkyNjcwOCBMLTMzLjcxODcwNjIwOTA5NDM4LDMzLjQ0MjEwNzU2NDkyNjcxIiBmaWxsPSIjQ0FDMUYzIiAvPgo8L3N2Zz4=\">"
      ],
      "text/plain": [
       "<drawSvg.drawing.Drawing at 0x29b81087cf8>"
      ]
     },
     "execution_count": 38,
     "metadata": {},
     "output_type": "execute_result"
    }
   ],
   "source": [
    "string = \"@180 a b( c ) @-30 d( e f( g h( + ) ) i j( k l( + ) m ) n o( p + q( + ) ) r )\"\n",
    "length_input_dict = {0:40}\n",
    "palette = \"IBM\"\n",
    "\n",
    "d = master_function(string, length_input_dict, palette)\n",
    "d"
   ]
  },
  {
   "cell_type": "code",
   "execution_count": 39,
   "metadata": {},
   "outputs": [
    {
     "data": {
      "image/png": "[encoded data removed]",
      "text/plain": [
       "<Figure size 1152x648 with 1 Axes>"
      ]
     },
     "metadata": {},
     "output_type": "display_data"
    }
   ],
   "source": [
    "string = \"h1 h2 a( m1 b( c d( hp1 ) ) m2 e( i1 f( + ) i2 ) m3 )\"\n",
    "dom_raw_list, struct_info_array, paired_dict, name_final_lol = comprehend_string(string)\n",
    "skeleton_graph = create_skeleton(dom_raw_list, paired_dict, name_final_lol)\n",
    "draw_skeleton(skeleton_graph)"
   ]
  },
  {
   "cell_type": "code",
   "execution_count": 40,
   "metadata": {
    "scrolled": false
   },
   "outputs": [
    {
     "name": "stdout",
     "output_type": "stream",
     "text": [
      "[[15, 12], [3, 17, 10]]\n",
      "[[12.  0.  0.]\n",
      " [13.  0. 10.]\n",
      " [15.  0.  0.]\n",
      " [16.  0. 10.]]\n",
      "[11, 12, 13, 14, 15, 16] case 1\n",
      "[[12. 90. 10.]\n",
      " [13. 90. 10.]\n",
      " [15. 90. 10.]\n",
      " [16. 90. 10.]]\n",
      "[[12. 90. 10.]\n",
      " [13. 90. 10.]\n",
      " [15. 90. 10.]\n",
      " [16. 90. 10.]]\n",
      "[[ 3.  0.  0.]\n",
      " [ 4.  0. 10.]\n",
      " [10.  0.  0.]\n",
      " [11.  0. 10.]\n",
      " [17.  0.  0.]\n",
      " [18.  0. 10.]]\n",
      "[2, 3, 4, 9, 10, 11, 16, 17, 18] case 1\n",
      "[[  3. 120.  10.]\n",
      " [  4. 120.  10.]\n",
      " [ 10. 120.  10.]\n",
      " [ 11. 120.  10.]\n",
      " [ 17. 120.  10.]\n",
      " [ 18. 120.  10.]]\n",
      "[[  3. 120.  10.]\n",
      " [  4. 120.  10.]\n",
      " [ 10. 120.  10.]\n",
      " [ 11. 120.  10.]\n",
      " [ 17. 120.  10.]\n",
      " [ 18. 120.  10.]]\n",
      "[[ 5.  0.  0.]\n",
      " [ 6.  0. 10.]\n",
      " [ 9.  0. 10.]]\n",
      "[4, 5, 6, 8, 9] case 1\n",
      "[[ 5. 60. 10.]\n",
      " [ 6. 60. 10.]\n",
      " [ 9. 60. 10.]]\n",
      "[[ 5. 60. 10.]\n",
      " [ 6. 60. 10.]\n",
      " [ 9. 60. 10.]]\n",
      "[['h1', 'unhinged', '#648FFF'], ['h2', 'unhinged sequence', '#785EF0'], ['a', 'paired', '#DC267F', '#DC9BBB'], ['m1', 'multiloop', '#FE6100'], ['b', 'paired', '#FE6100', '#F1C2A6'], ['c', 'bulgeloop', '#FFB000'], ['d', 'paired', '#648FFF', '#BACCFB'], ['hp1', 'hairpin loop', '#785EF0'], ['d*', 'paired', '#648FFF', '#BACCFB'], ['b*', 'paired', '#FE6100', '#F1C2A6'], ['m2', 'multiloop', '#FE6100'], ['e', 'paired', '#DC267F', '#DC9BBB'], ['i1', 'multiloop', '#FE6100'], ['f', 'paired', '#FE6100', '#F1C2A6'], ['f*', 'paired', '#FE6100', '#F1C2A6'], ['i2', 'multiloop', '#FE6100'], ['e*', 'paired', '#DC267F', '#DC9BBB'], ['m3', 'multiloop', '#FE6100'], ['a*', 'paired', '#DC267F', '#DC9BBB']]\n",
      "POINT (57.77334707298561 -62.63323819962373)\n",
      "[ 57.77334707 -62.6332382 ]\n",
      "POINT (33.57142857142858 -48.66025403784438)\n",
      "[ 33.57142857 -48.66025404]\n"
     ]
    },
    {
     "data": {
      "text/html": [
       "<img src=\"data:image/svg+xml;base64,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\">"
      ],
      "text/plain": [
       "<drawSvg.drawing.Drawing at 0x29b812fc8d0>"
      ]
     },
     "execution_count": 40,
     "metadata": {},
     "output_type": "execute_result"
    }
   ],
   "source": [
    "string = \"h1 h2 a( m1 b( c d( hp1 ) ) m2 e( i1 f( + ) i2 ) m3 )\"\n",
    "length_input_dict = {2:40}\n",
    "palette = \"IBM\"\n",
    "\n",
    "d = master_function(string, length_input_dict, palette)\n",
    "d"
   ]
  },
  {
   "cell_type": "code",
   "execution_count": 59,
   "metadata": {},
   "outputs": [
    {
     "name": "stdout",
     "output_type": "stream",
     "text": [
      "[]\n",
      "[['a', 'paired', '#648FFF', '#BACCFB'], ['b', 'paired', '#785EF0', '#CAC1F3'], ['b*', 'paired', '#785EF0', '#CAC1F3'], ['a*', 'paired', '#648FFF', '#BACCFB']]\n"
     ]
    },
    {
     "data": {
      "text/html": [
       "<img src=\"data:image/svg+xml;base64,PD94bWwgdmVyc2lvbj0iMS4wIiBlbmNvZGluZz0iVVRGLTgiPz4KPHN2ZyB4bWxucz0iaHR0cDovL3d3dy53My5vcmcvMjAwMC9zdmciIHhtbG5zOnhsaW5rPSJodHRwOi8vd3d3LnczLm9yZy8xOTk5L3hsaW5rIgogICAgIHdpZHRoPSIzNzUiIGhlaWdodD0iMjI1IiB2aWV3Qm94PSItMzAuMCAtMzUuMCAxMjUgNzUiPgo8ZGVmcz4KPC9kZWZzPgo8dGV4dCB4PSItMTAuMCIgeT0iLTAuMCIgZm9udC1zaXplPSI2IiBmaWxsPSJibGFjayIgZHk9IjBlbSI+NSc8L3RleHQ+CjxwYXRoIGQ9Ik0wLjAsLTAuMCBMMzAuMCwtMC4wIiBzdHJva2U9IiM2NDhGRkYiIC8+Cjx0ZXh0IHg9IjE1LjAiIHk9Ii03LjAiIGZvbnQtc2l6ZT0iNyIgZmlsbD0iIzY0OEZGRiIgZHk9IjBlbSI+YTwvdGV4dD4KPHBhdGggZD0iTTMwLjAsLTAuMCBMNjAuMCwtMC4wIiBzdHJva2U9IiM3ODVFRjAiIC8+Cjx0ZXh0IHg9IjQ1LjAiIHk9Ii03LjAiIGZvbnQtc2l6ZT0iNyIgZmlsbD0iIzc4NUVGMCIgZHk9IjBlbSI+YjwvdGV4dD4KPHBhdGggZD0iTTYwLjAsMTAuMCBMMzAuMCwxMC4wIiBzdHJva2U9IiM3ODVFRjAiIC8+Cjx0ZXh0IHg9IjQ1LjAiIHk9IjE3LjAiIGZvbnQtc2l6ZT0iNyIgZmlsbD0iIzc4NUVGMCIgZHk9IjBlbSI+Yio8L3RleHQ+Cjx0ZXh0IHg9Ii03LjAiIHk9IjEwLjAiIGZvbnQtc2l6ZT0iNiIgZmlsbD0iYmxhY2siIGR5PSIwZW0iPjMnPC90ZXh0Pgo8cGF0aCBkPSJNMzAuMCwxMC4wIEwwLjAsMTAuMCIgc3Ryb2tlPSIjNjQ4RkZGIiAvPgo8dGV4dCB4PSIxNS4wIiB5PSIxNy4wIiBmb250LXNpemU9IjciIGZpbGw9IiM2NDhGRkYiIGR5PSIwZW0iPmEqPC90ZXh0Pgo8cGF0aCBkPSJNMC4wLC0wLjAgTDMwLjAsLTAuMCBMMzAuMCwxMC4wIEwwLjAsMTAuMCIgZmlsbD0iI0JBQ0NGQiIgLz4KPHBhdGggZD0iTTMwLjAsLTAuMCBMNjAuMCwtMC4wIEw2MC4wLDEwLjAgTDMwLjAsMTAuMCIgZmlsbD0iI0NBQzFGMyIgLz4KPC9zdmc+\">"
      ],
      "text/plain": [
       "<drawSvg.drawing.Drawing at 0x29b8157c470>"
      ]
     },
     "execution_count": 59,
     "metadata": {},
     "output_type": "execute_result"
    }
   ],
   "source": [
    "string = \"a( b( + ) )\"\n",
    "length_input_dict = {}\n",
    "palette = \"IBM\"\n",
    "\n",
    "d = master_function(string, length_input_dict, palette)\n",
    "d"
   ]
  },
  {
   "cell_type": "code",
   "execution_count": 42,
   "metadata": {},
   "outputs": [
    {
     "name": "stdout",
     "output_type": "stream",
     "text": [
      "[[2, 20, 7, 3, 13, 8, 19, 14]]\n",
      "[[ 2.  0.  0.]\n",
      " [ 3.  0.  0.]\n",
      " [ 4.  0. 10.]\n",
      " [ 7.  0.  0.]\n",
      " [ 8.  0.  0.]\n",
      " [ 9.  0. 10.]\n",
      " [13.  0.  0.]\n",
      " [14.  0.  0.]\n",
      " [15.  0. 10.]\n",
      " [19.  0.  0.]\n",
      " [20.  0.  0.]\n",
      " [21.  0. 10.]]\n",
      "[1, 2, 3, 4, 6, 7, 8, 9, 12, 13, 14, 15, 18, 19, 20, 21] case 1\n",
      "[[  2. 150.  10.]\n",
      " [  3. 150.  10.]\n",
      " [  4. 150.  10.]\n",
      " [  7. 150.  10.]\n",
      " [  8. 150.  10.]\n",
      " [  9. 150.  10.]\n",
      " [ 13. 150.  10.]\n",
      " [ 14. 150.  10.]\n",
      " [ 15. 150.  10.]\n",
      " [ 19. 150.  10.]\n",
      " [ 20. 150.  10.]\n",
      " [ 21. 150.  10.]]\n",
      "[[  2. 150.  10.]\n",
      " [  3. 150.  10.]\n",
      " [  4. 150.  10.]\n",
      " [  7. 150.  10.]\n",
      " [  8. 150.  10.]\n",
      " [  9. 150.  10.]\n",
      " [ 13. 150.  10.]\n",
      " [ 14. 150.  10.]\n",
      " [ 15. 150.  10.]\n",
      " [ 19. 150.  10.]\n",
      " [ 20. 150.  10.]\n",
      " [ 21. 150.  10.]]\n",
      "[['r', 'unhinged', '#fcfdbf'], ['b', 'paired', '#fe9f6d', '#F7C9B1'], ['g', 'multiloop', '#de4968'], ['r', 'multiloop', '#de4968'], ['b', 'paired', '#de4968', '#DCA6B1'], ['l', 'hairpin loop', '#8c2981'], ['b*', 'paired', '#de4968', '#DCA6B1'], ['y', 'multiloop', '#de4968'], ['r', 'multiloop', '#de4968'], ['b', 'paired', '#3b0f70', '#AA93C5'], ['g', 'ambiguous', '#000004'], ['l', 'unhinged', '#fcfdbf'], ['b*', 'paired', '#3b0f70', '#AA93C5'], ['y', 'multiloop', '#de4968'], ['r', 'multiloop', '#de4968'], ['b', 'paired', '#fe9f6d', '#F7C9B1'], ['g', 'ambiguous', '#de4968'], ['l', 'unhinged', '#8c2981'], ['b*', 'paired', '#fe9f6d', '#F7C9B1'], ['y', 'multiloop', '#de4968'], ['l', 'multiloop', '#de4968'], ['b*', 'paired', '#fe9f6d', '#F7C9B1'], ['y', 'ambiguous', '#3b0f70']]\n",
      "POINT (21.66666666666667 -48.66025403784438)\n",
      "[ 21.66666667 -48.66025404]\n"
     ]
    },
    {
     "data": {
      "text/html": [
       "<img src=\"data:image/svg+xml;base64,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\">"
      ],
      "text/plain": [
       "<drawSvg.drawing.Drawing at 0x29b812fca90>"
      ]
     },
     "execution_count": 42,
     "metadata": {},
     "output_type": "execute_result"
    }
   ],
   "source": [
    "string = \"r b( g r b( l ) y r b( g + l ) y r b( g + l ) y l ) y\"\n",
    "length_input_dict = {1:30, 4:30, 9:30, 15:30}\n",
    "palette = \"Magma\"\n",
    "\n",
    "d = master_function(string, length_input_dict, palette)\n",
    "d"
   ]
  }
 ],
 "metadata": {
  "kernelspec": {
   "display_name": "Python 3",
   "language": "python",
   "name": "python3"
  },
  "language_info": {
   "codemirror_mode": {
    "name": "ipython",
    "version": 3
   },
   "file_extension": ".py",
   "mimetype": "text/x-python",
   "name": "python",
   "nbconvert_exporter": "python",
   "pygments_lexer": "ipython3",
   "version": "3.7.3"
  }
 },
 "nbformat": 4,
 "nbformat_minor": 4
}

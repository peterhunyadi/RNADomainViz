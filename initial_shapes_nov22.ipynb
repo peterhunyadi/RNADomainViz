{
 "cells": [
  {
   "cell_type": "code",
   "execution_count": 2,
   "metadata": {},
   "outputs": [],
   "source": [
    "import drawSvg as draw\n",
    "import math"
   ]
  },
  {
   "cell_type": "code",
   "execution_count": 3,
   "metadata": {},
   "outputs": [],
   "source": [
    "def lin_domain(name, x0, y0, x1, y1):\n",
    "    d.append(draw.Line(x0, y0, x1, y1,#x, y coords will  be calculated from angles\n",
    "                    fill='#eeee00',\n",
    "                    stroke='blue'))\n",
    "    #d.append(draw.Text(name, 8, x0, x1, fill='blue')) #label\n",
    "    \n",
    "def hairpin_loop(name, cx, cy, r, startdeg, enddeg):\n",
    "    d.append(draw.Arc(cx, cy, r, startdeg, enddeg,\n",
    "            stroke='red', stroke_width=0.6, fill=\"white\"))\n",
    "    #d.append(draw.Text(name, 8, x0, x1, fill='blue')) #label"
   ]
  },
  {
   "cell_type": "code",
   "execution_count": 4,
   "metadata": {},
   "outputs": [],
   "source": [
    "ORIGIN = (-20,-10)\n",
    "SCALE_METRIC = 2\n",
    "CANVAS_SIZE = [200, 150]"
   ]
  },
  {
   "cell_type": "code",
   "execution_count": 5,
   "metadata": {},
   "outputs": [
    {
     "data": {
      "text/html": [
       "<img src=\"data:image/svg+xml;base64,PD94bWwgdmVyc2lvbj0iMS4wIiBlbmNvZGluZz0iVVRGLTgiPz4KPHN2ZyB4bWxucz0iaHR0cDovL3d3dy53My5vcmcvMjAwMC9zdmciIHhtbG5zOnhsaW5rPSJodHRwOi8vd3d3LnczLm9yZy8xOTk5L3hsaW5rIgogICAgIHdpZHRoPSI0MDAiIGhlaWdodD0iMzAwIiB2aWV3Qm94PSItMjAgLTE0MCAyMDAgMTUwIj4KPGRlZnM+CjwvZGVmcz4KPHBhdGggZD0iTTAsLTUwIEwxMDAsLTUwIiBmaWxsPSIjZWVlZTAwIiBzdHJva2U9ImJsdWUiIC8+CjxwYXRoIGQ9Ik0xMDAsLTMwIEwwLC0zMCIgZmlsbD0iI2VlZWUwMCIgc3Ryb2tlPSJibHVlIiAvPgo8cGF0aCBkPSJNOTguNzM1MTM0MjY5MTg0MzMsLTMwLjQ2MTQ1MzI0MzgwMjMxNCBBMTgsMTgsMCwxLDAsOTguNzM1MTM0MjY5MTg0MzMsLTQ5LjUzODU0Njc1NjE5NzY5IiBzdHJva2U9InJlZCIgc3Ryb2tlLXdpZHRoPSIwLjYiIGZpbGw9IndoaXRlIiAvPgo8L3N2Zz4=\">"
      ],
      "text/plain": [
       "<drawSvg.drawing.Drawing at 0x2d09fb13e10>"
      ]
     },
     "execution_count": 5,
     "metadata": {},
     "output_type": "execute_result"
    }
   ],
   "source": [
    "#the image\n",
    "d = draw.Drawing(CANVAS_SIZE[0], CANVAS_SIZE[1], origin=ORIGIN, displayInline=False)\n",
    "d.setPixelScale(SCALE_METRIC)\n",
    "\n",
    "lin_domain(\"name\", 0, 50, 100, 50)\n",
    "hairpin_loop(\"name\", 114, 40, 18, 212, 148)\n",
    "lin_domain(\"name\", 100, 30, 0, 30)\n",
    "\n",
    "d"
   ]
  }
 ],
 "metadata": {
  "kernelspec": {
   "display_name": "Python 3",
   "language": "python",
   "name": "python3"
  },
  "language_info": {
   "codemirror_mode": {
    "name": "ipython",
    "version": 3
   },
   "file_extension": ".py",
   "mimetype": "text/x-python",
   "name": "python",
   "nbconvert_exporter": "python",
   "pygments_lexer": "ipython3",
   "version": "3.7.3"
  }
 },
 "nbformat": 4,
 "nbformat_minor": 4
}

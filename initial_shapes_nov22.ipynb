{
 "cells": [
  {
   "cell_type": "code",
   "execution_count": 1,
   "metadata": {},
   "outputs": [
    {
     "name": "stderr",
     "output_type": "stream",
     "text": [
      "C:\\Anaconda3\\lib\\site-packages\\drawSvg\\raster.py:18: RuntimeWarning: Failed to import CairoSVG. drawSvg will be unable to output PNG or other raster image formats. See https://github.com/cduck/drawSvg#prerequisites for more details.\n",
      "Original OSError: no library called \"cairo-2\" was found\n",
      "no library called \"cairo\" was found\n",
      "cannot load library 'C:\\GTK\\bin\\libcairo-2.dll': error 0xc1\n",
      "cannot load library 'libcairo.so.2': error 0x7e\n",
      "cannot load library 'libcairo.2.dylib': error 0x7e\n",
      "cannot load library 'libcairo-2.dll': error 0xc1\n",
      "  warnings.warn(msg, RuntimeWarning)\n"
     ]
    }
   ],
   "source": [
    "import drawSvg as draw\n",
    "import numpy as np"
   ]
  },
  {
   "cell_type": "code",
   "execution_count": 2,
   "metadata": {},
   "outputs": [],
   "source": [
    "#helper functions\n",
    "def normal_length1(vector, side):\n",
    "    unit_vector = vector/np.linalg.norm(vector)\n",
    "    if side == 0: #positive\n",
    "        unit_normal = np.array([unit_vector[1], -1*unit_vector[0]])\n",
    "    elif side == 1: #negative side\n",
    "        unit_normal = np.array([-1*unit_vector[1], unit_vector[0]])\n",
    "    return unit_normal\n",
    "\n",
    "#formula for calculating cosA between to vectors\n",
    "def calc_degree(vector1, vector2):\n",
    "    cos_alpha = np.dot(vector1, vector2)/(np.linalg.norm(vector1)*np.linalg.norm(vector2))\n",
    "    degree = np.arccos(cos_alpha)*180/np.pi\n",
    "    return degree"
   ]
  },
  {
   "cell_type": "code",
   "execution_count": 3,
   "metadata": {},
   "outputs": [],
   "source": [
    "line_color = 'blue'\n",
    "offset_len = 10\n",
    "text_size = 8 #text size questionable, color too\n",
    "\n",
    "def lin_domain(x0, y0, x1, y1, side=0, name=\"\"):\n",
    "    #draw line from 5' to 3'\n",
    "    d.append(draw.Line(x0, y0, x1, y1, stroke = line_color))\n",
    "    \n",
    "    #label has to be on its correct side\n",
    "    if name != \"\":\n",
    "        #unit vector\n",
    "        vector = np.array([x1 - x0, y1 - y0])\n",
    "        label_offset = normal_length1(vector, side)*offset_len\n",
    "        x_text, y_text = np.array([x0,y0])+ vector/2 + label_offset\n",
    "        \n",
    "        d.append(draw.Text(name, text_size, x_text, y_text, fill = line_color))"
   ]
  },
  {
   "cell_type": "code",
   "execution_count": 36,
   "metadata": {},
   "outputs": [],
   "source": [
    "#rn default distance between domains 20 ? paired_dist = 20\n",
    "loop_color = 'red'\n",
    "offset_len = 10\n",
    "text_size = 8\n",
    "  \n",
    "def hairpin_loop(x0, y0, x1, y1, side=0, name=\"\"):\n",
    "    #calculate Arc arguments\n",
    "    r = np.sqrt((x1-x0)**2 + (y1-y0)**2) #rn radius is the distance between paired regions, will change\n",
    "\n",
    "    #vector is pointing from point 0 -> point 1\n",
    "    vector = np.array([x1 - x0, y1 - y0])\n",
    "    vec_len = np.sqrt(vector[0]**2 + vector[1]**2)\n",
    "    unit_normal = normal_length1(vector, side)\n",
    "    \n",
    "    #calculate center and label anchor with r and vector\n",
    "    diag = np.sqrt(r**2 - (vec_len/2)**2)\n",
    "    cx, cy = np.array([x0,y0])+ vector/2 + diag*unit_normal\n",
    "    x_text, y_text = np.array([x0,y0])+ vector/2 + (diag+r+offset_len)*unit_normal\n",
    "       \n",
    "    vec_center_0 = np.array([x0-cx,y0-cy])\n",
    "    vec_center_1 = np.array([x1-cx,y1-cy])\n",
    "    \n",
    "    #bit unclear about start/end degrees, but works\n",
    "    if side == 0:\n",
    "        startdeg = calc_degree(vec_center_0, np.array([1,0]))*np.sign(vec_center_0[1])\n",
    "        enddeg = calc_degree(vec_center_1, np.array([1,0]))*np.sign(vec_center_1[1])\n",
    "    elif side == 1:\n",
    "        enddeg = calc_degree(vec_center_0, np.array([1,0]))*np.sign(vec_center_0[1])\n",
    "        startdeg = calc_degree(vec_center_1, np.array([1,0]))*np.sign(vec_center_1[1])\n",
    "    \n",
    "    #draw\n",
    "    d.append(draw.Arc(cx, cy, r, startdeg, enddeg,\n",
    "            stroke=loop_color, stroke_width=0.9, fill=\"none\")) #stroke_width will be also important\n",
    "    \n",
    "    #if without name, no label is added\n",
    "    if name != \"\":\n",
    "        d.append(draw.Text(name, text_size, x_text, y_text, fill=loop_color)) #label"
   ]
  },
  {
   "cell_type": "code",
   "execution_count": 5,
   "metadata": {},
   "outputs": [],
   "source": [
    "def unpaired_loop():\n",
    "    pass"
   ]
  },
  {
   "cell_type": "code",
   "execution_count": 6,
   "metadata": {},
   "outputs": [],
   "source": [
    "def multiloop():\n",
    "    pass"
   ]
  },
  {
   "cell_type": "code",
   "execution_count": 80,
   "metadata": {},
   "outputs": [],
   "source": [
    "ORIGIN = (-20,-10)\n",
    "SCALE_METRIC = 2\n",
    "CANVAS_SIZE = [200, 150]"
   ]
  },
  {
   "cell_type": "code",
   "execution_count": 81,
   "metadata": {},
   "outputs": [
    {
     "data": {
      "text/html": [
       "<img src=\"data:image/svg+xml;base64,PD94bWwgdmVyc2lvbj0iMS4wIiBlbmNvZGluZz0iVVRGLTgiPz4KPHN2ZyB4bWxucz0iaHR0cDovL3d3dy53My5vcmcvMjAwMC9zdmciIHhtbG5zOnhsaW5rPSJodHRwOi8vd3d3LnczLm9yZy8xOTk5L3hsaW5rIgogICAgIHdpZHRoPSI0MDAiIGhlaWdodD0iMzAwIiB2aWV3Qm94PSItMjAgLTE0MCAyMDAgMTUwIj4KPGRlZnM+CjwvZGVmcz4KPHBhdGggZD0iTTcwLC0xMDAgTDIwLC01MCIgc3Ryb2tlPSJibHVlIiAvPgo8dGV4dCB4PSIzNy45Mjg5MzIxODgxMzQ1MjQiIHk9Ii04Mi4wNzEwNjc4MTE4NjU0OCIgZm9udC1zaXplPSI4IiBmaWxsPSJibHVlIiBkeT0iMGVtIj5hPC90ZXh0Pgo8cGF0aCBkPSJNMjAuMCwtNTAuMCBBMTQuMTQyMTM1NjIzNzMwOTUxLDE0LjE0MjEzNTYyMzczMDk1MSwwLDEsMCwzMC4wLC00MC4wIiBzdHJva2U9InJlZCIgc3Ryb2tlLXdpZHRoPSIwLjkiIGZpbGw9Im5vbmUiIC8+Cjx0ZXh0IHg9Ii0wLjczMTMyMTg0OTcwOTg2MSIgeT0iLTE5LjI2ODY3ODE1MDI5MDE0IiBmb250LXNpemU9IjgiIGZpbGw9InJlZCIgZHk9IjBlbSI+YjwvdGV4dD4KPHBhdGggZD0iTTMwLC00MCBMODAsLTkwIiBzdHJva2U9ImJsdWUiIC8+Cjx0ZXh0IHg9IjYyLjA3MTA2NzgxMTg2NTQ3NiIgeT0iLTU3LjkyODkzMjE4ODEzNDUyNCIgZm9udC1zaXplPSI4IiBmaWxsPSJibHVlIiBkeT0iMGVtIj5hKjwvdGV4dD4KPC9zdmc+\">"
      ],
      "text/plain": [
       "<drawSvg.drawing.Drawing at 0x1e8c4ac0828>"
      ]
     },
     "execution_count": 81,
     "metadata": {},
     "output_type": "execute_result"
    }
   ],
   "source": [
    "#image instancing\n",
    "d = draw.Drawing(CANVAS_SIZE[0], CANVAS_SIZE[1], origin=ORIGIN, displayInline=False)\n",
    "d.setPixelScale(SCALE_METRIC)\n",
    "\n",
    "#domains but will be for loop\n",
    "lin_domain(70, 100, 20, 50, side=0, name=\"a\")\n",
    "hairpin_loop(20, 50, 30, 40, side=0, name=\"b\")\n",
    "lin_domain(30, 40, 80, 90,  side=0, name=\"a*\")\n",
    "\n",
    "#print but probably can do differently\n",
    "d"
   ]
  },
  {
   "cell_type": "code",
   "execution_count": 82,
   "metadata": {},
   "outputs": [
    {
     "data": {
      "text/html": [
       "<img src=\"data:image/svg+xml;base64,PD94bWwgdmVyc2lvbj0iMS4wIiBlbmNvZGluZz0iVVRGLTgiPz4KPHN2ZyB4bWxucz0iaHR0cDovL3d3dy53My5vcmcvMjAwMC9zdmciIHhtbG5zOnhsaW5rPSJodHRwOi8vd3d3LnczLm9yZy8xOTk5L3hsaW5rIgogICAgIHdpZHRoPSI0MDAiIGhlaWdodD0iMzAwIiB2aWV3Qm94PSItMjAgLTE0MCAyMDAgMTUwIj4KPGRlZnM+CjwvZGVmcz4KPHBhdGggZD0iTTAsLTUwIEwxMDAsLTUwIiBzdHJva2U9ImJsdWUiIC8+Cjx0ZXh0IHg9IjUwLjAiIHk9Ii02MC4wIiBmb250LXNpemU9IjgiIGZpbGw9ImJsdWUiIGR5PSIwZW0iPm5hbWU8L3RleHQ+CjxwYXRoIGQ9Ik0xMDAuMCwtMzAuMDAwMDAwMDAwMDAwMDA3IEEyMC4wLDIwLjAsMCwxLDAsMTAwLjAsLTQ5Ljk5OTk5OTk5OTk5OTk5IiBzdHJva2U9InJlZCIgc3Ryb2tlLXdpZHRoPSIwLjkiIGZpbGw9Im5vbmUiIC8+Cjx0ZXh0IHg9IjE0Ny4zMjA1MDgwNzU2ODg4IiB5PSItNDAuMCIgZm9udC1zaXplPSI4IiBmaWxsPSJyZWQiIGR5PSIwZW0iPm5hbWU8L3RleHQ+CjxwYXRoIGQ9Ik0xMDAsLTMwIEwwLC0zMCIgc3Ryb2tlPSJibHVlIiAvPgo8dGV4dCB4PSI1MC4wIiB5PSItMjAuMCIgZm9udC1zaXplPSI4IiBmaWxsPSJibHVlIiBkeT0iMGVtIj5uYW1lPC90ZXh0Pgo8L3N2Zz4=\">"
      ],
      "text/plain": [
       "<drawSvg.drawing.Drawing at 0x1e8c4ac0d68>"
      ]
     },
     "execution_count": 82,
     "metadata": {},
     "output_type": "execute_result"
    }
   ],
   "source": [
    "#the image\n",
    "d = draw.Drawing(CANVAS_SIZE[0], CANVAS_SIZE[1], origin=ORIGIN, displayInline=False)\n",
    "d.setPixelScale(SCALE_METRIC)\n",
    "\n",
    "lin_domain(0, 50, 100, 50, name=\"name\", side=1)\n",
    "hairpin_loop(100, 50, 100, 30, name=\"name\", side=1)\n",
    "lin_domain(100, 30, 0, 30, name=\"name\", side=1)\n",
    "\n",
    "d"
   ]
  },
  {
   "cell_type": "code",
   "execution_count": 76,
   "metadata": {},
   "outputs": [],
   "source": [
    "#given start coords(5'), angle, side and domain length - draw a whole hairpin from it\n",
    "basepair_distance = 15\n",
    "\n",
    "def calculate_coords_and_draw_hairpin(x_start, y_start, angle, dom_len, side):\n",
    "    #if angle is between 1 and 179 like here, y can be assumed to be 1\n",
    "    angle_rad = angle/180*np.pi\n",
    "    \n",
    "    vec0_1 = np.array([np.cos(angle_rad), np.sin(angle_rad)])\n",
    "    x1, y1 = np.array([x_start, y_start]) + vec0_1*dom_len\n",
    "    \n",
    "    vec1_2 = normal_length1(vector=vec0_1, side=side)\n",
    "    x2, y2 = np.array([x1, y1]) + vec1_2*basepair_distance\n",
    "    \n",
    "    vec2_3 = normal_length1(vector=vec1_2, side=side)\n",
    "    x3, y3 = np.array([x2, y2]) + vec2_3*dom_len\n",
    "    \n",
    "    lin_domain(x_start, y_start, x1, y1, name=\"a\", side=0) #side is bugged here rn\n",
    "    hairpin_loop(x1, y1, x2, y2, name=\"b\", side=0)\n",
    "    lin_domain(x2, y2, x3, y3, name=\"a*\", side=0)"
   ]
  },
  {
   "cell_type": "code",
   "execution_count": 83,
   "metadata": {
    "scrolled": false
   },
   "outputs": [
    {
     "data": {
      "text/html": [
       "<img src=\"data:image/svg+xml;base64,PD94bWwgdmVyc2lvbj0iMS4wIiBlbmNvZGluZz0iVVRGLTgiPz4KPHN2ZyB4bWxucz0iaHR0cDovL3d3dy53My5vcmcvMjAwMC9zdmciIHhtbG5zOnhsaW5rPSJodHRwOi8vd3d3LnczLm9yZy8xOTk5L3hsaW5rIgogICAgIHdpZHRoPSI0MDAiIGhlaWdodD0iMzAwIiB2aWV3Qm94PSItMjAgLTE0MCAyMDAgMTUwIj4KPGRlZnM+CjwvZGVmcz4KPHBhdGggZD0iTTMwLC0zMCBMOS40Nzg3OTE0MDA0NTk4NzYsLTg2LjM4MTU1NzI0NzE1NDUiIHN0cm9rZT0iYmx1ZSIgLz4KPHRleHQgeD0iMjkuMTM2MzIxOTA4MDg5MDIzIiB5PSItNjEuNjEwOTgwMDU2ODMzOTQiIGZvbnQtc2l6ZT0iOCIgZmlsbD0iYmx1ZSIgZHk9IjBlbSI+YTwvdGV4dD4KPHBhdGggZD0iTTkuNDc4NzkxNDAwNDU5ODc2LC04Ni4zODE1NTcyNDcxNTQ1IEExNC45OTk5OTk5OTk5OTk5OTgsMTQuOTk5OTk5OTk5OTk5OTk4LDAsMSwwLC00LjYxNjU5NzkxMTMyODc1MSwtODEuMjUxMjU1MDk3MjY5NDgiIHN0cm9rZT0icmVkIiBzdHJva2Utd2lkdGg9IjAuOSIgZmlsbD0ibm9uZSIgLz4KPHRleHQgeD0iLTEwLjU2MjM3ODgyOTQ2NjUwMiIgeT0iLTExOS41MTU2ODY5MTIxMDAzMiIgZm9udC1zaXplPSI4IiBmaWxsPSJyZWQiIGR5PSIwZW0iPmI8L3RleHQ+CjxwYXRoIGQ9Ik0tNC42MTY1OTc5MTEzMjg3NSwtODEuMjUxMjU1MDk3MjY5NDggTDE1LjkwNDYxMDY4ODIxMTM3NCwtMjQuODY5Njk3ODUwMTE0OTc0IiBzdHJva2U9ImJsdWUiIC8+Cjx0ZXh0IHg9Ii0zLjc1MjkxOTgxOTQxNzc3MyIgeT0iLTQ5LjY0MDI3NTA0MDQzNTU0IiBmb250LXNpemU9IjgiIGZpbGw9ImJsdWUiIGR5PSIwZW0iPmEqPC90ZXh0Pgo8L3N2Zz4=\">"
      ],
      "text/plain": [
       "<drawSvg.drawing.Drawing at 0x1e8c4ac08d0>"
      ]
     },
     "execution_count": 83,
     "metadata": {},
     "output_type": "execute_result"
    }
   ],
   "source": [
    "d = draw.Drawing(CANVAS_SIZE[0], CANVAS_SIZE[1], origin=ORIGIN, displayInline=False)\n",
    "d.setPixelScale(SCALE_METRIC)\n",
    "\n",
    "calculate_coords_and_draw_hairpin(x_start=30, y_start=30, angle=110, dom_len=60, side=1)\n",
    "\n",
    "d"
   ]
  }
 ],
 "metadata": {
  "kernelspec": {
   "display_name": "Python 3",
   "language": "python",
   "name": "python3"
  },
  "language_info": {
   "codemirror_mode": {
    "name": "ipython",
    "version": 3
   },
   "file_extension": ".py",
   "mimetype": "text/x-python",
   "name": "python",
   "nbconvert_exporter": "python",
   "pygments_lexer": "ipython3",
   "version": "3.7.3"
  }
 },
 "nbformat": 4,
 "nbformat_minor": 4
}

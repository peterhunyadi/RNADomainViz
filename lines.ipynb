{
 "cells": [
  {
   "cell_type": "code",
   "execution_count": 2,
   "metadata": {},
   "outputs": [],
   "source": [
    "import drawSvg as draw"
   ]
  },
  {
   "cell_type": "code",
   "execution_count": 9,
   "metadata": {},
   "outputs": [
    {
     "data": {
      "text/html": [
       "<img src=\"data:image/svg+xml;base64,PD94bWwgdmVyc2lvbj0iMS4wIiBlbmNvZGluZz0iVVRGLTgiPz4KPHN2ZyB4bWxucz0iaHR0cDovL3d3dy53My5vcmcvMjAwMC9zdmciIHhtbG5zOnhsaW5rPSJodHRwOi8vd3d3LnczLm9yZy8xOTk5L3hsaW5rIgogICAgIHdpZHRoPSI0MDAiIGhlaWdodD0iMjAwIiB2aWV3Qm94PSItMTAwLjAgLTUwLjAgMjAwIDEwMCI+CjxkZWZzPgo8L2RlZnM+CjxwYXRoIGQ9Ik0wLDAgTDcwLDAiIGZpbGw9IiNlZWVlMDAiIHN0cm9rZT0iYmxhY2siIC8+CjxwYXRoIGQ9Ik0wLC0yMCBMNzAsLTIwIiBmaWxsPSIjZWVlZTAwIiBzdHJva2U9ImJsYWNrIiAvPgo8dGV4dCB4PSIzNS4wIiB5PSItMjUiIGZvbnQtc2l6ZT0iOCIgZmlsbD0iYmx1ZSIgZHk9IjBlbSI+QTwvdGV4dD4KPHRleHQgeD0iMzUuMCIgeT0iNSIgZm9udC1zaXplPSI4IiBmaWxsPSJibHVlIiBkeT0iMGVtIj5CPC90ZXh0Pgo8L3N2Zz4=\">"
      ],
      "text/plain": [
       "<drawSvg.drawing.Drawing at 0x1a869db3710>"
      ]
     },
     "execution_count": 9,
     "metadata": {},
     "output_type": "execute_result"
    }
   ],
   "source": [
    "d = draw.Drawing(200, 100, origin='center', displayInline=False)\n",
    "\n",
    "#depends on previous domains\n",
    "start_a = [0, 0]\n",
    "\n",
    "#visualization helper metrics\n",
    "offset = 20\n",
    "offset2 = 5\n",
    "length = 70\n",
    "\n",
    "d.append(draw.Lines(start_a[0], start_a[1], #x, y coords will  be calculated from angles\n",
    "                    start_a[0] + length, start_a[1],\n",
    "                    close=False,\n",
    "                    fill='#eeee00',\n",
    "                    stroke='black'))\n",
    "d.append(draw.Lines(start_a[0], start_a[1] + offset,\n",
    "                    start_a[0] + length, start_a[1] + offset,\n",
    "                    close=False,\n",
    "                    fill='#eeee00',\n",
    "                    stroke='black'))\n",
    "d.append(draw.Text('A', 8, start_a[0] + length/2, start_a[1] + offset + offset2, fill='blue'))  # Text with font size 8\n",
    "d.append(draw.Text('B', 8, start_a[0] + length/2, start_a[1] - offset2, fill='blue'))\n",
    "d.setPixelScale(2)\n",
    "d"
   ]
  }
 ],
 "metadata": {
  "kernelspec": {
   "display_name": "Python 3",
   "language": "python",
   "name": "python3"
  },
  "language_info": {
   "codemirror_mode": {
    "name": "ipython",
    "version": 3
   },
   "file_extension": ".py",
   "mimetype": "text/x-python",
   "name": "python",
   "nbconvert_exporter": "python",
   "pygments_lexer": "ipython3",
   "version": "3.7.3"
  }
 },
 "nbformat": 4,
 "nbformat_minor": 4
}

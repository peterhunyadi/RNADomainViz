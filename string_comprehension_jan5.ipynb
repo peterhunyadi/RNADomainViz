{
 "cells": [
  {
   "cell_type": "markdown",
   "metadata": {},
   "source": [
    "# From kernel string to structure drawing\n",
    "\n",
    "### Thought process\n",
    "First, count domains and create a table that has nrow corresponding to dom. count. As the string is very systematic, with a regional expression I can separate the domains with all their information given.  \n",
    "The good thing here is that the sequence of domains is clear from the string.  \n",
    "Most important is to know which domain is paired with which. As a human, when I find a bracket in the string, I look for its counterpart. This will have to be done in the second step and put the pairing info into a dictionary(?)."
   ]
  },
  {
   "cell_type": "code",
   "execution_count": 1,
   "metadata": {},
   "outputs": [],
   "source": [
    "import numpy as np\n",
    "import re\n",
    "import networkx as nx\n",
    "from matplotlib import pyplot as plt"
   ]
  },
  {
   "cell_type": "markdown",
   "metadata": {},
   "source": [
    "Angle: [-179, 180]"
   ]
  },
  {
   "cell_type": "code",
   "execution_count": 2,
   "metadata": {},
   "outputs": [],
   "source": [
    "#error handling step 1\n",
    "def check_string_valid(string):\n",
    "    if re.search(\"[$ß€]\", string): #all special characters?\n",
    "        raise Exception(\"bad string\")\n",
    "        \n",
    "#check_string_valid(\"@90 a ß90 b\")"
   ]
  },
  {
   "cell_type": "code",
   "execution_count": 3,
   "metadata": {},
   "outputs": [
    {
     "data": {
      "text/plain": [
       "['@90 a(', ' B +', ')', '@45 e* ', 'f1']"
      ]
     },
     "execution_count": 3,
     "metadata": {},
     "output_type": "execute_result"
    }
   ],
   "source": [
    "string = '@90 a( B + ) @45 e* f1'\n",
    "re.findall('@?[0-9]* ?[a-z|A-Z|0-9|\\*]+[ \\(]?\\+?|\\)', string)"
   ]
  },
  {
   "cell_type": "markdown",
   "metadata": {},
   "source": [
    "table(int) - cols: angle before dom, length, dom type?, if there is a strand break after  \n",
    "dictionary - pairedness  \n",
    "list of list - name of domains, their preliminary type "
   ]
  },
  {
   "cell_type": "code",
   "execution_count": 4,
   "metadata": {},
   "outputs": [],
   "source": [
    "def comprehend_string(string):\n",
    "    #separate domains/count\n",
    "    pattern = re.compile('@?-?[0-9]* ?[a-z|A-Z|0-9|\\*]+[ \\(]? ?\\+?|\\) ?\\+?')\n",
    "    dom_raw_list = pattern.findall(string)\n",
    "    dom_count = len(dom_raw_list)\n",
    "        \n",
    "    #create empty data structures     \n",
    "    struct_info_array = np.zeros((dom_count, 4), dtype = 'int') #4 cols rn\n",
    "    name_list1 = []\n",
    "    \n",
    "    #loop through the raw domains, extract  \n",
    "    for dom_i in range(len(dom_raw_list)):\n",
    "        dom = dom_raw_list[dom_i]\n",
    "        dom = dom.strip()\n",
    "        \n",
    "        #fill table\n",
    "        if re.search(\"\\s\", dom):\n",
    "            dom_parts = re.split(\"\\s\", dom)\n",
    "            \n",
    "            for segm in dom_parts:\n",
    "                if segm[0] is \"@\": #col0 angle\n",
    "                    segm = segm.lstrip(\"@\")\n",
    "                    struct_info_array[dom_i, 0] = int(segm) #col0 to write to\n",
    "                    struct_info_array[dom_i, 1] = np.sign(int(segm)) #col1 to write to\n",
    "                    \n",
    "                elif segm is \"+\": #col2 strand break\n",
    "                    struct_info_array[dom_i, 2] = 1         #col2 to write to\n",
    "                else:\n",
    "                    name_list1.append(segm) #only keep the name part further\n",
    "        else:\n",
    "            name_list1.append(dom)\n",
    "        \n",
    "    #pairedness dictionary\n",
    "    paired_dict = {}\n",
    "    \n",
    "    for dom_i2 in range(len(dom_raw_list)):\n",
    "        if re.search(\"\\(\", dom_raw_list[dom_i2]):\n",
    "            bracket_count = 1\n",
    "            for next_dom in range(dom_i2+1, len(dom_raw_list)):\n",
    "                if re.search(\"\\(\", dom_raw_list[next_dom]):\n",
    "                    bracket_count += 1\n",
    "                elif re.search(\"\\)\", dom_raw_list[next_dom]):\n",
    "                    bracket_count -= 1\n",
    "                if bracket_count == 0:\n",
    "                    paired_dict[dom_i2] = next_dom\n",
    "                    break\n",
    "    \n",
    "    #name list of list / finding hairpin loops\n",
    "    #paireds in dict, hairpin loop known, other are unpaired -> substructure from these?\n",
    "    name_final_lol = []\n",
    "    \n",
    "    for dom_i3 in range(len(name_list1)):\n",
    "        \n",
    "        #paireds\n",
    "        if re.search(\"\\(\", name_list1[dom_i3]):\n",
    "            typ = \"paired\"\n",
    "            name = name_list1[dom_i3].strip(\"(+ \")\n",
    "        \n",
    "        #correcting closing bracket name\n",
    "        elif re.search(\"\\)\", name_list1[dom_i3]):\n",
    "            typ = \"paired\"\n",
    "            index_of_pair = list(paired_dict.keys())[list(paired_dict.values()).index(dom_i3)]\n",
    "            if re.search(\"\\*\", name_list1[index_of_pair]):\n",
    "                name = name_list1[index_of_pair].strip(\"\\(\").strip(\"\\*\")\n",
    "            else:\n",
    "                name = name_list1[index_of_pair].strip(\"\\(\") + \"*\"\n",
    "        \n",
    "        #all other are unpaireds\n",
    "        else:\n",
    "            typ = \"unpaired\"\n",
    "            name = name_list1[dom_i3].strip(\"+ \")\n",
    "        \n",
    "        name_final_lol.append([name, typ])\n",
    "        \n",
    "    return dom_raw_list, struct_info_array, paired_dict, name_final_lol"
   ]
  },
  {
   "cell_type": "code",
   "execution_count": 5,
   "metadata": {},
   "outputs": [
    {
     "data": {
      "text/plain": [
       "(array([[ -45,   -1,    0,    0],\n",
       "        [   0,    0,    0,    0],\n",
       "        [-135,   -1,    0,    0],\n",
       "        [   0,    0,    0,    0],\n",
       "        [   0,    0,    1,    0],\n",
       "        [   0,    0,    0,    0],\n",
       "        [   0,    0,    0,    0],\n",
       "        [   0,    0,    0,    0],\n",
       "        [   0,    0,    1,    0],\n",
       "        [   0,    0,    0,    0],\n",
       "        [   0,    0,    0,    0]]),\n",
       " {2: 10, 3: 6, 4: 5, 7: 9},\n",
       " [['d1S', 'unpaired'],\n",
       "  ['T2', 'unpaired'],\n",
       "  ['b', 'paired'],\n",
       "  ['a', 'paired'],\n",
       "  ['t2', 'paired'],\n",
       "  ['t2*', 'paired'],\n",
       "  ['a*', 'paired'],\n",
       "  ['c*', 'paired'],\n",
       "  ['t1*', 'unpaired'],\n",
       "  ['c', 'paired'],\n",
       "  ['b*', 'paired']])"
      ]
     },
     "execution_count": 5,
     "metadata": {},
     "output_type": "execute_result"
    }
   ],
   "source": [
    "string = \"@-45 d1S T2 @-135 b( a( t2( + ) ) c*( t1* + ) )\"\n",
    "comprehend_string(string)[1:4]"
   ]
  },
  {
   "cell_type": "code",
   "execution_count": 6,
   "metadata": {},
   "outputs": [
    {
     "data": {
      "text/plain": [
       "(array([[0, 0, 0, 0],\n",
       "        [0, 0, 0, 0],\n",
       "        [0, 0, 1, 0],\n",
       "        [0, 0, 0, 0],\n",
       "        [0, 0, 0, 0],\n",
       "        [0, 0, 0, 0],\n",
       "        [0, 0, 0, 0],\n",
       "        [0, 0, 1, 0],\n",
       "        [0, 0, 0, 0],\n",
       "        [0, 0, 0, 0],\n",
       "        [0, 0, 0, 0]]),\n",
       " {0: 10, 1: 9, 2: 4, 5: 8},\n",
       " [['t1', 'paired'],\n",
       "  ['c', 'paired'],\n",
       "  ['a', 'paired'],\n",
       "  ['t2*', 'unpaired'],\n",
       "  ['a*', 'paired'],\n",
       "  ['b*', 'paired'],\n",
       "  ['d2', 'unpaired'],\n",
       "  ['t3', 'unpaired'],\n",
       "  ['b', 'paired'],\n",
       "  ['c*', 'paired'],\n",
       "  ['t1*', 'paired']])"
      ]
     },
     "execution_count": 6,
     "metadata": {},
     "output_type": "execute_result"
    }
   ],
   "source": [
    "string2 = \"t1( c( a( + t2* ) b*( d2 t3 + ) ) )\"\n",
    "comprehend_string(string2)[1:4]"
   ]
  },
  {
   "cell_type": "code",
   "execution_count": 7,
   "metadata": {},
   "outputs": [
    {
     "data": {
      "text/plain": [
       "(array([[ -90,   -1,    0,    0],\n",
       "        [-135,   -1,    0,    0],\n",
       "        [ -90,   -1,    0,    0],\n",
       "        [   0,    0,    0,    0],\n",
       "        [   0,    0,    0,    0],\n",
       "        [-135,   -1,    0,    0],\n",
       "        [ -90,   -1,    0,    0],\n",
       "        [   0,    0,    0,    0],\n",
       "        [   0,    0,    0,    0],\n",
       "        [-135,   -1,    0,    0],\n",
       "        [-135,   -1,    0,    0],\n",
       "        [   0,    0,    0,    0],\n",
       "        [   0,    0,    0,    0],\n",
       "        [-135,   -1,    0,    0],\n",
       "        [   0,    0,    0,    0],\n",
       "        [   0,    0,    0,    0]]),\n",
       " {0: 14, 2: 4, 6: 8, 10: 12},\n",
       " [['aa', 'paired'],\n",
       "  ['i1', 'unpaired'],\n",
       "  ['da', 'paired'],\n",
       "  ['dl', 'unpaired'],\n",
       "  ['da*', 'paired'],\n",
       "  ['i2', 'unpaired'],\n",
       "  ['aca', 'paired'],\n",
       "  ['acl', 'unpaired'],\n",
       "  ['aca*', 'paired'],\n",
       "  ['vr', 'unpaired'],\n",
       "  ['pa', 'paired'],\n",
       "  ['pl', 'unpaired'],\n",
       "  ['pa*', 'paired'],\n",
       "  ['i3', 'unpaired'],\n",
       "  ['aa*', 'paired'],\n",
       "  ['c', 'unpaired']])"
      ]
     },
     "execution_count": 7,
     "metadata": {},
     "output_type": "execute_result"
    }
   ],
   "source": [
    "string3 = \"@-90 aa( @-135 i1 @-90 da( dl ) @-135 i2 @-90 aca( acl ) @-135 vr @-135 pa( pl ) @-135 i3 ) @0 c\"\n",
    "comprehend_string(string3)[1:4]"
   ]
  },
  {
   "cell_type": "markdown",
   "metadata": {},
   "source": [
    "DETERMINE STRUCTURE   \n",
    "1. Figure out if an unpaired region is from a special type - by making a network graph of the connected domains (either connected by sequence (red edge) or by pairedness (green edge)) we can find subgraphs that correspond to special domain structures that need to be handled differently.  \n",
    "\n",
    "Currently we check:   \n",
    "hairpin loop: easy, its neighbors are paired  \n",
    "unhinged: has only one neighbor domain - these will need extra care, especially ones resulting from strand break  \n",
    "bulgeloop: we need to find this pentagon in the network(r-g-r-g-r)  \n",
    "multiloop: hard, as any number of unpaired doms can be connected with each other, only check r-g-r connection    \n",
    "\n",
    "nick - not tracked, but strand breaks will need much work in general"
   ]
  },
  {
   "cell_type": "code",
   "execution_count": 79,
   "metadata": {},
   "outputs": [
    {
     "name": "stdout",
     "output_type": "stream",
     "text": [
      "[0, 2, 5, 7, 11, 13, 16, 18, 20, 24]\n",
      "0 : is unhinged\n",
      "2 : is hairpin loop\n",
      "25 4 [(25, 24, {'color': 'r'})]\n",
      "25 6 [(25, 24, {'color': 'r'}), (25, 4, {'color': 'g'})]\n",
      "10 6 [(10, 9, {'color': 'r'}), (10, 11, {'color': 'r'})]\n",
      "10 6 [(10, 9, {'color': 'r'}), (10, 11, {'color': 'r'})]\n",
      "7 : is bulgeloop\n",
      "10 8 [(10, 9, {'color': 'r'}), (10, 11, {'color': 'r'}), (10, 6, {'color': 'g'})]\n",
      "9 8 [(9, 10, {'color': 'r'})]\n",
      "6 10 [(6, 5, {'color': 'r'}), (6, 7, {'color': 'r'})]\n",
      "6 12 [(6, 5, {'color': 'r'}), (6, 7, {'color': 'r'}), (6, 10, {'color': 'g'})]\n",
      "17 12 [(17, 16, {'color': 'r'}), (17, 18, {'color': 'r'})]\n",
      "17 12 [(17, 16, {'color': 'r'}), (17, 18, {'color': 'r'})]\n",
      "17 14 [(17, 16, {'color': 'r'}), (17, 18, {'color': 'r'}), (17, 12, {'color': 'g'})]\n",
      "15 14 [(15, 16, {'color': 'r'})]\n",
      "14 15 [(14, 13, {'color': 'r'})]\n",
      "14 17 [(14, 13, {'color': 'r'}), (14, 15, {'color': 'g'})]\n",
      "12 17 [(12, 11, {'color': 'r'}), (12, 13, {'color': 'r'})]\n",
      "12 17 [(12, 11, {'color': 'r'}), (12, 13, {'color': 'r'})]\n",
      "12 19 [(12, 11, {'color': 'r'}), (12, 13, {'color': 'r'}), (12, 17, {'color': 'g'})]\n",
      "23 19 [(23, 22, {'color': 'r'}), (23, 24, {'color': 'r'})]\n",
      "20 : is unhinged\n",
      "19 23 [(19, 18, {'color': 'r'}), (19, 20, {'color': 'r'})]\n",
      "19 25 [(19, 18, {'color': 'r'}), (19, 20, {'color': 'r'}), (19, 23, {'color': 'g'})]\n",
      "4 25 [(4, 3, {'color': 'r'}), (4, 5, {'color': 'r'})]\n"
     ]
    }
   ],
   "source": [
    "def ds1_find_type_of_unpaired(dom_raw_list, paired_dict, name_final_lol):\n",
    "    #append edges to graph\n",
    "    G = nx.Graph()\n",
    "    \n",
    "    for dom_to_dom in range(len(name_final_lol)-1):\n",
    "        if re.search(\"\\+\", dom_raw_list[dom_to_dom]) is None:\n",
    "            G.add_edge(dom_to_dom, dom_to_dom+1, color='r') #domains that have a connection point are conn. with red edge\n",
    "    for pair in paired_dict:\n",
    "        G.add_edge(pair, paired_dict[pair], color='g') #paired domains are connected with green edge\n",
    "    \n",
    "    #index of ununpaireds - these don't need to be checked\n",
    "    paired_node_list = []\n",
    "    for node in paired_dict:\n",
    "        paired_node_list.append(node)\n",
    "        paired_node_list.append(paired_dict[node])\n",
    "    \n",
    "    #get unpaired too\n",
    "    unpaired_node_list = []\n",
    "    for node_index in range(len(name_final_lol)-1):\n",
    "        if node_index not in paired_node_list:\n",
    "            unpaired_node_list.append(node_index)\n",
    "    print(unpaired_node_list)\n",
    "    \n",
    "    #check unpaired domains on network (depending on their node neighborhood)\n",
    "    for node_index in unpaired_node_list:\n",
    "        direct_neigh = [n for n in G.neighbors(node_index)] #neighbors of current node\n",
    "        direct_neigh.sort()\n",
    "            \n",
    "        #unhinged \n",
    "        if len(direct_neigh) == 1:\n",
    "            print(node_index, \": is unhinged\")\n",
    "            \n",
    "        else:\n",
    "            #hairpin\n",
    "            if direct_neigh[0] in paired_dict and paired_dict[direct_neigh[0]] == direct_neigh[1]:\n",
    "                print(node_index, \": is hairpin loop\")\n",
    "            \n",
    "            else:\n",
    "                path_redgreen = [] #if we find nodes 2edges away which can be found through a red-green path\n",
    "                                   #we write them  here\n",
    "                redgreenred_to_unpaired = []\n",
    "                multiloop_dict = {}\n",
    "                \n",
    "                for neigh in direct_neigh:\n",
    "                    curr_neigh_edges = [n for n in G.edges.data(nbunch=neigh) if n != node_index]\n",
    "                    for edge in range(len(curr_neigh_edges)):\n",
    "                        if curr_neigh_edges[edge][2]['color'] is 'g':\n",
    "                            path_redgreen.append(curr_neigh_edges[edge][1])\n",
    "                            \n",
    "                    #bulgeloop\n",
    "                    if len(path_redgreen) == 2:\n",
    "                        if tuple(path_redgreen) in [n for n in G.edges()] or tuple([path_redgreen[1], path_redgreen[0]]) in [n for n in G.edges()]:\n",
    "                            print(node_index, \": is bulgeloop\")\n",
    "                    \n",
    "                \n",
    "                    #multiloop\n",
    "                    if len(path_redgreen) > 0:\n",
    "                        for rg in path_redgreen:\n",
    "                            neigh_3away = [n for n in G.edges.data(nbunch=rg) if n[1] != neigh]\n",
    "                            print(rg, neigh, neigh_3away)\n",
    "                            #if neigh_3away[rg][2]['color'] is 'r':\n",
    "                            #    redgreenred_to_unpaired.append(rg)\n",
    "                    \n",
    "                    \n",
    "                    \n",
    "                         \n",
    "    return G\n",
    "\n",
    "string = \"a b( c ) d( e f( g h( + ) ) i j( k l( + ) m ) n o( p + q( + ) ) r )\"\n",
    "dt1, dt2, dt3, dt4 = comprehend_string(string)\n",
    "G = ds1_find_type_of_unpaired(dt1, dt3, dt4)"
   ]
  },
  {
   "cell_type": "code",
   "execution_count": 83,
   "metadata": {},
   "outputs": [
    {
     "data": {
      "text/plain": [
       "[[2, 3, 1],\n",
       " [16, 15, 14, 13, 12, 17],\n",
       " [5, 6, 10, 11, 12, 17, 18, 19, 23, 24, 25, 4],\n",
       " [9, 8, 7, 6, 10]]"
      ]
     },
     "execution_count": 83,
     "metadata": {},
     "output_type": "execute_result"
    }
   ],
   "source": [
    "nx.cycle_basis(G)"
   ]
  },
  {
   "cell_type": "code",
   "execution_count": 20,
   "metadata": {},
   "outputs": [],
   "source": [
    "def draw_skeleton(G):\n",
    "    pos = nx.kamada_kawai_layout(G)\n",
    "    colors = [G[u][v]['color'] for u,v in G.edges()]\n",
    "    plt.figure(figsize=(16,9))\n",
    "\n",
    "    nx.draw_networkx(G, pos = pos, with_label = True, node_size=600,font_size=15, edge_color=colors, \n",
    "                     node_color='y', width=2)"
   ]
  },
  {
   "cell_type": "code",
   "execution_count": 21,
   "metadata": {},
   "outputs": [
    {
     "name": "stdout",
     "output_type": "stream",
     "text": [
      "[2, 10, 3, 6, 4, 5, 7, 9]\n",
      "0\n",
      "1\n",
      "8\n"
     ]
    },
    {
     "name": "stderr",
     "output_type": "stream",
     "text": [
      "C:\\Users\\peter\\Anaconda3\\lib\\site-packages\\networkx\\drawing\\nx_pylab.py:579: MatplotlibDeprecationWarning: \n",
      "The iterable function was deprecated in Matplotlib 3.1 and will be removed in 3.3. Use np.iterable instead.\n",
      "  if not cb.iterable(width):\n",
      "C:\\Users\\peter\\Anaconda3\\lib\\site-packages\\networkx\\drawing\\nx_pylab.py:585: MatplotlibDeprecationWarning: \n",
      "The iterable function was deprecated in Matplotlib 3.1 and will be removed in 3.3. Use np.iterable instead.\n",
      "  and cb.iterable(edge_color) \\\n"
     ]
    },
    {
     "data": {
      "image/png": "[encoded data removed]",
      "text/plain": [
       "<Figure size 1152x648 with 1 Axes>"
      ]
     },
     "metadata": {},
     "output_type": "display_data"
    }
   ],
   "source": [
    "string = \"@-45 d1S T2 @-135 b( a( t2( + ) ) c*( t1* + ) )\"\n",
    "\n",
    "dt1, dt2, dt3, dt4 = comprehend_string(string)\n",
    "G = ds1_find_type_of_unpaired(dt1, dt3, dt4)\n",
    "draw_skeleton(G)"
   ]
  },
  {
   "cell_type": "code",
   "execution_count": 31,
   "metadata": {},
   "outputs": [
    {
     "name": "stdout",
     "output_type": "stream",
     "text": [
      "0\n",
      "0 : is unhinged\n",
      "2\n",
      "5\n",
      "7\n",
      "11\n",
      "13\n",
      "16\n",
      "18\n",
      "20\n",
      "20 : is unhinged\n",
      "24\n"
     ]
    },
    {
     "name": "stderr",
     "output_type": "stream",
     "text": [
      "C:\\Users\\peter\\Anaconda3\\lib\\site-packages\\networkx\\drawing\\nx_pylab.py:579: MatplotlibDeprecationWarning: \n",
      "The iterable function was deprecated in Matplotlib 3.1 and will be removed in 3.3. Use np.iterable instead.\n",
      "  if not cb.iterable(width):\n",
      "C:\\Users\\peter\\Anaconda3\\lib\\site-packages\\networkx\\drawing\\nx_pylab.py:585: MatplotlibDeprecationWarning: \n",
      "The iterable function was deprecated in Matplotlib 3.1 and will be removed in 3.3. Use np.iterable instead.\n",
      "  and cb.iterable(edge_color) \\\n"
     ]
    },
    {
     "data": {
      "image/png": "[encoded data removed]",
      "text/plain": [
       "<Figure size 1152x648 with 1 Axes>"
      ]
     },
     "metadata": {},
     "output_type": "display_data"
    }
   ],
   "source": [
    "string = \"a b( c ) d( e f( g h( + ) ) i j( k l( + ) m ) n o( p + q( + ) ) r )\"\n",
    "\n",
    "dt1, dt2, dt3, dt4 = comprehend_string(string)\n",
    "G = ds1_find_type_of_unpaired(dt1, dt3, dt4)\n",
    "draw_skeleton(G)"
   ]
  },
  {
   "cell_type": "code",
   "execution_count": 32,
   "metadata": {},
   "outputs": [
    {
     "data": {
      "text/plain": [
       "EdgeDataView([(0, 1, {'color': 'r'}), (1, 2, {'color': 'r'}), (1, 3, {'color': 'g'}), (2, 3, {'color': 'r'}), (3, 4, {'color': 'r'}), (4, 5, {'color': 'r'}), (4, 25, {'color': 'g'}), (5, 6, {'color': 'r'}), (6, 7, {'color': 'r'}), (6, 10, {'color': 'g'}), (7, 8, {'color': 'r'}), (8, 9, {'color': 'g'}), (9, 10, {'color': 'r'}), (10, 11, {'color': 'r'}), (11, 12, {'color': 'r'}), (12, 13, {'color': 'r'}), (12, 17, {'color': 'g'}), (13, 14, {'color': 'r'}), (14, 15, {'color': 'g'}), (15, 16, {'color': 'r'}), (16, 17, {'color': 'r'}), (17, 18, {'color': 'r'}), (18, 19, {'color': 'r'}), (19, 20, {'color': 'r'}), (19, 23, {'color': 'g'}), (22, 23, {'color': 'r'}), (22, 21, {'color': 'g'}), (23, 24, {'color': 'r'}), (24, 25, {'color': 'r'})])"
      ]
     },
     "execution_count": 32,
     "metadata": {},
     "output_type": "execute_result"
    }
   ],
   "source": [
    "G.edges.data()"
   ]
  },
  {
   "cell_type": "code",
   "execution_count": 33,
   "metadata": {},
   "outputs": [
    {
     "data": {
      "text/plain": [
       "[(8, 7, {'color': 'r'}), (8, 9, {'color': 'g'})]"
      ]
     },
     "execution_count": 33,
     "metadata": {},
     "output_type": "execute_result"
    }
   ],
   "source": [
    "[n for n in G.edges.data(nbunch=8)]"
   ]
  },
  {
   "cell_type": "code",
   "execution_count": 64,
   "metadata": {},
   "outputs": [
    {
     "data": {
      "text/plain": [
       "tuple"
      ]
     },
     "execution_count": 64,
     "metadata": {},
     "output_type": "execute_result"
    }
   ],
   "source": [
    "tt = [n for n in G.edges(nbunch=8)]\n",
    "type(tt[0])"
   ]
  },
  {
   "cell_type": "code",
   "execution_count": 66,
   "metadata": {},
   "outputs": [],
   "source": [
    "if (8, 9) in [(8, 7), (9, 8)]:\n",
    "    print(\"y\")"
   ]
  },
  {
   "cell_type": "code",
   "execution_count": 40,
   "metadata": {},
   "outputs": [
    {
     "name": "stdout",
     "output_type": "stream",
     "text": [
      "nah\n"
     ]
    }
   ],
   "source": [
    "#more verbose?\n",
    "edge_of_8 = [n for n in G.edges.data(nbunch=8)]\n",
    "if edge_of_8[0][2]['color'] is 'r':\n",
    "    print(\"yea\")\n",
    "else:\n",
    "    print(\"nah\")"
   ]
  },
  {
   "cell_type": "code",
   "execution_count": 46,
   "metadata": {},
   "outputs": [
    {
     "data": {
      "text/plain": [
       "[9, 11, 6]"
      ]
     },
     "execution_count": 46,
     "metadata": {},
     "output_type": "execute_result"
    }
   ],
   "source": [
    "[n for n in G.neighbors(10)]"
   ]
  },
  {
   "cell_type": "markdown",
   "metadata": {},
   "source": [
    "2. Given angles determine the side for the substructure they are in. Using this, the whole column can be filled around the given info, if not provided, default is negative (-1) side.\n",
    "3. complete angle/length col  \n",
    "4. calculate  coords"
   ]
  },
  {
   "cell_type": "code",
   "execution_count": null,
   "metadata": {},
   "outputs": [],
   "source": [
    "def ds2_fill_side_col(array, dictionary, list_of_lists):\n",
    "    dom_count = len(list_of_lists)\n",
    "    \n",
    "    #complete side col ~ get same side for paireds/hairpins, default to -1\n",
    "    curr_side = -1\n",
    "    for dom in range(dom_count):\n",
    "\n",
    "        if dom in dictionary:\n",
    "            if array[dom, 1] != 0:\n",
    "                segside = array[dom, 1]\n",
    "            elif array[dictionary[dom], 1] != 0:\n",
    "                segside = array[dictionary[dom], 1]\n",
    "            else:\n",
    "                segside = curr_side\n",
    "            \n",
    "            #if hairpin\n",
    "            if dom == dictionary[dom]-2:\n",
    "                array[dom, 1] = segside\n",
    "                array[dom+1, 1] = segside\n",
    "                array[dom+2, 1] = segside\n",
    "            \n",
    "            #if not hairpin\n",
    "            else:\n",
    "                array[dom, 1] = segside\n",
    "                array[dictionary[dom], 1] = segside\n",
    "            \n",
    "        else:\n",
    "            if array[dom, 1] == 0:\n",
    "                array[dom, 1] = curr_side\n",
    "        \n",
    "        curr_side = array[dom, 1] #update curr side after changes\n",
    "        \n",
    "    return array, list_of_lists"
   ]
  },
  {
   "cell_type": "code",
   "execution_count": null,
   "metadata": {},
   "outputs": [],
   "source": [
    "array, dictionary, list_of_lists = comprehend_string(string)\n",
    "determine_structure(array, dictionary, list_of_lists)"
   ]
  },
  {
   "cell_type": "code",
   "execution_count": null,
   "metadata": {},
   "outputs": [],
   "source": [
    "str4 = \"@-90 a( b ) @-90 c @90 d( e ) @90 f\"\n",
    "array, dictionary, list_of_lists = comprehend_string(str4)\n",
    "determine_structure(array, dictionary, list_of_lists)"
   ]
  }
 ],
 "metadata": {
  "kernelspec": {
   "display_name": "Python 3",
   "language": "python",
   "name": "python3"
  },
  "language_info": {
   "codemirror_mode": {
    "name": "ipython",
    "version": 3
   },
   "file_extension": ".py",
   "mimetype": "text/x-python",
   "name": "python",
   "nbconvert_exporter": "python",
   "pygments_lexer": "ipython3",
   "version": "3.7.4"
  }
 },
 "nbformat": 4,
 "nbformat_minor": 4
}
